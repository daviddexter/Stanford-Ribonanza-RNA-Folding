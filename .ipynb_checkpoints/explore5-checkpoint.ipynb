{
 "cells": [
  {
   "cell_type": "code",
   "execution_count": 1,
   "id": "12d9df6f-882d-49c1-a1d0-a3f2ed8dc698",
   "metadata": {},
   "outputs": [],
   "source": [
    "import polars as pl\n",
    "import seaborn as sns\n",
    "import numpy as np\n",
    "from scipy import stats\n",
    "\n",
    "from rna_model import load_training_dataset,get_reactivity_cols,get_reactivity_error_cols\n",
    "lf = load_training_dataset()"
   ]
  },
  {
   "cell_type": "code",
   "execution_count": 2,
   "id": "9a7554d1-f07e-400d-bbcc-d051aba0f158",
   "metadata": {},
   "outputs": [],
   "source": [
    "reactivity_cols = get_reactivity_cols()\n",
    "reactivity_err_cols = get_reactivity_error_cols()"
   ]
  },
  {
   "cell_type": "code",
   "execution_count": 3,
   "id": "7ed4d6c5-9fd2-4562-b050-474dc8149960",
   "metadata": {},
   "outputs": [],
   "source": [
    "lf_reactivity = lf.melt( value_vars=reactivity_cols).select(pl.col('value').alias('reactivity_values'))"
   ]
  },
  {
   "cell_type": "code",
   "execution_count": 4,
   "id": "3a8d2eca-9196-4a36-a035-b9693b16f797",
   "metadata": {},
   "outputs": [],
   "source": [
    "lf_err_reactivity = lf.melt( value_vars=reactivity_err_cols).select(pl.col('value').alias('reactivity_error_values'))"
   ]
  },
  {
   "cell_type": "code",
   "execution_count": 5,
   "id": "8081c101-259d-43b3-a3fc-5f996730cfc3",
   "metadata": {},
   "outputs": [],
   "source": [
    "df_reactivity = lf_reactivity.collect(streaming=True)"
   ]
  },
  {
   "cell_type": "code",
   "execution_count": 6,
   "id": "13c86ac3-2388-4c9f-8811-c9002c3f11d5",
   "metadata": {},
   "outputs": [],
   "source": [
    "df_err_reactivity = lf_err_reactivity.collect(streaming=True)"
   ]
  },
  {
   "cell_type": "code",
   "execution_count": 7,
   "id": "d4b475f5-3b25-4016-929b-189d57e3fa11",
   "metadata": {},
   "outputs": [],
   "source": [
    "df = df_reactivity.hstack(df_err_reactivity)\n",
    "del df_reactivity\n",
    "del df_err_reactivity"
   ]
  },
  {
   "cell_type": "code",
   "execution_count": 8,
   "id": "99c44e5b-da61-4540-bd75-f2e029a92500",
   "metadata": {},
   "outputs": [
    {
     "name": "stdout",
     "output_type": "stream",
     "text": [
      "shape: (1, 1)\n",
      "┌───────────────────┐\n",
      "│ reactivity_values │\n",
      "│ ---               │\n",
      "│ f64               │\n",
      "╞═══════════════════╡\n",
      "│ -129.281          │\n",
      "└───────────────────┘\n",
      "shape: (1, 1)\n",
      "┌───────────────────┐\n",
      "│ reactivity_values │\n",
      "│ ---               │\n",
      "│ f64               │\n",
      "╞═══════════════════╡\n",
      "│ 129.281           │\n",
      "└───────────────────┘\n",
      "shape: (1, 1)\n",
      "┌───────────────────┐\n",
      "│ reactivity_values │\n",
      "│ ---               │\n",
      "│ f64               │\n",
      "╞═══════════════════╡\n",
      "│ 0.0               │\n",
      "└───────────────────┘\n",
      "shape: (1, 1)\n",
      "┌───────────────────┐\n",
      "│ reactivity_values │\n",
      "│ ---               │\n",
      "│ f64               │\n",
      "╞═══════════════════╡\n",
      "│ 0.917373          │\n",
      "└───────────────────┘\n"
     ]
    }
   ],
   "source": [
    "print(df.select(pl.min(\"reactivity_values\")))\n",
    "print(df.select(pl.max(\"reactivity_values\")))\n",
    "print(df.select(pl.median(\"reactivity_values\")))\n",
    "print(df.select(pl.std(\"reactivity_values\")))"
   ]
  },
  {
   "cell_type": "code",
   "execution_count": 9,
   "id": "7ed96163-fa8f-4d90-8cae-65990d14be2d",
   "metadata": {},
   "outputs": [
    {
     "name": "stdout",
     "output_type": "stream",
     "text": [
      "shape: (1, 1)\n",
      "┌─────────────────────────┐\n",
      "│ reactivity_error_values │\n",
      "│ ---                     │\n",
      "│ f64                     │\n",
      "╞═════════════════════════╡\n",
      "│ 0.0                     │\n",
      "└─────────────────────────┘\n",
      "shape: (1, 1)\n",
      "┌─────────────────────────┐\n",
      "│ reactivity_error_values │\n",
      "│ ---                     │\n",
      "│ f64                     │\n",
      "╞═════════════════════════╡\n",
      "│ 3.0113e6                │\n",
      "└─────────────────────────┘\n",
      "shape: (1, 1)\n",
      "┌─────────────────────────┐\n",
      "│ reactivity_error_values │\n",
      "│ ---                     │\n",
      "│ f64                     │\n",
      "╞═════════════════════════╡\n",
      "│ 0.0                     │\n",
      "└─────────────────────────┘\n",
      "shape: (1, 1)\n",
      "┌─────────────────────────┐\n",
      "│ reactivity_error_values │\n",
      "│ ---                     │\n",
      "│ f64                     │\n",
      "╞═════════════════════════╡\n",
      "│ 267.641168              │\n",
      "└─────────────────────────┘\n"
     ]
    }
   ],
   "source": [
    "print(df.select(pl.min(\"reactivity_error_values\")))\n",
    "print(df.select(pl.max(\"reactivity_error_values\")))\n",
    "print(df.select(pl.median(\"reactivity_error_values\")))\n",
    "print(df.select(pl.std(\"reactivity_error_values\")))"
   ]
  },
  {
   "cell_type": "code",
   "execution_count": 10,
   "id": "fd5ac1a6-ea91-4aba-bb9a-3c5cfcb20812",
   "metadata": {},
   "outputs": [
    {
     "ename": "AttributeError",
     "evalue": "'DataFrame' object has no attribute 'sink_parquet'",
     "output_type": "error",
     "traceback": [
      "\u001b[0;31m---------------------------------------------------------------------------\u001b[0m",
      "\u001b[0;31mAttributeError\u001b[0m                            Traceback (most recent call last)",
      "Cell \u001b[0;32mIn[10], line 2\u001b[0m\n\u001b[1;32m      1\u001b[0m reactivity_vs_reactivity_err_parquet \u001b[38;5;241m=\u001b[39m \u001b[38;5;124m\"\u001b[39m\u001b[38;5;124m/home/kineticengines/app/datasets/reactivity_vs_reactivity_err.parquet\u001b[39m\u001b[38;5;124m\"\u001b[39m\n\u001b[0;32m----> 2\u001b[0m \u001b[43mdf\u001b[49m\u001b[38;5;241;43m.\u001b[39;49m\u001b[43msink_parquet\u001b[49m(reactivity_vs_reactivity_err_parquet,compression_level\u001b[38;5;241m=\u001b[39m\u001b[38;5;241m20\u001b[39m)\n",
      "\u001b[0;31mAttributeError\u001b[0m: 'DataFrame' object has no attribute 'sink_parquet'"
     ]
    }
   ],
   "source": [
    "reactivity_vs_reactivity_err_parquet = \"/home/kineticengines/app/datasets/reactivity_vs_reactivity_err.parquet\"\n",
    "df.write_parquet(reactivity_vs_reactivity_err_parquet,compression_level=20)"
   ]
  },
  {
   "cell_type": "code",
   "execution_count": null,
   "id": "f4a55d1e-e706-4476-9730-1c2c8f2901d4",
   "metadata": {},
   "outputs": [],
   "source": [
    "# sns.regplot(x = \"reactivity_values\", y = \"reactivity_error_values\", \n",
    "#             data = df, scatter_kws = {\"color\": \"black\", \"alpha\": 0.5}, \n",
    "#             line_kws = {\"color\": \"red\"},  ci = 99)"
   ]
  }
 ],
 "metadata": {
  "kernelspec": {
   "display_name": "Python 3 (ipykernel)",
   "language": "python",
   "name": "python3"
  },
  "language_info": {
   "codemirror_mode": {
    "name": "ipython",
    "version": 3
   },
   "file_extension": ".py",
   "mimetype": "text/x-python",
   "name": "python",
   "nbconvert_exporter": "python",
   "pygments_lexer": "ipython3",
   "version": "3.11.0rc1"
  }
 },
 "nbformat": 4,
 "nbformat_minor": 5
}
