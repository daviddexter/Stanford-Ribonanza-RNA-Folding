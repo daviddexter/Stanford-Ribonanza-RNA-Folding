{
 "cells": [
  {
   "cell_type": "code",
   "execution_count": 1,
   "id": "344b6e61-e6cf-473c-ab4c-7dad565f83a8",
   "metadata": {},
   "outputs": [],
   "source": [
    "import polars as pl\n",
    "import seaborn as sns\n",
    "from dask import dataframe as ddf\n",
    "\n",
    "reactivity_vs_reactivity_err_parquet = \"/home/kineticengines/app/datasets/reactivity_vs_reactivity_err.parquet\""
   ]
  },
  {
   "cell_type": "code",
   "execution_count": 2,
   "id": "ddd96e3b-f077-4350-a367-e9c9aae598d6",
   "metadata": {},
   "outputs": [],
   "source": [
    "df = pl.scan_parquet(reactivity_vs_reactivity_err_parquet,n_rows=2_000_000).collect(streaming=True)"
   ]
  },
  {
   "cell_type": "code",
   "execution_count": 3,
   "id": "2a7d14b3-f36e-4396-8e08-9981fbdd7f99",
   "metadata": {},
   "outputs": [
    {
     "ename": "TypeError",
     "evalue": "'data' must be pandas DataFrame object, not: <class 'polars.dataframe.frame.DataFrame'>",
     "output_type": "error",
     "traceback": [
      "\u001b[0;31m---------------------------------------------------------------------------\u001b[0m",
      "\u001b[0;31mTypeError\u001b[0m                                 Traceback (most recent call last)",
      "Cell \u001b[0;32mIn[3], line 4\u001b[0m\n\u001b[1;32m      1\u001b[0m \u001b[38;5;66;03m# sns.regplot(x = \"reactivity_values\", y = \"reactivity_error_values\", \u001b[39;00m\n\u001b[1;32m      2\u001b[0m \u001b[38;5;66;03m#             data = df, scatter_kws = {\"color\": \"blue\", \"alpha\": 0.5}, \u001b[39;00m\n\u001b[1;32m      3\u001b[0m \u001b[38;5;66;03m#             line_kws = {\"color\": \"red\"},  ci = 99)\u001b[39;00m\n\u001b[0;32m----> 4\u001b[0m \u001b[43msns\u001b[49m\u001b[38;5;241;43m.\u001b[39;49m\u001b[43mpairplot\u001b[49m\u001b[43m(\u001b[49m\u001b[43mdf\u001b[49m\u001b[43m)\u001b[49m\n",
      "File \u001b[0;32m~/.local/lib/python3.11/site-packages/seaborn/axisgrid.py:2103\u001b[0m, in \u001b[0;36mpairplot\u001b[0;34m(data, hue, hue_order, palette, vars, x_vars, y_vars, kind, diag_kind, markers, height, aspect, corner, dropna, plot_kws, diag_kws, grid_kws, size)\u001b[0m\n\u001b[1;32m   2100\u001b[0m     warnings\u001b[38;5;241m.\u001b[39mwarn(msg, \u001b[38;5;167;01mUserWarning\u001b[39;00m)\n\u001b[1;32m   2102\u001b[0m \u001b[38;5;28;01mif\u001b[39;00m \u001b[38;5;129;01mnot\u001b[39;00m \u001b[38;5;28misinstance\u001b[39m(data, pd\u001b[38;5;241m.\u001b[39mDataFrame):\n\u001b[0;32m-> 2103\u001b[0m     \u001b[38;5;28;01mraise\u001b[39;00m \u001b[38;5;167;01mTypeError\u001b[39;00m(\n\u001b[1;32m   2104\u001b[0m         \u001b[38;5;124mf\u001b[39m\u001b[38;5;124m\"\u001b[39m\u001b[38;5;124m'\u001b[39m\u001b[38;5;124mdata\u001b[39m\u001b[38;5;124m'\u001b[39m\u001b[38;5;124m must be pandas DataFrame object, not: \u001b[39m\u001b[38;5;132;01m{\u001b[39;00m\u001b[38;5;28mtype\u001b[39m(data)\u001b[38;5;132;01m}\u001b[39;00m\u001b[38;5;124m\"\u001b[39m)\n\u001b[1;32m   2106\u001b[0m plot_kws \u001b[38;5;241m=\u001b[39m {} \u001b[38;5;28;01mif\u001b[39;00m plot_kws \u001b[38;5;129;01mis\u001b[39;00m \u001b[38;5;28;01mNone\u001b[39;00m \u001b[38;5;28;01melse\u001b[39;00m plot_kws\u001b[38;5;241m.\u001b[39mcopy()\n\u001b[1;32m   2107\u001b[0m diag_kws \u001b[38;5;241m=\u001b[39m {} \u001b[38;5;28;01mif\u001b[39;00m diag_kws \u001b[38;5;129;01mis\u001b[39;00m \u001b[38;5;28;01mNone\u001b[39;00m \u001b[38;5;28;01melse\u001b[39;00m diag_kws\u001b[38;5;241m.\u001b[39mcopy()\n",
      "\u001b[0;31mTypeError\u001b[0m: 'data' must be pandas DataFrame object, not: <class 'polars.dataframe.frame.DataFrame'>"
     ]
    }
   ],
   "source": [
    "# sns.regplot(x = \"reactivity_values\", y = \"reactivity_error_values\", \n",
    "#             data = df, scatter_kws = {\"color\": \"blue\", \"alpha\": 0.5}, \n",
    "#             line_kws = {\"color\": \"red\"},  ci = 99)\n",
    "sns.pairplot(df.to_pandas())"
   ]
  },
  {
   "cell_type": "code",
   "execution_count": null,
   "id": "b1a5a6bd-aa50-4524-b3f8-0d2905b7a8c2",
   "metadata": {},
   "outputs": [],
   "source": []
  }
 ],
 "metadata": {
  "kernelspec": {
   "display_name": "Python 3 (ipykernel)",
   "language": "python",
   "name": "python3"
  },
  "language_info": {
   "codemirror_mode": {
    "name": "ipython",
    "version": 3
   },
   "file_extension": ".py",
   "mimetype": "text/x-python",
   "name": "python",
   "nbconvert_exporter": "python",
   "pygments_lexer": "ipython3",
   "version": "3.11.0rc1"
  }
 },
 "nbformat": 4,
 "nbformat_minor": 5
}
