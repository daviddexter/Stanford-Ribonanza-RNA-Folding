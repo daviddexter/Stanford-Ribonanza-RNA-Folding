{
 "cells": [
  {
   "cell_type": "markdown",
   "id": "a5d04c82",
   "metadata": {
    "papermill": {
     "duration": 0.005676,
     "end_time": "2023-10-25T05:32:22.293909",
     "exception": false,
     "start_time": "2023-10-25T05:32:22.288233",
     "status": "completed"
    },
    "tags": []
   },
   "source": [
    "This is an inference notebook. Find the training notebook [here](https://www.kaggle.com/code/shlomoron/srrf-transformer-tpu-training/notebook)."
   ]
  },
  {
   "cell_type": "markdown",
   "id": "ed6a04d3",
   "metadata": {
    "papermill": {
     "duration": 0.004804,
     "end_time": "2023-10-25T05:32:22.303981",
     "exception": false,
     "start_time": "2023-10-25T05:32:22.299177",
     "status": "completed"
    },
    "tags": []
   },
   "source": [
    "# Imports"
   ]
  },
  {
   "cell_type": "code",
   "execution_count": 1,
   "id": "c5ef75f4",
   "metadata": {
    "execution": {
     "iopub.execute_input": "2023-10-25T05:32:22.315770Z",
     "iopub.status.busy": "2023-10-25T05:32:22.315011Z",
     "iopub.status.idle": "2023-10-25T05:32:31.195916Z",
     "shell.execute_reply": "2023-10-25T05:32:31.195041Z"
    },
    "papermill": {
     "duration": 8.889675,
     "end_time": "2023-10-25T05:32:31.198413",
     "exception": false,
     "start_time": "2023-10-25T05:32:22.308738",
     "status": "completed"
    },
    "tags": []
   },
   "outputs": [
    {
     "name": "stderr",
     "output_type": "stream",
     "text": [
      "/opt/conda/lib/python3.10/site-packages/scipy/__init__.py:146: UserWarning: A NumPy version >=1.16.5 and <1.23.0 is required for this version of SciPy (detected version 1.23.5\n",
      "  warnings.warn(f\"A NumPy version >={np_minversion} and <{np_maxversion}\"\n"
     ]
    }
   ],
   "source": [
    "import tensorflow as tf\n",
    "import numpy as np\n",
    "import matplotlib.pyplot as plt\n",
    "import pickle\n",
    "import shutil\n",
    "import math\n",
    "import pandas as pd\n",
    "import gc\n",
    "import os"
   ]
  },
  {
   "cell_type": "markdown",
   "id": "eb031ccd",
   "metadata": {
    "papermill": {
     "duration": 0.004891,
     "end_time": "2023-10-25T05:32:31.208764",
     "exception": false,
     "start_time": "2023-10-25T05:32:31.203873",
     "status": "completed"
    },
    "tags": []
   },
   "source": [
    "# Model"
   ]
  },
  {
   "cell_type": "code",
   "execution_count": 2,
   "id": "7bbbacad",
   "metadata": {
    "execution": {
     "iopub.execute_input": "2023-10-25T05:32:31.219997Z",
     "iopub.status.busy": "2023-10-25T05:32:31.219423Z",
     "iopub.status.idle": "2023-10-25T05:32:31.224320Z",
     "shell.execute_reply": "2023-10-25T05:32:31.223458Z"
    },
    "papermill": {
     "duration": 0.012837,
     "end_time": "2023-10-25T05:32:31.226472",
     "exception": false,
     "start_time": "2023-10-25T05:32:31.213635",
     "status": "completed"
    },
    "tags": []
   },
   "outputs": [],
   "source": [
    "DEBUG = False"
   ]
  },
  {
   "cell_type": "code",
   "execution_count": 3,
   "id": "8a647bd7",
   "metadata": {
    "execution": {
     "iopub.execute_input": "2023-10-25T05:32:31.237688Z",
     "iopub.status.busy": "2023-10-25T05:32:31.237384Z",
     "iopub.status.idle": "2023-10-25T05:32:31.254060Z",
     "shell.execute_reply": "2023-10-25T05:32:31.253153Z"
    },
    "papermill": {
     "duration": 0.024612,
     "end_time": "2023-10-25T05:32:31.256035",
     "exception": false,
     "start_time": "2023-10-25T05:32:31.231423",
     "status": "completed"
    },
    "tags": []
   },
   "outputs": [],
   "source": [
    "class transformer_block(tf.keras.layers.Layer):\n",
    "    def __init__(self, dim, num_heads, feed_forward_dim, rate=0.1):\n",
    "        super().__init__()\n",
    "        self.att = tf.keras.layers.MultiHeadAttention(num_heads=num_heads, key_dim=dim//num_heads)\n",
    "        self.ffn = tf.keras.Sequential(\n",
    "            [\n",
    "                tf.keras.layers.Dense(feed_forward_dim, activation=\"relu\"),\n",
    "                tf.keras.layers.Dense(dim),\n",
    "            ]\n",
    "        )\n",
    "        self.layernorm1 = tf.keras.layers.LayerNormalization(epsilon=1e-6)\n",
    "        self.layernorm2 = tf.keras.layers.LayerNormalization(epsilon=1e-6)\n",
    "        self.dropout1 = tf.keras.layers.Dropout(rate)\n",
    "        self.dropout2 = tf.keras.layers.Dropout(rate)\n",
    "        self.supports_masking = True\n",
    "\n",
    "    def call(self, inputs, training, mask):\n",
    "        att_mask = tf.expand_dims(mask, axis=-1)\n",
    "        att_mask = tf.repeat(att_mask, repeats=tf.shape(att_mask)[1], axis=-1)\n",
    "\n",
    "        attn_output = self.att(inputs, inputs, attention_mask = att_mask)\n",
    "        attn_output = self.dropout1(attn_output, training=training)\n",
    "        out1 = self.layernorm1(inputs + attn_output)\n",
    "        ffn_output = self.ffn(out1)\n",
    "        ffn_output = self.dropout2(ffn_output, training=training)\n",
    "        return self.layernorm2(out1 + ffn_output)\n",
    "\n",
    "\n",
    "class positional_encoding_layer(tf.keras.layers.Layer):\n",
    "    def __init__(self, num_vocab=5, maxlen=500, hidden_dim=384):\n",
    "        super().__init__()\n",
    "        self.hidden_dim = hidden_dim\n",
    "        self.pos_emb = self.positional_encoding(maxlen-1, hidden_dim)\n",
    "        self.supports_masking = True\n",
    "\n",
    "    def call(self, x):\n",
    "        maxlen = tf.shape(x)[-2]\n",
    "        x = tf.math.multiply(x, tf.math.sqrt(tf.cast(self.hidden_dim, tf.float32)))\n",
    "        return x + self.pos_emb[:maxlen, :]\n",
    "\n",
    "    def positional_encoding(self, maxlen, hidden_dim):\n",
    "        depth = hidden_dim/2\n",
    "        positions = tf.range(maxlen, dtype = tf.float32)[..., tf.newaxis]\n",
    "        depths = tf.range(depth, dtype = tf.float32)[np.newaxis, :]/depth\n",
    "        angle_rates = tf.math.divide(1, tf.math.pow(tf.cast(10000, tf.float32), depths))\n",
    "        angle_rads = tf.linalg.matmul(positions, angle_rates)\n",
    "        pos_encoding = tf.concat(\n",
    "          [tf.math.sin(angle_rads), tf.math.cos(angle_rads)],\n",
    "          axis=-1)\n",
    "        return pos_encoding"
   ]
  },
  {
   "cell_type": "code",
   "execution_count": 4,
   "id": "537ac163",
   "metadata": {
    "execution": {
     "iopub.execute_input": "2023-10-25T05:32:31.267317Z",
     "iopub.status.busy": "2023-10-25T05:32:31.267004Z",
     "iopub.status.idle": "2023-10-25T05:32:31.277060Z",
     "shell.execute_reply": "2023-10-25T05:32:31.276249Z"
    },
    "papermill": {
     "duration": 0.018101,
     "end_time": "2023-10-25T05:32:31.279075",
     "exception": false,
     "start_time": "2023-10-25T05:32:31.260974",
     "status": "completed"
    },
    "tags": []
   },
   "outputs": [],
   "source": [
    "X_max_len = 457\n",
    "num_vocab = 5\n",
    "\n",
    "def get_model(hidden_dim = 384, max_len = 206):\n",
    "    inp = tf.keras.Input([None])\n",
    "    x = inp\n",
    "\n",
    "    x = tf.keras.layers.Embedding(num_vocab, hidden_dim, mask_zero=True)(x)\n",
    "    x = positional_encoding_layer(num_vocab=num_vocab, maxlen=500, hidden_dim=hidden_dim)(x)\n",
    "\n",
    "    x = transformer_block(hidden_dim, 6, hidden_dim*4)(x)\n",
    "    x = transformer_block(hidden_dim, 6, hidden_dim*4)(x)\n",
    "    x = transformer_block(hidden_dim, 6, hidden_dim*4)(x)\n",
    "    x = transformer_block(hidden_dim, 6, hidden_dim*4)(x)\n",
    "\n",
    "    x = transformer_block(hidden_dim, 6, hidden_dim*4)(x)\n",
    "    x = transformer_block(hidden_dim, 6, hidden_dim*4)(x)\n",
    "    x = transformer_block(hidden_dim, 6, hidden_dim*4)(x)\n",
    "    x = transformer_block(hidden_dim, 6, hidden_dim*4)(x)\n",
    "\n",
    "    x = transformer_block(hidden_dim, 6, hidden_dim*4)(x)\n",
    "    x = transformer_block(hidden_dim, 6, hidden_dim*4)(x)\n",
    "    x = transformer_block(hidden_dim, 6, hidden_dim*4)(x)\n",
    "    x = transformer_block(hidden_dim, 6, hidden_dim*4)(x)\n",
    "\n",
    "    x = tf.keras.layers.Dropout(0.5)(x)\n",
    "    x = tf.keras.layers.Dense(2)(x)\n",
    "\n",
    "    model = tf.keras.Model(inp, x)\n",
    "    return model"
   ]
  },
  {
   "cell_type": "markdown",
   "id": "4ac8776a",
   "metadata": {
    "papermill": {
     "duration": 0.004903,
     "end_time": "2023-10-25T05:32:31.289131",
     "exception": false,
     "start_time": "2023-10-25T05:32:31.284228",
     "status": "completed"
    },
    "tags": []
   },
   "source": [
    "# Inference"
   ]
  },
  {
   "cell_type": "code",
   "execution_count": 5,
   "id": "20c2e79f",
   "metadata": {
    "execution": {
     "iopub.execute_input": "2023-10-25T05:32:31.300184Z",
     "iopub.status.busy": "2023-10-25T05:32:31.299896Z",
     "iopub.status.idle": "2023-10-25T05:32:38.241000Z",
     "shell.execute_reply": "2023-10-25T05:32:38.240032Z"
    },
    "papermill": {
     "duration": 6.94924,
     "end_time": "2023-10-25T05:32:38.243219",
     "exception": false,
     "start_time": "2023-10-25T05:32:31.293979",
     "status": "completed"
    },
    "tags": []
   },
   "outputs": [
    {
     "data": {
      "text/html": [
       "<div>\n",
       "<style scoped>\n",
       "    .dataframe tbody tr th:only-of-type {\n",
       "        vertical-align: middle;\n",
       "    }\n",
       "\n",
       "    .dataframe tbody tr th {\n",
       "        vertical-align: top;\n",
       "    }\n",
       "\n",
       "    .dataframe thead th {\n",
       "        text-align: right;\n",
       "    }\n",
       "</style>\n",
       "<table border=\"1\" class=\"dataframe\">\n",
       "  <thead>\n",
       "    <tr style=\"text-align: right;\">\n",
       "      <th></th>\n",
       "      <th>id_min</th>\n",
       "      <th>id_max</th>\n",
       "      <th>sequence_id</th>\n",
       "      <th>sequence</th>\n",
       "      <th>future</th>\n",
       "    </tr>\n",
       "  </thead>\n",
       "  <tbody>\n",
       "    <tr>\n",
       "      <th>0</th>\n",
       "      <td>0</td>\n",
       "      <td>176</td>\n",
       "      <td>eee73c1836bc</td>\n",
       "      <td>GGGAACGACUCGAGUAGAGUCGAAAAUUUCCUUCCAAAUCCUGAGG...</td>\n",
       "      <td>0</td>\n",
       "    </tr>\n",
       "    <tr>\n",
       "      <th>1</th>\n",
       "      <td>177</td>\n",
       "      <td>353</td>\n",
       "      <td>d2a929af7a97</td>\n",
       "      <td>GGGAACGACUCGAGUAGAGUCGAAAAUGUAAUCAGAUUGCUUCUCC...</td>\n",
       "      <td>0</td>\n",
       "    </tr>\n",
       "    <tr>\n",
       "      <th>2</th>\n",
       "      <td>354</td>\n",
       "      <td>530</td>\n",
       "      <td>d39a4425ff45</td>\n",
       "      <td>GGGAACGACUCGAGUAGAGUCGAAAAAACACAUGAAUUUGAGGGUU...</td>\n",
       "      <td>0</td>\n",
       "    </tr>\n",
       "    <tr>\n",
       "      <th>3</th>\n",
       "      <td>531</td>\n",
       "      <td>707</td>\n",
       "      <td>1fc41e92d553</td>\n",
       "      <td>GGGAACGACUCGAGUAGAGUCGAAAAUCAGAGCUGGCAAAUGGAUG...</td>\n",
       "      <td>0</td>\n",
       "    </tr>\n",
       "    <tr>\n",
       "      <th>4</th>\n",
       "      <td>708</td>\n",
       "      <td>884</td>\n",
       "      <td>1d0826fb892f</td>\n",
       "      <td>GGGAACGACUCGAGUAGAGUCGAAAAUUUGGUAUUUGAUGCAUUAA...</td>\n",
       "      <td>0</td>\n",
       "    </tr>\n",
       "  </tbody>\n",
       "</table>\n",
       "</div>"
      ],
      "text/plain": [
       "   id_min  id_max   sequence_id  \\\n",
       "0       0     176  eee73c1836bc   \n",
       "1     177     353  d2a929af7a97   \n",
       "2     354     530  d39a4425ff45   \n",
       "3     531     707  1fc41e92d553   \n",
       "4     708     884  1d0826fb892f   \n",
       "\n",
       "                                            sequence  future  \n",
       "0  GGGAACGACUCGAGUAGAGUCGAAAAUUUCCUUCCAAAUCCUGAGG...       0  \n",
       "1  GGGAACGACUCGAGUAGAGUCGAAAAUGUAAUCAGAUUGCUUCUCC...       0  \n",
       "2  GGGAACGACUCGAGUAGAGUCGAAAAAACACAUGAAUUUGAGGGUU...       0  \n",
       "3  GGGAACGACUCGAGUAGAGUCGAAAAUCAGAGCUGGCAAAUGGAUG...       0  \n",
       "4  GGGAACGACUCGAGUAGAGUCGAAAAUUUGGUAUUUGAUGCAUUAA...       0  "
      ]
     },
     "execution_count": 5,
     "metadata": {},
     "output_type": "execute_result"
    }
   ],
   "source": [
    "test_sequences_df = pd.read_csv('/kaggle/input/stanford-ribonanza-rna-folding/test_sequences.csv')\n",
    "test_sequences_df.head()"
   ]
  },
  {
   "cell_type": "code",
   "execution_count": 6,
   "id": "1d1e7e70",
   "metadata": {
    "execution": {
     "iopub.execute_input": "2023-10-25T05:32:38.254757Z",
     "iopub.status.busy": "2023-10-25T05:32:38.254427Z",
     "iopub.status.idle": "2023-10-25T05:32:38.260878Z",
     "shell.execute_reply": "2023-10-25T05:32:38.260016Z"
    },
    "papermill": {
     "duration": 0.014677,
     "end_time": "2023-10-25T05:32:38.262996",
     "exception": false,
     "start_time": "2023-10-25T05:32:38.248319",
     "status": "completed"
    },
    "tags": []
   },
   "outputs": [
    {
     "data": {
      "text/plain": [
       "{'A': 1, 'C': 2, 'G': 3, 'U': 4}"
      ]
     },
     "execution_count": 6,
     "metadata": {},
     "output_type": "execute_result"
    }
   ],
   "source": [
    "test_sequences = test_sequences_df.sequence.to_numpy()\n",
    "encoding_dict = {'A':1, 'C': 2, 'G': 3, 'U': 4}\n",
    "encoding_dict"
   ]
  },
  {
   "cell_type": "code",
   "execution_count": 7,
   "id": "77fad156",
   "metadata": {
    "execution": {
     "iopub.execute_input": "2023-10-25T05:32:38.274494Z",
     "iopub.status.busy": "2023-10-25T05:32:38.274223Z",
     "iopub.status.idle": "2023-10-25T05:33:52.670343Z",
     "shell.execute_reply": "2023-10-25T05:33:52.669312Z"
    },
    "papermill": {
     "duration": 74.404923,
     "end_time": "2023-10-25T05:33:52.672926",
     "exception": false,
     "start_time": "2023-10-25T05:32:38.268003",
     "status": "completed"
    },
    "tags": []
   },
   "outputs": [],
   "source": [
    "max_len = 457 \n",
    "test_sequences_encoded = []\n",
    "for seq in test_sequences:\n",
    "    test_sequences_encoded.append(\n",
    "        np.concatenate([ np.asarray([encoding_dict[x] for x in seq]) , np.zeros((max_len - len(seq)) ) ]).astype(np.float32))"
   ]
  },
  {
   "cell_type": "code",
   "execution_count": 8,
   "id": "bf677881",
   "metadata": {
    "execution": {
     "iopub.execute_input": "2023-10-25T05:33:52.684813Z",
     "iopub.status.busy": "2023-10-25T05:33:52.684455Z",
     "iopub.status.idle": "2023-10-25T05:36:55.231006Z",
     "shell.execute_reply": "2023-10-25T05:36:55.229682Z"
    },
    "papermill": {
     "duration": 182.560554,
     "end_time": "2023-10-25T05:36:55.238886",
     "exception": false,
     "start_time": "2023-10-25T05:33:52.678332",
     "status": "completed"
    },
    "tags": []
   },
   "outputs": [
    {
     "data": {
      "text/plain": [
       "TensorShape([256, 457])"
      ]
     },
     "execution_count": 8,
     "metadata": {},
     "output_type": "execute_result"
    }
   ],
   "source": [
    "test_ds = tf.data.Dataset.from_tensor_slices(test_sequences_encoded)\n",
    "batch_size = 256\n",
    "if DEBUG:\n",
    "    test_ds = test_ds.take(8)\n",
    "    batch_size = 2\n",
    "#test_ds = test_ds.take(10000)\n",
    "\n",
    "test_ds = test_ds.padded_batch(batch_size, padding_values=(0.0), padded_shapes=([max_len]), drop_remainder=False)\n",
    "test_ds = test_ds.prefetch(tf.data.AUTOTUNE)\n",
    "batch = next(iter(test_ds))\n",
    "batch.shape"
   ]
  },
  {
   "cell_type": "code",
   "execution_count": 9,
   "id": "b2ae4850",
   "metadata": {
    "execution": {
     "iopub.execute_input": "2023-10-25T05:36:55.251838Z",
     "iopub.status.busy": "2023-10-25T05:36:55.251457Z",
     "iopub.status.idle": "2023-10-25T05:37:01.130089Z",
     "shell.execute_reply": "2023-10-25T05:37:01.129084Z"
    },
    "papermill": {
     "duration": 5.887449,
     "end_time": "2023-10-25T05:37:01.132069",
     "exception": false,
     "start_time": "2023-10-25T05:36:55.244620",
     "status": "completed"
    },
    "tags": []
   },
   "outputs": [
    {
     "name": "stdout",
     "output_type": "stream",
     "text": [
      "Model: \"model\"\n",
      "_________________________________________________________________\n",
      " Layer (type)                Output Shape              Param #   \n",
      "=================================================================\n",
      " input_1 (InputLayer)        [(None, None)]            0         \n",
      "                                                                 \n",
      " embedding (Embedding)       (None, None, 192)         960       \n",
      "                                                                 \n",
      " positional_encoding_layer (  (None, None, 192)        0         \n",
      " positional_encoding_layer)                                      \n",
      "                                                                 \n",
      " transformer_block (transfor  (None, None, 192)        444864    \n",
      " mer_block)                                                      \n",
      "                                                                 \n",
      " transformer_block_1 (transf  (None, None, 192)        444864    \n",
      " ormer_block)                                                    \n",
      "                                                                 \n",
      " transformer_block_2 (transf  (None, None, 192)        444864    \n",
      " ormer_block)                                                    \n",
      "                                                                 \n",
      " transformer_block_3 (transf  (None, None, 192)        444864    \n",
      " ormer_block)                                                    \n",
      "                                                                 \n",
      " transformer_block_4 (transf  (None, None, 192)        444864    \n",
      " ormer_block)                                                    \n",
      "                                                                 \n",
      " transformer_block_5 (transf  (None, None, 192)        444864    \n",
      " ormer_block)                                                    \n",
      "                                                                 \n",
      " transformer_block_6 (transf  (None, None, 192)        444864    \n",
      " ormer_block)                                                    \n",
      "                                                                 \n",
      " transformer_block_7 (transf  (None, None, 192)        444864    \n",
      " ormer_block)                                                    \n",
      "                                                                 \n",
      " transformer_block_8 (transf  (None, None, 192)        444864    \n",
      " ormer_block)                                                    \n",
      "                                                                 \n",
      " transformer_block_9 (transf  (None, None, 192)        444864    \n",
      " ormer_block)                                                    \n",
      "                                                                 \n",
      " transformer_block_10 (trans  (None, None, 192)        444864    \n",
      " former_block)                                                   \n",
      "                                                                 \n",
      " transformer_block_11 (trans  (None, None, 192)        444864    \n",
      " former_block)                                                   \n",
      "                                                                 \n",
      " dropout_24 (Dropout)        (None, None, 192)         0         \n",
      "                                                                 \n",
      " dense_24 (Dense)            (None, None, 2)           386       \n",
      "                                                                 \n",
      "=================================================================\n",
      "Total params: 5,339,714\n",
      "Trainable params: 5,339,714\n",
      "Non-trainable params: 0\n",
      "_________________________________________________________________\n"
     ]
    }
   ],
   "source": [
    "model = get_model(hidden_dim = 192,max_len = max_len)\n",
    "model.load_weights('/kaggle/input/srrf-transformer-tpu-training/weights/model_epoch_199.h5')\n",
    "model(batch)\n",
    "model.summary()"
   ]
  },
  {
   "cell_type": "code",
   "execution_count": 10,
   "id": "7b5f67cf",
   "metadata": {
    "collapsed": true,
    "execution": {
     "iopub.execute_input": "2023-10-25T05:37:01.158917Z",
     "iopub.status.busy": "2023-10-25T05:37:01.158531Z",
     "iopub.status.idle": "2023-10-25T06:57:15.940008Z",
     "shell.execute_reply": "2023-10-25T06:57:15.938982Z"
    },
    "jupyter": {
     "outputs_hidden": true
    },
    "papermill": {
     "duration": 4814.800482,
     "end_time": "2023-10-25T06:57:15.942369",
     "exception": false,
     "start_time": "2023-10-25T05:37:01.141887",
     "status": "completed"
    },
    "tags": []
   },
   "outputs": [
    {
     "name": "stdout",
     "output_type": "stream",
     "text": [
      "5250/5250 [==============================] - 4806s 915ms/step\n"
     ]
    }
   ],
   "source": [
    "preds = model.predict(test_ds)"
   ]
  },
  {
   "cell_type": "code",
   "execution_count": 11,
   "id": "ce946835",
   "metadata": {
    "execution": {
     "iopub.execute_input": "2023-10-25T06:57:16.760281Z",
     "iopub.status.busy": "2023-10-25T06:57:16.759915Z",
     "iopub.status.idle": "2023-10-25T06:57:19.549888Z",
     "shell.execute_reply": "2023-10-25T06:57:19.548961Z"
    },
    "papermill": {
     "duration": 3.197075,
     "end_time": "2023-10-25T06:57:19.552201",
     "exception": false,
     "start_time": "2023-10-25T06:57:16.355126",
     "status": "completed"
    },
    "tags": []
   },
   "outputs": [],
   "source": [
    "preds_processed = []\n",
    "for i, pred in enumerate(preds):\n",
    "    preds_processed.append(pred[:len(test_sequences[i])])\n",
    "concat_preds = np.concatenate(preds_processed)"
   ]
  },
  {
   "cell_type": "code",
   "execution_count": 12,
   "id": "8bb39ba3",
   "metadata": {
    "execution": {
     "iopub.execute_input": "2023-10-25T06:57:20.366420Z",
     "iopub.status.busy": "2023-10-25T06:57:20.365782Z",
     "iopub.status.idle": "2023-10-25T07:16:32.334648Z",
     "shell.execute_reply": "2023-10-25T07:16:32.333759Z"
    },
    "papermill": {
     "duration": 1152.782255,
     "end_time": "2023-10-25T07:16:32.736685",
     "exception": false,
     "start_time": "2023-10-25T06:57:19.954430",
     "status": "completed"
    },
    "tags": []
   },
   "outputs": [
    {
     "data": {
      "text/html": [
       "<div>\n",
       "<style scoped>\n",
       "    .dataframe tbody tr th:only-of-type {\n",
       "        vertical-align: middle;\n",
       "    }\n",
       "\n",
       "    .dataframe tbody tr th {\n",
       "        vertical-align: top;\n",
       "    }\n",
       "\n",
       "    .dataframe thead th {\n",
       "        text-align: right;\n",
       "    }\n",
       "</style>\n",
       "<table border=\"1\" class=\"dataframe\">\n",
       "  <thead>\n",
       "    <tr style=\"text-align: right;\">\n",
       "      <th></th>\n",
       "      <th>id</th>\n",
       "      <th>reactivity_DMS_MaP</th>\n",
       "      <th>reactivity_2A3_MaP</th>\n",
       "    </tr>\n",
       "  </thead>\n",
       "  <tbody>\n",
       "    <tr>\n",
       "      <th>0</th>\n",
       "      <td>0</td>\n",
       "      <td>0.002759</td>\n",
       "      <td>0.040230</td>\n",
       "    </tr>\n",
       "    <tr>\n",
       "      <th>1</th>\n",
       "      <td>1</td>\n",
       "      <td>0.003191</td>\n",
       "      <td>0.034084</td>\n",
       "    </tr>\n",
       "    <tr>\n",
       "      <th>2</th>\n",
       "      <td>2</td>\n",
       "      <td>0.002723</td>\n",
       "      <td>0.035525</td>\n",
       "    </tr>\n",
       "    <tr>\n",
       "      <th>3</th>\n",
       "      <td>3</td>\n",
       "      <td>0.005831</td>\n",
       "      <td>0.016351</td>\n",
       "    </tr>\n",
       "    <tr>\n",
       "      <th>4</th>\n",
       "      <td>4</td>\n",
       "      <td>0.006364</td>\n",
       "      <td>0.015672</td>\n",
       "    </tr>\n",
       "  </tbody>\n",
       "</table>\n",
       "</div>"
      ],
      "text/plain": [
       "   id  reactivity_DMS_MaP  reactivity_2A3_MaP\n",
       "0   0            0.002759            0.040230\n",
       "1   1            0.003191            0.034084\n",
       "2   2            0.002723            0.035525\n",
       "3   3            0.005831            0.016351\n",
       "4   4            0.006364            0.015672"
      ]
     },
     "execution_count": 12,
     "metadata": {},
     "output_type": "execute_result"
    }
   ],
   "source": [
    "submission = pd.DataFrame({'id':np.arange(0, len(concat_preds), 1), 'reactivity_DMS_MaP':concat_preds[:,1], 'reactivity_2A3_MaP':concat_preds[:,0]})\n",
    "submission.to_csv('submission.csv', index=False)\n",
    "submission.head()"
   ]
  }
 ],
 "metadata": {
  "kernelspec": {
   "display_name": "Python 3",
   "language": "python",
   "name": "python3"
  },
  "language_info": {
   "codemirror_mode": {
    "name": "ipython",
    "version": 3
   },
   "file_extension": ".py",
   "mimetype": "text/x-python",
   "name": "python",
   "nbconvert_exporter": "python",
   "pygments_lexer": "ipython3",
   "version": "3.10.12"
  },
  "papermill": {
   "default_parameters": {},
   "duration": 6258.680197,
   "end_time": "2023-10-25T07:16:37.381488",
   "environment_variables": {},
   "exception": null,
   "input_path": "__notebook__.ipynb",
   "output_path": "__notebook__.ipynb",
   "parameters": {},
   "start_time": "2023-10-25T05:32:18.701291",
   "version": "2.4.0"
  }
 },
 "nbformat": 4,
 "nbformat_minor": 5
}
