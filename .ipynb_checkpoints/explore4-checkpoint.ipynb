{
 "cells": [
  {
   "cell_type": "code",
   "execution_count": 1,
   "id": "396408b4-d0ca-425e-b53c-454bff3c7293",
   "metadata": {},
   "outputs": [],
   "source": [
    "import polars as pl\n",
    "import seaborn as sns\n",
    "import numpy as np\n",
    "from scipy import stats\n",
    "\n",
    "from rna_model import load_training_dataset,get_reactivity_error_cols,get_reactivity_cols\n",
    "lf = load_training_dataset()"
   ]
  },
  {
   "cell_type": "code",
   "execution_count": 2,
   "id": "0178cd66-3528-4fea-a779-89e3c2960dcb",
   "metadata": {},
   "outputs": [],
   "source": [
    "def percent_of_zeros(original_count,non_zero_count):\n",
    "    \"\"\"\n",
    "    The thinking is that if the distribution of zeros is more than 50%, consequently, the MAD will be\n",
    "    0.0\n",
    "    \"\"\"\n",
    "\n",
    "    # p is the percent of non-zero. The ideal is above 50%\n",
    "    p = (non_zero_count*100)/original_count\n",
    "    print(f\"{p}%\")\n",
    "\n",
    "reactivity_error_cols = get_reactivity_error_cols()\n",
    "reactivity_cols = get_reactivity_cols()      "
   ]
  },
  {
   "cell_type": "code",
   "execution_count": 3,
   "id": "05a792b6-9e21-4f36-8b1d-a47dee80e217",
   "metadata": {},
   "outputs": [
    {
     "name": "stdout",
     "output_type": "stream",
     "text": [
      "46.4259194854265%\n"
     ]
    }
   ],
   "source": [
    "# get reactivity_error_* columns\n",
    "reactivity_error_lf = lf.select(pl.col(reactivity_error_cols))\n",
    "reactivity_error_df = reactivity_error_lf.collect(streaming=True)\n",
    "\n",
    "reactivity_error_np = reactivity_error_df.to_numpy()\n",
    "original_shape_err = reactivity_error_np.shape\n",
    "\n",
    "# non-zero\n",
    "reactivity_error_none_zero_np = reactivity_error_np[reactivity_error_np != 0]\n",
    "non_zero_shape = reactivity_error_none_zero_np.shape\n",
    "\n",
    "del reactivity_error_lf\n",
    "del reactivity_error_df\n",
    "\n",
    "percent_of_zeros(original_shape_err[0]*original_shape_err[1], non_zero_shape[0])"
   ]
  },
  {
   "cell_type": "code",
   "execution_count": 3,
   "id": "9c22c502-d484-472a-ba69-396192ee85c3",
   "metadata": {},
   "outputs": [
    {
     "name": "stdout",
     "output_type": "stream",
     "text": [
      "23.56923878599666%\n"
     ]
    }
   ],
   "source": [
    "# get reactivity_* columns\n",
    "reactivity_lf = lf.select(pl.col(reactivity_cols))\n",
    "reactivity_df = reactivity_lf.collect(streaming=True)\n",
    "\n",
    "reactivity_np = reactivity_df.to_numpy()\n",
    "original_shape = reactivity_np.shape\n",
    "\n",
    "# non-zero\n",
    "reactivity_non_zero_np = reactivity_np[reactivity_np != 0]\n",
    "non_zero_shape = reactivity_non_zero_np.shape\n",
    "\n",
    "del reactivity_lf\n",
    "del reactivity_df\n",
    "\n",
    "percent_of_zeros(original_shape[0]*original_shape[1], non_zero_shape[0])"
   ]
  },
  {
   "cell_type": "code",
   "execution_count": null,
   "id": "ffd59e0d-f1e0-4c41-a819-43dd1dfbd3d4",
   "metadata": {},
   "outputs": [],
   "source": [
    "reactivity_error_np"
   ]
  },
  {
   "cell_type": "code",
   "execution_count": null,
   "id": "c6e1b6de-5d85-4a7a-9fd1-8c4fd8ddd6cd",
   "metadata": {},
   "outputs": [],
   "source": [
    "# Ref : https://stackoverflow.com/questions/63991322/median-absolute-deviation-from-numpy-ndarray\n",
    "def mad(data, axis=None, scale=1.4826, keepdims=False):\n",
    "    \"\"\"Median absolute deviation (MAD).\n",
    "    \n",
    "    Defined as the median absolute deviation from the median of the data. A\n",
    "    robust alternative to stddev. Results should be identical to\n",
    "    scipy.stats.median_absolute_deviation(), which does not take a keepdims\n",
    "    argument.\n",
    "\n",
    "    Parameters\n",
    "    ----------\n",
    "    data : array_like\n",
    "        The data.\n",
    "    scale : float, optional\n",
    "        Scaling of the result. By default, it is scaled to give a consistent\n",
    "        estimate of the standard deviation of values from a normal\n",
    "        distribution.\n",
    "    axis : numpy axis spec, optional\n",
    "        Axis or axes along which to compute MAD.\n",
    "    keepdims : bool, optional\n",
    "        If this is set to True, the axes which are reduced are left in the\n",
    "        result as dimensions with size one.\n",
    "\n",
    "    Returns\n",
    "    -------\n",
    "    ndarray\n",
    "        The MAD.\n",
    "    \"\"\"\n",
    "    # keep dims here so that broadcasting works\n",
    "    med = np.median(data, axis=axis, keepdims=keepdims)\n",
    "    abs_devs = np.abs(data - med)\n",
    "    return scale * np.median(abs_devs, axis=axis, keepdims=keepdims)"
   ]
  },
  {
   "cell_type": "code",
   "execution_count": null,
   "id": "6f131544-db78-4e4c-a86a-f9618c029d13",
   "metadata": {},
   "outputs": [],
   "source": [
    "# Mean absolute deviation\n",
    "print(stats.median_abs_deviation(reactivity_error_np,axis=None))\n",
    "print(mad(reactivity_error_np))"
   ]
  },
  {
   "cell_type": "code",
   "execution_count": null,
   "id": "c09bf535-25a7-443d-a2a8-00a4ac2881ba",
   "metadata": {},
   "outputs": [],
   "source": [
    "# Coefficient of variation\n",
    "stats.variation(reactivity_error_np, ddof=1,axis=None)"
   ]
  },
  {
   "cell_type": "code",
   "execution_count": null,
   "id": "7b25fc32-1992-45f2-8f2f-62c5cfa50793",
   "metadata": {},
   "outputs": [],
   "source": []
  }
 ],
 "metadata": {
  "kernelspec": {
   "display_name": "Python 3 (ipykernel)",
   "language": "python",
   "name": "python3"
  },
  "language_info": {
   "codemirror_mode": {
    "name": "ipython",
    "version": 3
   },
   "file_extension": ".py",
   "mimetype": "text/x-python",
   "name": "python",
   "nbconvert_exporter": "python",
   "pygments_lexer": "ipython3",
   "version": "3.11.0rc1"
  }
 },
 "nbformat": 4,
 "nbformat_minor": 5
}
