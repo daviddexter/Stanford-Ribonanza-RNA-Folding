{
 "cells": [
  {
   "cell_type": "code",
   "execution_count": 1,
   "id": "f9412e7a-5547-4b6e-a8d6-0cd6acab4d38",
   "metadata": {},
   "outputs": [],
   "source": [
    "import polars as pl\n",
    "import seaborn as sns\n",
    "\n",
    "from rna_model import load_training_dataset"
   ]
  },
  {
   "cell_type": "code",
   "execution_count": 2,
   "id": "af40496d-a8bb-44f9-bc13-2cfc28aea2de",
   "metadata": {},
   "outputs": [],
   "source": [
    "lf = load_training_dataset()"
   ]
  },
  {
   "cell_type": "code",
   "execution_count": 3,
   "id": "d849eb6a-77b5-4ad3-b11e-caf7d50c14f3",
   "metadata": {},
   "outputs": [],
   "source": [
    "sequence_lf = lf.group_by(\"sequence\", maintain_order=True).count()\n",
    "sequence_df = sequence_lf.collect(streaming=True)"
   ]
  },
  {
   "cell_type": "code",
   "execution_count": 4,
   "id": "c545eabf-5608-4225-882b-f6efff931638",
   "metadata": {},
   "outputs": [
    {
     "data": {
      "text/plain": [
       "806573"
      ]
     },
     "execution_count": 4,
     "metadata": {},
     "output_type": "execute_result"
    }
   ],
   "source": [
    "sequence_df.height"
   ]
  },
  {
   "cell_type": "code",
   "execution_count": 5,
   "id": "52586d4f-5a8c-4b9b-a2fa-587c6b0585bf",
   "metadata": {},
   "outputs": [
    {
     "data": {
      "text/html": [
       "<div><style>\n",
       ".dataframe > thead > tr > th,\n",
       ".dataframe > tbody > tr > td {\n",
       "  text-align: right;\n",
       "  white-space: pre-wrap;\n",
       "}\n",
       "</style>\n",
       "<small>shape: (10, 2)</small><table border=\"1\" class=\"dataframe\"><thead><tr><th>sequence</th><th>count</th></tr><tr><td>str</td><td>u32</td></tr></thead><tbody><tr><td>&quot;GGGAACGACUCGAG…</td><td>2</td></tr><tr><td>&quot;GGGAACGACUCGAG…</td><td>2</td></tr><tr><td>&quot;GGGAACGACUCGAG…</td><td>2</td></tr><tr><td>&quot;GGGAACGACUCGAG…</td><td>2</td></tr><tr><td>&quot;GGGAACGACUCGAG…</td><td>2</td></tr><tr><td>&quot;GGGAACGACUCGAG…</td><td>2</td></tr><tr><td>&quot;GGGAACGACUCGAG…</td><td>2</td></tr><tr><td>&quot;GGGAACGACUCGAG…</td><td>2</td></tr><tr><td>&quot;GGGAACGACUCGAG…</td><td>2</td></tr><tr><td>&quot;GGGAACGACUCGAG…</td><td>2</td></tr></tbody></table></div>"
      ],
      "text/plain": [
       "shape: (10, 2)\n",
       "┌───────────────────────────────────┬───────┐\n",
       "│ sequence                          ┆ count │\n",
       "│ ---                               ┆ ---   │\n",
       "│ str                               ┆ u32   │\n",
       "╞═══════════════════════════════════╪═══════╡\n",
       "│ GGGAACGACUCGAGUAGAGUCGAAAAACGUUG… ┆ 2     │\n",
       "│ GGGAACGACUCGAGUAGAGUCGAAAAACAUUG… ┆ 2     │\n",
       "│ GGGAACGACUCGAGUAGAGUCGAAAAACCUUG… ┆ 2     │\n",
       "│ GGGAACGACUCGAGUAGAGUCGAAAAACUUUG… ┆ 2     │\n",
       "│ …                                 ┆ …     │\n",
       "│ GGGAACGACUCGAGUAGAGUCGAAAAACGGUG… ┆ 2     │\n",
       "│ GGGAACGACUCGAGUAGAGUCGAAAAACGUAG… ┆ 2     │\n",
       "│ GGGAACGACUCGAGUAGAGUCGAAAAACGUCG… ┆ 2     │\n",
       "│ GGGAACGACUCGAGUAGAGUCGAAAAACGUGG… ┆ 2     │\n",
       "└───────────────────────────────────┴───────┘"
      ]
     },
     "execution_count": 5,
     "metadata": {},
     "output_type": "execute_result"
    }
   ],
   "source": [
    "sequence_df.head(10)"
   ]
  },
  {
   "cell_type": "code",
   "execution_count": 6,
   "id": "cf7da32d-9244-4828-ba5c-26f17a3cffad",
   "metadata": {},
   "outputs": [
    {
     "data": {
      "text/html": [
       "<div><style>\n",
       ".dataframe > thead > tr > th,\n",
       ".dataframe > tbody > tr > td {\n",
       "  text-align: right;\n",
       "  white-space: pre-wrap;\n",
       "}\n",
       "</style>\n",
       "<small>shape: (1, 1)</small><table border=\"1\" class=\"dataframe\"><thead><tr><th>count</th></tr><tr><td>u32</td></tr></thead><tbody><tr><td>10</td></tr></tbody></table></div>"
      ],
      "text/plain": [
       "shape: (1, 1)\n",
       "┌───────┐\n",
       "│ count │\n",
       "│ ---   │\n",
       "│ u32   │\n",
       "╞═══════╡\n",
       "│ 10    │\n",
       "└───────┘"
      ]
     },
     "execution_count": 6,
     "metadata": {},
     "output_type": "execute_result"
    }
   ],
   "source": [
    "sequence_df.select(pl.max(\"count\"))"
   ]
  },
  {
   "cell_type": "code",
   "execution_count": 7,
   "id": "f20eccba-3a6f-4bb6-a544-0986a586de0c",
   "metadata": {},
   "outputs": [
    {
     "data": {
      "text/html": [
       "<div><style>\n",
       ".dataframe > thead > tr > th,\n",
       ".dataframe > tbody > tr > td {\n",
       "  text-align: right;\n",
       "  white-space: pre-wrap;\n",
       "}\n",
       "</style>\n",
       "<small>shape: (1, 1)</small><table border=\"1\" class=\"dataframe\"><thead><tr><th>count</th></tr><tr><td>u32</td></tr></thead><tbody><tr><td>2</td></tr></tbody></table></div>"
      ],
      "text/plain": [
       "shape: (1, 1)\n",
       "┌───────┐\n",
       "│ count │\n",
       "│ ---   │\n",
       "│ u32   │\n",
       "╞═══════╡\n",
       "│ 2     │\n",
       "└───────┘"
      ]
     },
     "execution_count": 7,
     "metadata": {},
     "output_type": "execute_result"
    }
   ],
   "source": [
    "sequence_df.select(pl.min(\"count\"))"
   ]
  },
  {
   "cell_type": "code",
   "execution_count": 8,
   "id": "e4b0bc52-47b8-4277-9325-413980858ee2",
   "metadata": {},
   "outputs": [],
   "source": [
    "del sequence_lf\n",
    "del sequence_df"
   ]
  },
  {
   "cell_type": "code",
   "execution_count": 9,
   "id": "68bcebd8-281b-4dd9-b8c1-3c0300258fc3",
   "metadata": {},
   "outputs": [],
   "source": [
    "df = lf.filter(pl.int_range(0, pl.count()).over(\"sequence\") < 2).collect(streaming=True) "
   ]
  },
  {
   "cell_type": "code",
   "execution_count": 10,
   "id": "2ee19280-06df-43dd-973c-fe3eadedbb78",
   "metadata": {},
   "outputs": [
    {
     "data": {
      "text/html": [
       "<div><style>\n",
       ".dataframe > thead > tr > th,\n",
       ".dataframe > tbody > tr > td {\n",
       "  text-align: right;\n",
       "  white-space: pre-wrap;\n",
       "}\n",
       "</style>\n",
       "<small>shape: (5, 414)</small><table border=\"1\" class=\"dataframe\"><thead><tr><th>sequence</th><th>experiment_type</th><th>reactivity_0001</th><th>reactivity_0002</th><th>reactivity_0003</th><th>reactivity_0004</th><th>reactivity_0005</th><th>reactivity_0006</th><th>reactivity_0007</th><th>reactivity_0008</th><th>reactivity_0009</th><th>reactivity_0010</th><th>reactivity_0011</th><th>reactivity_0012</th><th>reactivity_0013</th><th>reactivity_0014</th><th>reactivity_0015</th><th>reactivity_0016</th><th>reactivity_0017</th><th>reactivity_0018</th><th>reactivity_0019</th><th>reactivity_0020</th><th>reactivity_0021</th><th>reactivity_0022</th><th>reactivity_0023</th><th>reactivity_0024</th><th>reactivity_0025</th><th>reactivity_0026</th><th>reactivity_0027</th><th>reactivity_0028</th><th>reactivity_0029</th><th>reactivity_0030</th><th>reactivity_0031</th><th>reactivity_0032</th><th>reactivity_0033</th><th>reactivity_0034</th><th>reactivity_0035</th><th>&hellip;</th><th>reactivity_0199</th><th>reactivity_0200</th><th>reactivity_0201</th><th>reactivity_0202</th><th>reactivity_0203</th><th>reactivity_0204</th><th>reactivity_0205</th><th>reactivity_0206</th><th>reactivity_error_0178</th><th>reactivity_error_0179</th><th>reactivity_error_0180</th><th>reactivity_error_0181</th><th>reactivity_error_0182</th><th>reactivity_error_0183</th><th>reactivity_error_0184</th><th>reactivity_error_0185</th><th>reactivity_error_0186</th><th>reactivity_error_0187</th><th>reactivity_error_0188</th><th>reactivity_error_0189</th><th>reactivity_error_0190</th><th>reactivity_error_0191</th><th>reactivity_error_0192</th><th>reactivity_error_0193</th><th>reactivity_error_0194</th><th>reactivity_error_0195</th><th>reactivity_error_0196</th><th>reactivity_error_0197</th><th>reactivity_error_0198</th><th>reactivity_error_0199</th><th>reactivity_error_0200</th><th>reactivity_error_0201</th><th>reactivity_error_0202</th><th>reactivity_error_0203</th><th>reactivity_error_0204</th><th>reactivity_error_0205</th><th>reactivity_error_0206</th></tr><tr><td>str</td><td>str</td><td>f64</td><td>f64</td><td>f64</td><td>f64</td><td>f64</td><td>f64</td><td>f64</td><td>f64</td><td>f64</td><td>f64</td><td>f64</td><td>f64</td><td>f64</td><td>f64</td><td>f64</td><td>f64</td><td>f64</td><td>f64</td><td>f64</td><td>f64</td><td>f64</td><td>f64</td><td>f64</td><td>f64</td><td>f64</td><td>f64</td><td>f64</td><td>f64</td><td>f64</td><td>f64</td><td>f64</td><td>f64</td><td>f64</td><td>f64</td><td>f64</td><td>&hellip;</td><td>f64</td><td>f64</td><td>f64</td><td>f64</td><td>f64</td><td>f64</td><td>f64</td><td>f64</td><td>f64</td><td>f64</td><td>f64</td><td>f64</td><td>f64</td><td>f64</td><td>f64</td><td>f64</td><td>f64</td><td>f64</td><td>f64</td><td>f64</td><td>f64</td><td>f64</td><td>f64</td><td>f64</td><td>f64</td><td>f64</td><td>f64</td><td>f64</td><td>f64</td><td>f64</td><td>f64</td><td>f64</td><td>f64</td><td>f64</td><td>f64</td><td>f64</td><td>f64</td></tr></thead><tbody><tr><td>&quot;GGGAACGACUCGAG…</td><td>&quot;2A3_MaP&quot;</td><td>0.0</td><td>0.0</td><td>0.0</td><td>0.0</td><td>0.0</td><td>0.0</td><td>0.0</td><td>0.0</td><td>0.0</td><td>0.0</td><td>0.0</td><td>0.0</td><td>0.0</td><td>0.0</td><td>0.0</td><td>0.0</td><td>0.0</td><td>0.0</td><td>0.0</td><td>0.0</td><td>0.0</td><td>0.0</td><td>0.0</td><td>0.0</td><td>0.0</td><td>0.0</td><td>-0.039</td><td>0.455</td><td>-0.207</td><td>-0.098</td><td>0.524</td><td>-0.039</td><td>-0.138</td><td>0.0</td><td>0.088</td><td>&hellip;</td><td>0.0</td><td>0.0</td><td>0.0</td><td>0.0</td><td>0.0</td><td>0.0</td><td>0.0</td><td>0.0</td><td>0.0</td><td>0.0</td><td>0.0</td><td>0.0</td><td>0.0</td><td>0.0</td><td>0.0</td><td>0.0</td><td>0.0</td><td>0.0</td><td>0.0</td><td>0.0</td><td>0.0</td><td>0.0</td><td>0.0</td><td>0.0</td><td>0.0</td><td>0.0</td><td>0.0</td><td>0.0</td><td>0.0</td><td>0.0</td><td>0.0</td><td>0.0</td><td>0.0</td><td>0.0</td><td>0.0</td><td>0.0</td><td>0.0</td></tr><tr><td>&quot;GGGAACGACUCGAG…</td><td>&quot;2A3_MaP&quot;</td><td>0.0</td><td>0.0</td><td>0.0</td><td>0.0</td><td>0.0</td><td>0.0</td><td>0.0</td><td>0.0</td><td>0.0</td><td>0.0</td><td>0.0</td><td>0.0</td><td>0.0</td><td>0.0</td><td>0.0</td><td>0.0</td><td>0.0</td><td>0.0</td><td>0.0</td><td>0.0</td><td>0.0</td><td>0.0</td><td>0.0</td><td>0.0</td><td>0.0</td><td>0.0</td><td>-0.036</td><td>0.683</td><td>0.189</td><td>-0.005</td><td>-0.039</td><td>-0.017</td><td>0.027</td><td>-0.007</td><td>0.148</td><td>&hellip;</td><td>0.0</td><td>0.0</td><td>0.0</td><td>0.0</td><td>0.0</td><td>0.0</td><td>0.0</td><td>0.0</td><td>0.0</td><td>0.0</td><td>0.0</td><td>0.0</td><td>0.0</td><td>0.0</td><td>0.0</td><td>0.0</td><td>0.0</td><td>0.0</td><td>0.0</td><td>0.0</td><td>0.0</td><td>0.0</td><td>0.0</td><td>0.0</td><td>0.0</td><td>0.0</td><td>0.0</td><td>0.0</td><td>0.0</td><td>0.0</td><td>0.0</td><td>0.0</td><td>0.0</td><td>0.0</td><td>0.0</td><td>0.0</td><td>0.0</td></tr><tr><td>&quot;GGGAACGACUCGAG…</td><td>&quot;2A3_MaP&quot;</td><td>0.0</td><td>0.0</td><td>0.0</td><td>0.0</td><td>0.0</td><td>0.0</td><td>0.0</td><td>0.0</td><td>0.0</td><td>0.0</td><td>0.0</td><td>0.0</td><td>0.0</td><td>0.0</td><td>0.0</td><td>0.0</td><td>0.0</td><td>0.0</td><td>0.0</td><td>0.0</td><td>0.0</td><td>0.0</td><td>0.0</td><td>0.0</td><td>0.0</td><td>0.0</td><td>-0.039</td><td>0.354</td><td>-0.573</td><td>-0.061</td><td>-0.094</td><td>0.016</td><td>-0.013</td><td>0.05</td><td>-0.043</td><td>&hellip;</td><td>0.0</td><td>0.0</td><td>0.0</td><td>0.0</td><td>0.0</td><td>0.0</td><td>0.0</td><td>0.0</td><td>0.0</td><td>0.0</td><td>0.0</td><td>0.0</td><td>0.0</td><td>0.0</td><td>0.0</td><td>0.0</td><td>0.0</td><td>0.0</td><td>0.0</td><td>0.0</td><td>0.0</td><td>0.0</td><td>0.0</td><td>0.0</td><td>0.0</td><td>0.0</td><td>0.0</td><td>0.0</td><td>0.0</td><td>0.0</td><td>0.0</td><td>0.0</td><td>0.0</td><td>0.0</td><td>0.0</td><td>0.0</td><td>0.0</td></tr><tr><td>&quot;GGGAACGACUCGAG…</td><td>&quot;2A3_MaP&quot;</td><td>0.0</td><td>0.0</td><td>0.0</td><td>0.0</td><td>0.0</td><td>0.0</td><td>0.0</td><td>0.0</td><td>0.0</td><td>0.0</td><td>0.0</td><td>0.0</td><td>0.0</td><td>0.0</td><td>0.0</td><td>0.0</td><td>0.0</td><td>0.0</td><td>0.0</td><td>0.0</td><td>0.0</td><td>0.0</td><td>0.0</td><td>0.0</td><td>0.0</td><td>0.0</td><td>0.156</td><td>0.435</td><td>0.138</td><td>0.16</td><td>0.194</td><td>-0.002</td><td>-0.01</td><td>0.0</td><td>0.043</td><td>&hellip;</td><td>0.0</td><td>0.0</td><td>0.0</td><td>0.0</td><td>0.0</td><td>0.0</td><td>0.0</td><td>0.0</td><td>0.0</td><td>0.0</td><td>0.0</td><td>0.0</td><td>0.0</td><td>0.0</td><td>0.0</td><td>0.0</td><td>0.0</td><td>0.0</td><td>0.0</td><td>0.0</td><td>0.0</td><td>0.0</td><td>0.0</td><td>0.0</td><td>0.0</td><td>0.0</td><td>0.0</td><td>0.0</td><td>0.0</td><td>0.0</td><td>0.0</td><td>0.0</td><td>0.0</td><td>0.0</td><td>0.0</td><td>0.0</td><td>0.0</td></tr><tr><td>&quot;GGGAACGACUCGAG…</td><td>&quot;2A3_MaP&quot;</td><td>0.0</td><td>0.0</td><td>0.0</td><td>0.0</td><td>0.0</td><td>0.0</td><td>0.0</td><td>0.0</td><td>0.0</td><td>0.0</td><td>0.0</td><td>0.0</td><td>0.0</td><td>0.0</td><td>0.0</td><td>0.0</td><td>0.0</td><td>0.0</td><td>0.0</td><td>0.0</td><td>0.0</td><td>0.0</td><td>0.0</td><td>0.0</td><td>0.0</td><td>0.0</td><td>-0.086</td><td>1.018</td><td>0.354</td><td>0.577</td><td>0.237</td><td>0.097</td><td>-0.017</td><td>0.063</td><td>0.183</td><td>&hellip;</td><td>0.0</td><td>0.0</td><td>0.0</td><td>0.0</td><td>0.0</td><td>0.0</td><td>0.0</td><td>0.0</td><td>0.0</td><td>0.0</td><td>0.0</td><td>0.0</td><td>0.0</td><td>0.0</td><td>0.0</td><td>0.0</td><td>0.0</td><td>0.0</td><td>0.0</td><td>0.0</td><td>0.0</td><td>0.0</td><td>0.0</td><td>0.0</td><td>0.0</td><td>0.0</td><td>0.0</td><td>0.0</td><td>0.0</td><td>0.0</td><td>0.0</td><td>0.0</td><td>0.0</td><td>0.0</td><td>0.0</td><td>0.0</td><td>0.0</td></tr></tbody></table></div>"
      ],
      "text/plain": [
       "shape: (5, 414)\n",
       "┌───────────┬───────────┬───────────┬───────────┬───┬───────────┬───────────┬───────────┬──────────┐\n",
       "│ sequence  ┆ experimen ┆ reactivit ┆ reactivit ┆ … ┆ reactivit ┆ reactivit ┆ reactivit ┆ reactivi │\n",
       "│ ---       ┆ t_type    ┆ y_0001    ┆ y_0002    ┆   ┆ y_error_0 ┆ y_error_0 ┆ y_error_0 ┆ ty_error │\n",
       "│ str       ┆ ---       ┆ ---       ┆ ---       ┆   ┆ 203       ┆ 204       ┆ 205       ┆ _0206    │\n",
       "│           ┆ str       ┆ f64       ┆ f64       ┆   ┆ ---       ┆ ---       ┆ ---       ┆ ---      │\n",
       "│           ┆           ┆           ┆           ┆   ┆ f64       ┆ f64       ┆ f64       ┆ f64      │\n",
       "╞═══════════╪═══════════╪═══════════╪═══════════╪═══╪═══════════╪═══════════╪═══════════╪══════════╡\n",
       "│ GGGAACGAC ┆ 2A3_MaP   ┆ 0.0       ┆ 0.0       ┆ … ┆ 0.0       ┆ 0.0       ┆ 0.0       ┆ 0.0      │\n",
       "│ UCGAGUAGA ┆           ┆           ┆           ┆   ┆           ┆           ┆           ┆          │\n",
       "│ GUCGAAAAA ┆           ┆           ┆           ┆   ┆           ┆           ┆           ┆          │\n",
       "│ CGUUG…    ┆           ┆           ┆           ┆   ┆           ┆           ┆           ┆          │\n",
       "│ GGGAACGAC ┆ 2A3_MaP   ┆ 0.0       ┆ 0.0       ┆ … ┆ 0.0       ┆ 0.0       ┆ 0.0       ┆ 0.0      │\n",
       "│ UCGAGUAGA ┆           ┆           ┆           ┆   ┆           ┆           ┆           ┆          │\n",
       "│ GUCGAAAAA ┆           ┆           ┆           ┆   ┆           ┆           ┆           ┆          │\n",
       "│ CAUUG…    ┆           ┆           ┆           ┆   ┆           ┆           ┆           ┆          │\n",
       "│ GGGAACGAC ┆ 2A3_MaP   ┆ 0.0       ┆ 0.0       ┆ … ┆ 0.0       ┆ 0.0       ┆ 0.0       ┆ 0.0      │\n",
       "│ UCGAGUAGA ┆           ┆           ┆           ┆   ┆           ┆           ┆           ┆          │\n",
       "│ GUCGAAAAA ┆           ┆           ┆           ┆   ┆           ┆           ┆           ┆          │\n",
       "│ CCUUG…    ┆           ┆           ┆           ┆   ┆           ┆           ┆           ┆          │\n",
       "│ GGGAACGAC ┆ 2A3_MaP   ┆ 0.0       ┆ 0.0       ┆ … ┆ 0.0       ┆ 0.0       ┆ 0.0       ┆ 0.0      │\n",
       "│ UCGAGUAGA ┆           ┆           ┆           ┆   ┆           ┆           ┆           ┆          │\n",
       "│ GUCGAAAAA ┆           ┆           ┆           ┆   ┆           ┆           ┆           ┆          │\n",
       "│ CUUUG…    ┆           ┆           ┆           ┆   ┆           ┆           ┆           ┆          │\n",
       "│ GGGAACGAC ┆ 2A3_MaP   ┆ 0.0       ┆ 0.0       ┆ … ┆ 0.0       ┆ 0.0       ┆ 0.0       ┆ 0.0      │\n",
       "│ UCGAGUAGA ┆           ┆           ┆           ┆   ┆           ┆           ┆           ┆          │\n",
       "│ GUCGAAAAA ┆           ┆           ┆           ┆   ┆           ┆           ┆           ┆          │\n",
       "│ CGAUG…    ┆           ┆           ┆           ┆   ┆           ┆           ┆           ┆          │\n",
       "└───────────┴───────────┴───────────┴───────────┴───┴───────────┴───────────┴───────────┴──────────┘"
      ]
     },
     "execution_count": 10,
     "metadata": {},
     "output_type": "execute_result"
    }
   ],
   "source": [
    "df.head()"
   ]
  },
  {
   "cell_type": "code",
   "execution_count": 11,
   "id": "aa5cde63-b193-416a-adb8-5d465d194590",
   "metadata": {},
   "outputs": [
    {
     "data": {
      "image/png": "[encoded data removed]",
      "text/plain": [
       "<Figure size 500x500 with 1 Axes>"
      ]
     },
     "metadata": {},
     "output_type": "display_data"
    }
   ],
   "source": [
    "experiments_df = df.select(pl.col('experiment_type'))\n",
    "sns.catplot(data=experiments_df,x=\"experiment_type\", kind=\"count\")\n",
    "del experiments_df"
   ]
  },
  {
   "cell_type": "code",
   "execution_count": 12,
   "id": "b7c5c92f-b2b4-4049-aea5-afc9986ff2ea",
   "metadata": {},
   "outputs": [
    {
     "data": {
      "text/plain": [
       "1613146"
      ]
     },
     "execution_count": 12,
     "metadata": {},
     "output_type": "execute_result"
    }
   ],
   "source": [
    "df.height"
   ]
  },
  {
   "cell_type": "code",
   "execution_count": 13,
   "id": "22773923-d91d-4b9c-b585-68b241895dcb",
   "metadata": {},
   "outputs": [],
   "source": [
    "sequence_lf = df.lazy().group_by(\"sequence\", maintain_order=True).count()\n",
    "del df\n",
    "sequence_df = sequence_lf.collect(streaming=True)"
   ]
  },
  {
   "cell_type": "code",
   "execution_count": 14,
   "id": "ce9fd4bd-dfb1-4c61-8f80-05f53a9dd731",
   "metadata": {},
   "outputs": [
    {
     "data": {
      "text/html": [
       "<div><style>\n",
       ".dataframe > thead > tr > th,\n",
       ".dataframe > tbody > tr > td {\n",
       "  text-align: right;\n",
       "  white-space: pre-wrap;\n",
       "}\n",
       "</style>\n",
       "<small>shape: (1, 1)</small><table border=\"1\" class=\"dataframe\"><thead><tr><th>count</th></tr><tr><td>u32</td></tr></thead><tbody><tr><td>2</td></tr></tbody></table></div>"
      ],
      "text/plain": [
       "shape: (1, 1)\n",
       "┌───────┐\n",
       "│ count │\n",
       "│ ---   │\n",
       "│ u32   │\n",
       "╞═══════╡\n",
       "│ 2     │\n",
       "└───────┘"
      ]
     },
     "execution_count": 14,
     "metadata": {},
     "output_type": "execute_result"
    }
   ],
   "source": [
    "sequence_df.select(pl.max(\"count\"))"
   ]
  },
  {
   "cell_type": "code",
   "execution_count": 15,
   "id": "c4f97184-ff4f-4212-989e-cbc5aca74ea5",
   "metadata": {},
   "outputs": [
    {
     "data": {
      "text/html": [
       "<div><style>\n",
       ".dataframe > thead > tr > th,\n",
       ".dataframe > tbody > tr > td {\n",
       "  text-align: right;\n",
       "  white-space: pre-wrap;\n",
       "}\n",
       "</style>\n",
       "<small>shape: (1, 1)</small><table border=\"1\" class=\"dataframe\"><thead><tr><th>count</th></tr><tr><td>u32</td></tr></thead><tbody><tr><td>2</td></tr></tbody></table></div>"
      ],
      "text/plain": [
       "shape: (1, 1)\n",
       "┌───────┐\n",
       "│ count │\n",
       "│ ---   │\n",
       "│ u32   │\n",
       "╞═══════╡\n",
       "│ 2     │\n",
       "└───────┘"
      ]
     },
     "execution_count": 15,
     "metadata": {},
     "output_type": "execute_result"
    }
   ],
   "source": [
    "sequence_df.select(pl.min(\"count\"))"
   ]
  },
  {
   "cell_type": "code",
   "execution_count": 16,
   "id": "8b07ca7e-3e3c-4874-94cf-bb6b15eb053a",
   "metadata": {},
   "outputs": [],
   "source": [
    "del sequence_lf\n",
    "del sequence_df"
   ]
  },
  {
   "cell_type": "code",
   "execution_count": null,
   "id": "873c877d-afa2-466f-b221-b7c0a35728a4",
   "metadata": {},
   "outputs": [],
   "source": []
  }
 ],
 "metadata": {
  "kernelspec": {
   "display_name": "Python 3 (ipykernel)",
   "language": "python",
   "name": "python3"
  },
  "language_info": {
   "codemirror_mode": {
    "name": "ipython",
    "version": 3
   },
   "file_extension": ".py",
   "mimetype": "text/x-python",
   "name": "python",
   "nbconvert_exporter": "python",
   "pygments_lexer": "ipython3",
   "version": "3.11.0rc1"
  }
 },
 "nbformat": 4,
 "nbformat_minor": 5
}
