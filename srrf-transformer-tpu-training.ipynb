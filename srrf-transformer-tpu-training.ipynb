{
 "cells": [
  {
   "cell_type": "markdown",
   "id": "e132bd9b",
   "metadata": {
    "papermill": {
     "duration": 0.008145,
     "end_time": "2023-10-22T13:12:09.638424",
     "exception": false,
     "start_time": "2023-10-22T13:12:09.630279",
     "status": "completed"
    },
    "tags": []
   },
   "source": [
    "# Update (version 18)\n",
    "This version has a massive speedup, from 138s per epoch to 42s per epoch, with large steps_per_executin and BS 128.  \n",
    "You can get another speedup of ~25% (from 42s to 32s) with a global mixed precision policy of bfloat16 (thank you, Jayoo Hwang, for this pointer!) at the cost of 0.001 accuracy. I prefer the accuracy, but if the 10s speedup is important to you, you can get it with the following:  \n",
    "\n",
    "policyConfig = 'mixed_bfloat16'  \n",
    "policy = tf.keras.mixed_precision.Policy(policyConfig)  \n",
    "tf.keras.mixed_precision.set_global_policy(policy)  \n",
    "\n",
    "And a minor alteration of the positional encoding layer to make it compatible.  \n",
    "You can get another minor speedup with BS 256 (38s, 27s with bfloat16 global mixed precision policy). Since it is so tiny, BS 128 is probably the ideal one. If you have exciting findings regarding speed optimization, particularly if you can achieve another massive speedup or train with mixed precision without sacrificing accuracy, please share it in the comments for the common good of all of us low-budget folks without a private 4090...  \n",
    "p.s. I always thought that TPU already makes matrix multiplications in bfloat16, so I don't understand why setting bfloat16 mixed precision policy gives another boost. If anyone here knows the answer, please enlighten me.  \n",
    "p.p.s. Since I now have a massive speedup, I increased the epochs from 200 to 400 because why not. I don't know if that will improve accuracy; we will find out together. So, for anyone interested in the previous results, this notebook can achieve approximately 0.1300-0.1303 validation score with 200 epochs."
   ]
  },
  {
   "cell_type": "markdown",
   "id": "3917c6d3",
   "metadata": {
    "papermill": {
     "duration": 0.00685,
     "end_time": "2023-10-22T13:12:09.652156",
     "exception": false,
     "start_time": "2023-10-22T13:12:09.645306",
     "status": "completed"
    },
    "tags": []
   },
   "source": [
    "12-layers small (192 dim) transformer structure, same as [this notebook](https://www.kaggle.com/code/iafoss/rna-starter-0-186-lb)  .        \n",
    "AdamW optimizer.  \n",
    "Batch size ~64~ 128.  \n",
    "~200~ 400 epochs.  \n",
    "[Inference notebook](https://www.kaggle.com/code/shlomoron/srrf-transformer-tpu-inference)"
   ]
  },
  {
   "cell_type": "markdown",
   "id": "137cf79f",
   "metadata": {
    "papermill": {
     "duration": 0.006804,
     "end_time": "2023-10-22T13:12:09.665500",
     "exception": false,
     "start_time": "2023-10-22T13:12:09.658696",
     "status": "completed"
    },
    "tags": []
   },
   "source": [
    "# Imports"
   ]
  },
  {
   "cell_type": "code",
   "execution_count": 1,
   "id": "e0e6ec29",
   "metadata": {
    "execution": {
     "iopub.execute_input": "2023-10-22T13:12:09.680834Z",
     "iopub.status.busy": "2023-10-22T13:12:09.679897Z",
     "iopub.status.idle": "2023-10-22T13:12:51.323258Z",
     "shell.execute_reply": "2023-10-22T13:12:51.322342Z"
    },
    "papermill": {
     "duration": 41.653701,
     "end_time": "2023-10-22T13:12:51.325863",
     "exception": false,
     "start_time": "2023-10-22T13:12:09.672162",
     "status": "completed"
    },
    "tags": []
   },
   "outputs": [
    {
     "name": "stderr",
     "output_type": "stream",
     "text": [
      "2023-11-02 12:43:39.308168: E tensorflow/compiler/xla/stream_executor/cuda/cuda_dnn.cc:9342] Unable to register cuDNN factory: Attempting to register factory for plugin cuDNN when one has already been registered\n",
      "2023-11-02 12:43:39.308208: E tensorflow/compiler/xla/stream_executor/cuda/cuda_fft.cc:609] Unable to register cuFFT factory: Attempting to register factory for plugin cuFFT when one has already been registered\n",
      "2023-11-02 12:43:39.308233: E tensorflow/compiler/xla/stream_executor/cuda/cuda_blas.cc:1518] Unable to register cuBLAS factory: Attempting to register factory for plugin cuBLAS when one has already been registered\n",
      "2023-11-02 12:43:39.315990: I tensorflow/core/platform/cpu_feature_guard.cc:182] This TensorFlow binary is optimized to use available CPU instructions in performance-critical operations.\n",
      "To enable the following instructions: AVX2 FMA, in other operations, rebuild TensorFlow with the appropriate compiler flags.\n"
     ]
    }
   ],
   "source": [
    "import tensorflow as tf\n",
    "import numpy as np\n",
    "import matplotlib.pyplot as plt\n",
    "import pickle\n",
    "import shutil\n",
    "import math\n",
    "import pandas as pd\n",
    "import gc\n",
    "import os"
   ]
  },
  {
   "cell_type": "markdown",
   "id": "b7b3158a",
   "metadata": {
    "papermill": {
     "duration": 0.0068,
     "end_time": "2023-10-22T13:12:51.339526",
     "exception": false,
     "start_time": "2023-10-22T13:12:51.332726",
     "status": "completed"
    },
    "tags": []
   },
   "source": [
    "# TPU boilerplate code"
   ]
  },
  {
   "cell_type": "code",
   "execution_count": 2,
   "id": "5946463d",
   "metadata": {
    "execution": {
     "iopub.execute_input": "2023-10-22T13:12:51.354766Z",
     "iopub.status.busy": "2023-10-22T13:12:51.354090Z",
     "iopub.status.idle": "2023-10-22T13:13:00.038633Z",
     "shell.execute_reply": "2023-10-22T13:13:00.037750Z"
    },
    "papermill": {
     "duration": 8.696798,
     "end_time": "2023-10-22T13:13:00.042989",
     "exception": false,
     "start_time": "2023-10-22T13:12:51.346191",
     "status": "completed"
    },
    "tags": []
   },
   "outputs": [],
   "source": [
    "# Configure Strategy. Assume TPU...if not set default for GPU\n",
    "tpu = None\n",
    "try:\n",
    "    tpu = tf.distribute.cluster_resolver.TPUClusterResolver.connect(tpu=\"local\") # \"local\" for 1VM TPU\n",
    "    strategy = tf.distribute.TPUStrategy(tpu)\n",
    "    print(\"on TPU\")\n",
    "    print(\"REPLICAS: \", strategy.num_replicas_in_sync)\n",
    "except:\n",
    "    strategy = tf.distribute.get_strategy()"
   ]
  },
  {
   "cell_type": "markdown",
   "id": "eeb7820d",
   "metadata": {
    "papermill": {
     "duration": 0.007513,
     "end_time": "2023-10-22T13:13:00.058782",
     "exception": false,
     "start_time": "2023-10-22T13:13:00.051269",
     "status": "completed"
    },
    "tags": []
   },
   "source": [
    "# Configs"
   ]
  },
  {
   "cell_type": "code",
   "execution_count": 3,
   "id": "c41fad15",
   "metadata": {
    "execution": {
     "iopub.execute_input": "2023-10-22T13:13:00.075411Z",
     "iopub.status.busy": "2023-10-22T13:13:00.075175Z",
     "iopub.status.idle": "2023-10-22T13:13:00.080014Z",
     "shell.execute_reply": "2023-10-22T13:13:00.079224Z"
    },
    "papermill": {
     "duration": 0.014844,
     "end_time": "2023-10-22T13:13:00.081737",
     "exception": false,
     "start_time": "2023-10-22T13:13:00.066893",
     "status": "completed"
    },
    "tags": []
   },
   "outputs": [],
   "source": [
    "DEBUG = False\n",
    "\n",
    "PAD_x = 0.0\n",
    "PAD_y = np.nan\n",
    "X_max_len = 206\n",
    "batch_size = 128\n",
    "val_batch_size = 5512\n",
    "\n",
    "\n",
    "if DEBUG:\n",
    "    batch_size = 2\n",
    "    val_batch_size = 2\n",
    "\n",
    "num_vocab = 5\n",
    "hidden_dim = 192"
   ]
  },
  {
   "cell_type": "markdown",
   "id": "7d43d1fb",
   "metadata": {
    "papermill": {
     "duration": 0.007117,
     "end_time": "2023-10-22T13:13:00.096581",
     "exception": false,
     "start_time": "2023-10-22T13:13:00.089464",
     "status": "completed"
    },
    "tags": []
   },
   "source": [
    "# Data API pipeline\n",
    "This section applies filtering, preprocessing, shuffling, paddings, and batchings. I already transformed all the data to TFRecords; you can find the TFRecords dataset [here](https://www.kaggle.com/datasets/shlomoron/srrf-tfrecords-ds). I shuffled the samples before creating the TFRecords."
   ]
  },
  {
   "cell_type": "code",
   "execution_count": 4,
   "id": "4004501f",
   "metadata": {
    "execution": {
     "iopub.execute_input": "2023-10-22T13:13:00.112625Z",
     "iopub.status.busy": "2023-10-22T13:13:00.112389Z",
     "iopub.status.idle": "2023-10-22T13:13:00.116088Z",
     "shell.execute_reply": "2023-10-22T13:13:00.115328Z"
    },
    "papermill": {
     "duration": 0.014064,
     "end_time": "2023-10-22T13:13:00.117906",
     "exception": false,
     "start_time": "2023-10-22T13:13:00.103842",
     "status": "completed"
    },
    "tags": []
   },
   "outputs": [],
   "source": [
    "tffiles_path = '/home/kineticengines/app/datasets/as_tfrecords/tfds'\n",
    "tffiles = [f'{tffiles_path}/{x}.tfrecord' for x in range(164)]"
   ]
  },
  {
   "cell_type": "markdown",
   "id": "e8b97c20",
   "metadata": {
    "papermill": {
     "duration": 0.007372,
     "end_time": "2023-10-22T13:13:00.132373",
     "exception": false,
     "start_time": "2023-10-22T13:13:00.125001",
     "status": "completed"
    },
    "tags": []
   },
   "source": [
    "## Decoding TFRecords"
   ]
  },
  {
   "cell_type": "code",
   "execution_count": 5,
   "id": "aeed4ac6",
   "metadata": {
    "execution": {
     "iopub.execute_input": "2023-10-22T13:13:00.148391Z",
     "iopub.status.busy": "2023-10-22T13:13:00.148167Z",
     "iopub.status.idle": "2023-10-22T13:13:00.159941Z",
     "shell.execute_reply": "2023-10-22T13:13:00.159265Z"
    },
    "papermill": {
     "duration": 0.021874,
     "end_time": "2023-10-22T13:13:00.161694",
     "exception": false,
     "start_time": "2023-10-22T13:13:00.139820",
     "status": "completed"
    },
    "tags": []
   },
   "outputs": [],
   "source": [
    "def decode_tfrec(record_bytes):\n",
    "    schema = {}\n",
    "    schema[\"id\"] = tf.io.VarLenFeature(dtype=tf.string)\n",
    "    schema[\"seq\"] = tf.io.VarLenFeature(dtype=tf.float32)\n",
    "    schema[\"dataset_name_2A3\"] = tf.io.VarLenFeature(dtype=tf.string)\n",
    "    schema[\"dataset_name_DMS\"] = tf.io.VarLenFeature(dtype=tf.string)\n",
    "    schema[\"reads_2A3\"] = tf.io.VarLenFeature(dtype=tf.float32)\n",
    "    schema[\"reads_DMS\"] = tf.io.VarLenFeature(dtype=tf.float32)\n",
    "    schema[\"signal_to_noise_2A3\"] = tf.io.VarLenFeature(dtype=tf.float32)\n",
    "    schema[\"signal_to_noise_DMS\"] = tf.io.VarLenFeature(dtype=tf.float32)\n",
    "    schema[\"SN_filter_2A3\"] = tf.io.VarLenFeature(dtype=tf.float32)\n",
    "    schema[\"SN_filter_DMS\"] = tf.io.VarLenFeature(dtype=tf.float32)\n",
    "    schema[\"reactivity_2A3\"] = tf.io.VarLenFeature(dtype=tf.float32)\n",
    "    schema[\"reactivity_DMS\"] = tf.io.VarLenFeature(dtype=tf.float32)\n",
    "    schema[\"reactivity_error_2A3\"] = tf.io.VarLenFeature(dtype=tf.float32)\n",
    "    schema[\"reactivity_error_DMS\"] = tf.io.VarLenFeature(dtype=tf.float32)\n",
    "    features = tf.io.parse_single_example(record_bytes, schema)\n",
    "\n",
    "    sample_id = tf.sparse.to_dense(features[\"id\"])\n",
    "    seq = tf.sparse.to_dense(features[\"seq\"])\n",
    "    dataset_name_2A3 = tf.sparse.to_dense(features[\"dataset_name_2A3\"])\n",
    "    dataset_name_DMS = tf.sparse.to_dense(features[\"dataset_name_DMS\"])\n",
    "    reads_2A3 = tf.sparse.to_dense(features[\"reads_2A3\"])\n",
    "    reads_DMS = tf.sparse.to_dense(features[\"reads_DMS\"])\n",
    "    signal_to_noise_2A3 = tf.sparse.to_dense(features[\"signal_to_noise_2A3\"])\n",
    "    signal_to_noise_DMS = tf.sparse.to_dense(features[\"signal_to_noise_DMS\"])\n",
    "    SN_filter_2A3 = tf.sparse.to_dense(features[\"SN_filter_2A3\"])\n",
    "    SN_filter_DMS = tf.sparse.to_dense(features[\"SN_filter_DMS\"])\n",
    "    reactivity_2A3 = tf.sparse.to_dense(features[\"reactivity_2A3\"])\n",
    "    reactivity_DMS = tf.sparse.to_dense(features[\"reactivity_DMS\"])\n",
    "    reactivity_error_2A3 = tf.sparse.to_dense(features[\"reactivity_error_2A3\"])\n",
    "    reactivity_error_DMS = tf.sparse.to_dense(features[\"reactivity_error_DMS\"])\n",
    "\n",
    "    out = {}\n",
    "    out['seq']  = seq\n",
    "    out['SN_filter_2A3']  = SN_filter_2A3\n",
    "    out['SN_filter_DMS']  = SN_filter_DMS\n",
    "    out['reads_2A3']  = reads_2A3\n",
    "    out['reads_DMS']  = reads_DMS\n",
    "    out['signal_to_noise_2A3']  = signal_to_noise_2A3\n",
    "    out['signal_to_noise_DMS']  = signal_to_noise_DMS\n",
    "    out['reactivity_2A3']  = reactivity_2A3\n",
    "    out['reactivity_DMS']  = reactivity_DMS\n",
    "    return out"
   ]
  },
  {
   "cell_type": "markdown",
   "id": "8c09afef",
   "metadata": {
    "papermill": {
     "duration": 0.006979,
     "end_time": "2023-10-22T13:13:00.176117",
     "exception": false,
     "start_time": "2023-10-22T13:13:00.169138",
     "status": "completed"
    },
    "tags": []
   },
   "source": [
    "## Filtering"
   ]
  },
  {
   "cell_type": "code",
   "execution_count": 6,
   "id": "be54dd03",
   "metadata": {
    "execution": {
     "iopub.execute_input": "2023-10-22T13:13:00.192284Z",
     "iopub.status.busy": "2023-10-22T13:13:00.192043Z",
     "iopub.status.idle": "2023-10-22T13:13:00.197559Z",
     "shell.execute_reply": "2023-10-22T13:13:00.196773Z"
    },
    "papermill": {
     "duration": 0.015944,
     "end_time": "2023-10-22T13:13:00.199353",
     "exception": false,
     "start_time": "2023-10-22T13:13:00.183409",
     "status": "completed"
    },
    "tags": []
   },
   "outputs": [],
   "source": [
    "def f1(): return True\n",
    "def f2(): return False\n",
    "\n",
    "def filter_function_1(x):\n",
    "    SN_filter_2A3 = x['SN_filter_2A3']\n",
    "    SN_filter_DMS = x['SN_filter_DMS']\n",
    "    return tf.cond((SN_filter_2A3 == 1) and (SN_filter_DMS == 1) , true_fn=f1, false_fn=f2)\n",
    "\n",
    "def filter_function_2(x):\n",
    "    reads_2A3 = x['reads_2A3']\n",
    "    reads_DMS = x['reads_DMS']\n",
    "    signal_to_noise_2A3 = x['signal_to_noise_2A3']\n",
    "    signal_to_noise_DMS = x['signal_to_noise_DMS']\n",
    "    cond = (reads_2A3>100 and signal_to_noise_2A3>0.75) or (reads_DMS>100 and signal_to_noise_DMS>0.75)\n",
    "    return tf.cond(cond, true_fn=f1, false_fn=f2)"
   ]
  },
  {
   "cell_type": "markdown",
   "id": "f4eed226",
   "metadata": {
    "papermill": {
     "duration": 0.007365,
     "end_time": "2023-10-22T13:13:00.214406",
     "exception": false,
     "start_time": "2023-10-22T13:13:00.207041",
     "status": "completed"
    },
    "tags": []
   },
   "source": [
    "## Preprocessing"
   ]
  },
  {
   "cell_type": "code",
   "execution_count": 7,
   "id": "e94e1245",
   "metadata": {
    "execution": {
     "iopub.execute_input": "2023-10-22T13:13:00.231162Z",
     "iopub.status.busy": "2023-10-22T13:13:00.230904Z",
     "iopub.status.idle": "2023-10-22T13:13:00.237125Z",
     "shell.execute_reply": "2023-10-22T13:13:00.236295Z"
    },
    "papermill": {
     "duration": 0.016594,
     "end_time": "2023-10-22T13:13:00.238888",
     "exception": false,
     "start_time": "2023-10-22T13:13:00.222294",
     "status": "completed"
    },
    "tags": []
   },
   "outputs": [],
   "source": [
    "def nan_below_filter(x):\n",
    "    reads_2A3 = x['reads_2A3']\n",
    "    reads_DMS = x['reads_DMS']\n",
    "    signal_to_noise_2A3 = x['signal_to_noise_2A3']\n",
    "    signal_to_noise_DMS = x['signal_to_noise_DMS']\n",
    "    reactivity_2A3 = x['reactivity_2A3']\n",
    "    reactivity_DMS = x['reactivity_DMS']\n",
    "\n",
    "    if reads_2A3<100 or signal_to_noise_2A3<0.75:\n",
    "        reactivity_2A3 = np.nan+reactivity_2A3\n",
    "    if reads_DMS<100 or signal_to_noise_DMS<0.75:\n",
    "        reactivity_DMS = np.nan+reactivity_DMS\n",
    "\n",
    "    x['reactivity_2A3'] = reactivity_2A3\n",
    "    x['reactivity_DMS'] = reactivity_DMS\n",
    "    return x\n",
    "\n",
    "def concat_target(x):\n",
    "    reactivity_2A3 = x['reactivity_2A3']\n",
    "    reactivity_DMS = x['reactivity_DMS']\n",
    "    target = tf.concat([reactivity_2A3[..., tf.newaxis], reactivity_DMS[..., tf.newaxis]], axis = 1)\n",
    "    target = tf.clip_by_value(target, 0, 1)\n",
    "    return x['seq'], target"
   ]
  },
  {
   "cell_type": "markdown",
   "id": "be233037",
   "metadata": {
    "papermill": {
     "duration": 0.007209,
     "end_time": "2023-10-22T13:13:00.253783",
     "exception": false,
     "start_time": "2023-10-22T13:13:00.246574",
     "status": "completed"
    },
    "tags": []
   },
   "source": [
    "## get_tfrec_dataset"
   ]
  },
  {
   "cell_type": "code",
   "execution_count": 8,
   "id": "09894432",
   "metadata": {
    "execution": {
     "iopub.execute_input": "2023-10-22T13:13:00.270604Z",
     "iopub.status.busy": "2023-10-22T13:13:00.269895Z",
     "iopub.status.idle": "2023-10-22T13:13:00.278219Z",
     "shell.execute_reply": "2023-10-22T13:13:00.277420Z"
    },
    "papermill": {
     "duration": 0.018357,
     "end_time": "2023-10-22T13:13:00.279813",
     "exception": false,
     "start_time": "2023-10-22T13:13:00.261456",
     "status": "completed"
    },
    "tags": []
   },
   "outputs": [],
   "source": [
    "def get_tfrec_dataset(tffiles, shuffle, batch_size, cache = False, to_filter = False,\n",
    "                      calculate_sample_num = True, to_repeat = False):\n",
    "    ds = tf.data.TFRecordDataset(\n",
    "        tffiles, num_parallel_reads=tf.data.AUTOTUNE, compression_type = 'GZIP').prefetch(tf.data.AUTOTUNE)\n",
    "\n",
    "    ds = ds.map(decode_tfrec, tf.data.AUTOTUNE)\n",
    "    if to_filter == 'filter_1':\n",
    "        ds = ds.filter(filter_function_1)\n",
    "    elif to_filter == 'filter_2':\n",
    "        ds = ds.filter(filter_function_2)\n",
    "    ds = ds.map(nan_below_filter, tf.data.AUTOTUNE)\n",
    "    ds = ds.map(concat_target, tf.data.AUTOTUNE)\n",
    "\n",
    "    if DEBUG:\n",
    "        ds = ds.take(8)\n",
    "\n",
    "    if cache:\n",
    "        ds = ds.cache()\n",
    "\n",
    "    samples_num = 0\n",
    "    if calculate_sample_num:\n",
    "        samples_num = ds.reduce(0, lambda x,_: x+1).numpy()        \n",
    "\n",
    "    if shuffle:\n",
    "        if shuffle == -1:\n",
    "            ds = ds.shuffle(samples_num, reshuffle_each_iteration = True)\n",
    "        else:\n",
    "            ds = ds.shuffle(shuffle, reshuffle_each_iteration = True)\n",
    "\n",
    "    if to_repeat:\n",
    "        ds = ds.repeat()\n",
    "         \n",
    "    if batch_size:\n",
    "        ds = ds.padded_batch(\n",
    "            batch_size, padding_values=(PAD_x, PAD_y), padded_shapes=([X_max_len],[X_max_len, 2]), drop_remainder=True)\n",
    "    ds = ds.prefetch(tf.data.AUTOTUNE)\n",
    "    return ds, samples_num"
   ]
  },
  {
   "cell_type": "markdown",
   "id": "d3b5fdd2",
   "metadata": {
    "papermill": {
     "duration": 0.007013,
     "end_time": "2023-10-22T13:13:00.294109",
     "exception": false,
     "start_time": "2023-10-22T13:13:00.287096",
     "status": "completed"
    },
    "tags": []
   },
   "source": [
    "## Define datasets"
   ]
  },
  {
   "cell_type": "code",
   "execution_count": 9,
   "id": "486379e3",
   "metadata": {
    "execution": {
     "iopub.execute_input": "2023-10-22T13:13:00.309877Z",
     "iopub.status.busy": "2023-10-22T13:13:00.309658Z",
     "iopub.status.idle": "2023-10-22T13:13:00.313829Z",
     "shell.execute_reply": "2023-10-22T13:13:00.313077Z"
    },
    "papermill": {
     "duration": 0.013981,
     "end_time": "2023-10-22T13:13:00.315445",
     "exception": false,
     "start_time": "2023-10-22T13:13:00.301464",
     "status": "completed"
    },
    "tags": []
   },
   "outputs": [],
   "source": [
    "val_len = 5\n",
    "if DEBUG:\n",
    "    val_len = 1\n",
    "\n",
    "val_files = tffiles[:val_len]\n",
    "\n",
    "if DEBUG:\n",
    "    train_files = tffiles[val_len:val_len+1]\n",
    "else:\n",
    "    train_files = tffiles[val_len:]"
   ]
  },
  {
   "cell_type": "markdown",
   "id": "0c49c605",
   "metadata": {
    "papermill": {
     "duration": 0.007311,
     "end_time": "2023-10-22T13:13:00.330135",
     "exception": false,
     "start_time": "2023-10-22T13:13:00.322824",
     "status": "completed"
    },
    "tags": []
   },
   "source": [
    "## Get datasets"
   ]
  },
  {
   "cell_type": "code",
   "execution_count": 10,
   "id": "2e9fc7a5",
   "metadata": {
    "execution": {
     "iopub.execute_input": "2023-10-22T13:13:00.345783Z",
     "iopub.status.busy": "2023-10-22T13:13:00.345516Z",
     "iopub.status.idle": "2023-10-22T13:13:59.276338Z",
     "shell.execute_reply": "2023-10-22T13:13:59.275180Z"
    },
    "papermill": {
     "duration": 58.949733,
     "end_time": "2023-10-22T13:13:59.287200",
     "exception": false,
     "start_time": "2023-10-22T13:13:00.337467",
     "status": "completed"
    },
    "tags": []
   },
   "outputs": [
    {
     "name": "stderr",
     "output_type": "stream",
     "text": [
      "2023-11-02 12:44:21.551965: I tensorflow/compiler/xla/stream_executor/cuda/cuda_gpu_executor.cc:894] successful NUMA node read from SysFS had negative value (-1), but there must be at least one NUMA node, so returning NUMA node zero. See more at https://github.com/torvalds/linux/blob/v6.0/Documentation/ABI/testing/sysfs-bus-pci#L344-L355\n",
      "2023-11-02 12:44:21.557714: I tensorflow/compiler/xla/stream_executor/cuda/cuda_gpu_executor.cc:894] successful NUMA node read from SysFS had negative value (-1), but there must be at least one NUMA node, so returning NUMA node zero. See more at https://github.com/torvalds/linux/blob/v6.0/Documentation/ABI/testing/sysfs-bus-pci#L344-L355\n",
      "2023-11-02 12:44:21.557942: I tensorflow/compiler/xla/stream_executor/cuda/cuda_gpu_executor.cc:894] successful NUMA node read from SysFS had negative value (-1), but there must be at least one NUMA node, so returning NUMA node zero. See more at https://github.com/torvalds/linux/blob/v6.0/Documentation/ABI/testing/sysfs-bus-pci#L344-L355\n",
      "2023-11-02 12:44:21.559349: I tensorflow/compiler/xla/stream_executor/cuda/cuda_gpu_executor.cc:894] successful NUMA node read from SysFS had negative value (-1), but there must be at least one NUMA node, so returning NUMA node zero. See more at https://github.com/torvalds/linux/blob/v6.0/Documentation/ABI/testing/sysfs-bus-pci#L344-L355\n",
      "2023-11-02 12:44:21.559678: I tensorflow/compiler/xla/stream_executor/cuda/cuda_gpu_executor.cc:894] successful NUMA node read from SysFS had negative value (-1), but there must be at least one NUMA node, so returning NUMA node zero. See more at https://github.com/torvalds/linux/blob/v6.0/Documentation/ABI/testing/sysfs-bus-pci#L344-L355\n",
      "2023-11-02 12:44:21.559887: I tensorflow/compiler/xla/stream_executor/cuda/cuda_gpu_executor.cc:894] successful NUMA node read from SysFS had negative value (-1), but there must be at least one NUMA node, so returning NUMA node zero. See more at https://github.com/torvalds/linux/blob/v6.0/Documentation/ABI/testing/sysfs-bus-pci#L344-L355\n",
      "2023-11-02 12:44:21.634821: I tensorflow/compiler/xla/stream_executor/cuda/cuda_gpu_executor.cc:894] successful NUMA node read from SysFS had negative value (-1), but there must be at least one NUMA node, so returning NUMA node zero. See more at https://github.com/torvalds/linux/blob/v6.0/Documentation/ABI/testing/sysfs-bus-pci#L344-L355\n",
      "2023-11-02 12:44:21.634984: I tensorflow/compiler/xla/stream_executor/cuda/cuda_gpu_executor.cc:894] successful NUMA node read from SysFS had negative value (-1), but there must be at least one NUMA node, so returning NUMA node zero. See more at https://github.com/torvalds/linux/blob/v6.0/Documentation/ABI/testing/sysfs-bus-pci#L344-L355\n",
      "2023-11-02 12:44:21.635118: I tensorflow/compiler/xla/stream_executor/cuda/cuda_gpu_executor.cc:894] successful NUMA node read from SysFS had negative value (-1), but there must be at least one NUMA node, so returning NUMA node zero. See more at https://github.com/torvalds/linux/blob/v6.0/Documentation/ABI/testing/sysfs-bus-pci#L344-L355\n",
      "2023-11-02 12:44:21.635219: I tensorflow/core/common_runtime/gpu/gpu_device.cc:1886] Created device /job:localhost/replica:0/task:0/device:GPU:0 with 234 MB memory:  -> device: 0, name: NVIDIA GeForce GTX 1050, pci bus id: 0000:01:00.0, compute capability: 6.1\n"
     ]
    },
    {
     "name": "stdout",
     "output_type": "stream",
     "text": [
      "306251\n",
      "5513\n"
     ]
    }
   ],
   "source": [
    "train_dataset, num_train = get_tfrec_dataset(train_files, shuffle = -1, batch_size = batch_size,\n",
    "                                                  cache = True, to_filter = 'filter_2', calculate_sample_num = True,\n",
    "                                            to_repeat = True)\n",
    "\n",
    "val_dataset, num_val = get_tfrec_dataset(val_files, shuffle = False, batch_size = val_batch_size,\n",
    "                                                  cache = True, to_filter = 'filter_1', calculate_sample_num = True)\n",
    "print(num_train)\n",
    "print(num_val)"
   ]
  },
  {
   "cell_type": "code",
   "execution_count": 15,
   "id": "3523ca27",
   "metadata": {},
   "outputs": [
    {
     "data": {
      "text/plain": [
       "array([[3., 3., 3., ..., 0., 0., 0.],\n",
       "       [3., 3., 3., ..., 0., 0., 0.],\n",
       "       [3., 3., 3., ..., 0., 0., 0.],\n",
       "       ...,\n",
       "       [3., 3., 3., ..., 0., 0., 0.],\n",
       "       [3., 3., 3., ..., 0., 0., 0.],\n",
       "       [3., 3., 3., ..., 0., 0., 0.]], dtype=float32)"
      ]
     },
     "execution_count": 15,
     "metadata": {},
     "output_type": "execute_result"
    }
   ],
   "source": [
    "ds1 = train_dataset.take(1)\n",
    "ds1 = list(ds1.as_numpy_iterator())\n",
    "seq = ds1[0][0]\n",
    "seq"
   ]
  },
  {
   "cell_type": "code",
   "execution_count": 11,
   "id": "82f75e03",
   "metadata": {
    "execution": {
     "iopub.execute_input": "2023-10-22T13:13:59.305683Z",
     "iopub.status.busy": "2023-10-22T13:13:59.305356Z",
     "iopub.status.idle": "2023-10-22T13:13:59.380095Z",
     "shell.execute_reply": "2023-10-22T13:13:59.379092Z"
    },
    "papermill": {
     "duration": 0.086733,
     "end_time": "2023-10-22T13:13:59.382137",
     "exception": false,
     "start_time": "2023-10-22T13:13:59.295404",
     "status": "completed"
    },
    "tags": []
   },
   "outputs": [
    {
     "data": {
      "text/plain": [
       "(TensorShape([5512, 206]), TensorShape([5512, 206, 2]))"
      ]
     },
     "execution_count": 11,
     "metadata": {},
     "output_type": "execute_result"
    }
   ],
   "source": [
    "batch = next(iter(val_dataset))\n",
    "batch[0].shape, batch[1].shape"
   ]
  },
  {
   "cell_type": "markdown",
   "id": "d9605921",
   "metadata": {
    "papermill": {
     "duration": 0.008522,
     "end_time": "2023-10-22T13:13:59.399528",
     "exception": false,
     "start_time": "2023-10-22T13:13:59.391006",
     "status": "completed"
    },
    "tags": []
   },
   "source": [
    "# Model"
   ]
  },
  {
   "cell_type": "markdown",
   "id": "72bfd7fc",
   "metadata": {
    "papermill": {
     "duration": 0.007648,
     "end_time": "2023-10-22T13:13:59.415182",
     "exception": false,
     "start_time": "2023-10-22T13:13:59.407534",
     "status": "completed"
    },
    "tags": []
   },
   "source": [
    "## Model layers"
   ]
  },
  {
   "cell_type": "code",
   "execution_count": 12,
   "id": "6756d429",
   "metadata": {
    "execution": {
     "iopub.execute_input": "2023-10-22T13:13:59.431887Z",
     "iopub.status.busy": "2023-10-22T13:13:59.431573Z",
     "iopub.status.idle": "2023-10-22T13:13:59.447051Z",
     "shell.execute_reply": "2023-10-22T13:13:59.445986Z"
    },
    "papermill": {
     "duration": 0.02634,
     "end_time": "2023-10-22T13:13:59.448949",
     "exception": false,
     "start_time": "2023-10-22T13:13:59.422609",
     "status": "completed"
    },
    "tags": []
   },
   "outputs": [],
   "source": [
    "class transformer_block(tf.keras.layers.Layer):\n",
    "    def __init__(self, dim, num_heads, feed_forward_dim, rate=0.1):\n",
    "        super().__init__()\n",
    "        self.att = tf.keras.layers.MultiHeadAttention(num_heads=num_heads, key_dim=dim//num_heads)\n",
    "        self.ffn = tf.keras.Sequential(\n",
    "            [\n",
    "                tf.keras.layers.Dense(feed_forward_dim, activation=\"relu\"),\n",
    "                tf.keras.layers.Dense(dim),\n",
    "            ]\n",
    "        )\n",
    "        self.layernorm1 = tf.keras.layers.LayerNormalization(epsilon=1e-6)\n",
    "        self.layernorm2 = tf.keras.layers.LayerNormalization(epsilon=1e-6)\n",
    "        self.dropout1 = tf.keras.layers.Dropout(rate)\n",
    "        self.dropout2 = tf.keras.layers.Dropout(rate)\n",
    "        self.supports_masking = True\n",
    "\n",
    "    def call(self, inputs, training, mask):\n",
    "        att_mask = tf.expand_dims(mask, axis=-1)\n",
    "        att_mask = tf.repeat(att_mask, repeats=tf.shape(att_mask)[1], axis=-1)\n",
    "\n",
    "        attn_output = self.att(inputs, inputs, attention_mask = att_mask)\n",
    "        attn_output = self.dropout1(attn_output, training=training)\n",
    "        out1 = self.layernorm1(inputs + attn_output)\n",
    "        ffn_output = self.ffn(out1)\n",
    "        ffn_output = self.dropout2(ffn_output, training=training)\n",
    "        return self.layernorm2(out1 + ffn_output)\n",
    "\n",
    "\n",
    "class positional_encoding_layer(tf.keras.layers.Layer):\n",
    "    def __init__(self, num_vocab=5, maxlen=500, hidden_dim=384):\n",
    "        super().__init__()\n",
    "        self.hidden_dim = hidden_dim\n",
    "        self.pos_emb = self.positional_encoding(maxlen-1, hidden_dim)\n",
    "        self.supports_masking = True\n",
    "\n",
    "    def call(self, x):\n",
    "        maxlen = tf.shape(x)[-2]\n",
    "        x = tf.math.multiply(x, tf.math.sqrt(tf.cast(self.hidden_dim, tf.float32)))\n",
    "        return x + self.pos_emb[:maxlen, :]\n",
    "\n",
    "    def positional_encoding(self, maxlen, hidden_dim):\n",
    "        depth = hidden_dim/2\n",
    "        positions = tf.range(maxlen, dtype = tf.float32)[..., tf.newaxis]\n",
    "        depths = tf.range(depth, dtype = tf.float32)[np.newaxis, :]/depth\n",
    "        angle_rates = tf.math.divide(1, tf.math.pow(tf.cast(10000, tf.float32), depths))\n",
    "        angle_rads = tf.linalg.matmul(positions, angle_rates)\n",
    "        pos_encoding = tf.concat(\n",
    "          [tf.math.sin(angle_rads), tf.math.cos(angle_rads)],\n",
    "          axis=-1)\n",
    "        return pos_encoding"
   ]
  },
  {
   "cell_type": "markdown",
   "id": "28e0c825",
   "metadata": {
    "papermill": {
     "duration": 0.008514,
     "end_time": "2023-10-22T13:13:59.465995",
     "exception": false,
     "start_time": "2023-10-22T13:13:59.457481",
     "status": "completed"
    },
    "tags": []
   },
   "source": [
    "## Loss function"
   ]
  },
  {
   "cell_type": "code",
   "execution_count": 13,
   "id": "10d18c7a",
   "metadata": {
    "execution": {
     "iopub.execute_input": "2023-10-22T13:13:59.484664Z",
     "iopub.status.busy": "2023-10-22T13:13:59.484325Z",
     "iopub.status.idle": "2023-10-22T13:13:59.490529Z",
     "shell.execute_reply": "2023-10-22T13:13:59.489516Z"
    },
    "papermill": {
     "duration": 0.017893,
     "end_time": "2023-10-22T13:13:59.492391",
     "exception": false,
     "start_time": "2023-10-22T13:13:59.474498",
     "status": "completed"
    },
    "tags": []
   },
   "outputs": [],
   "source": [
    "def loss_fn(labels, targets):\n",
    "    labels_mask = tf.math.is_nan(labels)\n",
    "    labels = tf.where(labels_mask, tf.zeros_like(labels), labels)\n",
    "    mask_count = tf.math.reduce_sum(tf.where(labels_mask, tf.zeros_like(labels), tf.ones_like(labels)))\n",
    "    loss = tf.math.abs(labels - targets)\n",
    "    loss = tf.where(labels_mask, tf.zeros_like(loss), loss)\n",
    "    loss = tf.math.reduce_sum(loss)/mask_count\n",
    "    return loss"
   ]
  },
  {
   "cell_type": "markdown",
   "id": "ee7559b4",
   "metadata": {
    "papermill": {
     "duration": 0.008582,
     "end_time": "2023-10-22T13:13:59.509479",
     "exception": false,
     "start_time": "2023-10-22T13:13:59.500897",
     "status": "completed"
    },
    "tags": []
   },
   "source": [
    "## Model"
   ]
  },
  {
   "cell_type": "code",
   "execution_count": 14,
   "id": "57cee436",
   "metadata": {
    "execution": {
     "iopub.execute_input": "2023-10-22T13:13:59.527325Z",
     "iopub.status.busy": "2023-10-22T13:13:59.527046Z",
     "iopub.status.idle": "2023-10-22T13:17:46.234430Z",
     "shell.execute_reply": "2023-10-22T13:17:46.233584Z"
    },
    "papermill": {
     "duration": 226.726253,
     "end_time": "2023-10-22T13:17:46.243892",
     "exception": false,
     "start_time": "2023-10-22T13:13:59.517639",
     "status": "completed"
    },
    "tags": []
   },
   "outputs": [
    {
     "name": "stdout",
     "output_type": "stream",
     "text": [
      "Model: \"model\"\n",
      "_________________________________________________________________\n",
      " Layer (type)                Output Shape              Param #   \n",
      "=================================================================\n",
      " input_1 (InputLayer)        [(None, 206)]             0         \n",
      "                                                                 \n",
      " embedding (Embedding)       (None, 206, 192)          960       \n",
      "                                                                 \n",
      " positional_encoding_layer (  (None, 206, 192)         0         \n",
      " positional_encoding_layer)                                      \n",
      "                                                                 \n",
      " transformer_block (transfor  (None, 206, 192)         444864    \n",
      " mer_block)                                                      \n",
      "                                                                 \n",
      " transformer_block_1 (transf  (None, 206, 192)         444864    \n",
      " ormer_block)                                                    \n",
      "                                                                 \n",
      " transformer_block_2 (transf  (None, 206, 192)         444864    \n",
      " ormer_block)                                                    \n",
      "                                                                 \n",
      " transformer_block_3 (transf  (None, 206, 192)         444864    \n",
      " ormer_block)                                                    \n",
      "                                                                 \n",
      " transformer_block_4 (transf  (None, 206, 192)         444864    \n",
      " ormer_block)                                                    \n",
      "                                                                 \n",
      " transformer_block_5 (transf  (None, 206, 192)         444864    \n",
      " ormer_block)                                                    \n",
      "                                                                 \n",
      " transformer_block_6 (transf  (None, 206, 192)         444864    \n",
      " ormer_block)                                                    \n",
      "                                                                 \n",
      " transformer_block_7 (transf  (None, 206, 192)         444864    \n",
      " ormer_block)                                                    \n",
      "                                                                 \n",
      " transformer_block_8 (transf  (None, 206, 192)         444864    \n",
      " ormer_block)                                                    \n",
      "                                                                 \n",
      " transformer_block_9 (transf  (None, 206, 192)         444864    \n",
      " ormer_block)                                                    \n",
      "                                                                 \n",
      " transformer_block_10 (trans  (None, 206, 192)         444864    \n",
      " former_block)                                                   \n",
      "                                                                 \n",
      " transformer_block_11 (trans  (None, 206, 192)         444864    \n",
      " former_block)                                                   \n",
      "                                                                 \n",
      " dropout_24 (Dropout)        (None, 206, 192)          0         \n",
      "                                                                 \n",
      " dense_24 (Dense)            (None, 206, 2)            386       \n",
      "                                                                 \n",
      "=================================================================\n",
      "Total params: 5,339,714\n",
      "Trainable params: 5,339,714\n",
      "Non-trainable params: 0\n",
      "_________________________________________________________________\n"
     ]
    }
   ],
   "source": [
    "def get_model(hidden_dim = 384, max_len = 206):\n",
    "    with strategy.scope():\n",
    "        inp = tf.keras.Input([max_len])\n",
    "        x = inp\n",
    "\n",
    "        x = tf.keras.layers.Embedding(num_vocab, hidden_dim, mask_zero=True)(x)\n",
    "        x = positional_encoding_layer(num_vocab=num_vocab, maxlen=500, hidden_dim=hidden_dim)(x)\n",
    "\n",
    "        x = transformer_block(hidden_dim, 6, hidden_dim*4)(x)\n",
    "        x = transformer_block(hidden_dim, 6, hidden_dim*4)(x)\n",
    "        x = transformer_block(hidden_dim, 6, hidden_dim*4)(x)\n",
    "        x = transformer_block(hidden_dim, 6, hidden_dim*4)(x)\n",
    "\n",
    "        x = transformer_block(hidden_dim, 6, hidden_dim*4)(x)\n",
    "        x = transformer_block(hidden_dim, 6, hidden_dim*4)(x)\n",
    "        x = transformer_block(hidden_dim, 6, hidden_dim*4)(x)\n",
    "        x = transformer_block(hidden_dim, 6, hidden_dim*4)(x)\n",
    "\n",
    "        x = transformer_block(hidden_dim, 6, hidden_dim*4)(x)\n",
    "        x = transformer_block(hidden_dim, 6, hidden_dim*4)(x)\n",
    "        x = transformer_block(hidden_dim, 6, hidden_dim*4)(x)\n",
    "        x = transformer_block(hidden_dim, 6, hidden_dim*4)(x)\n",
    "\n",
    "        x = tf.keras.layers.Dropout(0.5)(x)\n",
    "        x = tf.keras.layers.Dense(2)(x)\n",
    "\n",
    "        model = tf.keras.Model(inp, x)\n",
    "        loss = loss_fn\n",
    "        optimizer = tf.keras.optimizers.AdamW(learning_rate=0.0005)\n",
    "        model.compile(loss=loss, optimizer=optimizer, steps_per_execution = 100)\n",
    "        return model\n",
    "\n",
    "tf.keras.backend.clear_session()\n",
    "\n",
    "model = get_model(hidden_dim = 192,max_len = X_max_len)\n",
    "model(batch[0])\n",
    "model.summary()"
   ]
  },
  {
   "cell_type": "markdown",
   "id": "a0a559e2",
   "metadata": {
    "papermill": {
     "duration": 0.010181,
     "end_time": "2023-10-22T13:17:46.264874",
     "exception": false,
     "start_time": "2023-10-22T13:17:46.254693",
     "status": "completed"
    },
    "tags": []
   },
   "source": [
    "## Learning rate scheduler\n",
    "I copied the scheduler from [here](https://www.kaggle.com/code/irohith/aslfr-ctc-based-on-prev-comp-1st-place)."
   ]
  },
  {
   "cell_type": "code",
   "execution_count": 15,
   "id": "d378db86",
   "metadata": {
    "execution": {
     "iopub.execute_input": "2023-10-22T13:17:46.287060Z",
     "iopub.status.busy": "2023-10-22T13:17:46.286745Z",
     "iopub.status.idle": "2023-10-22T13:17:46.291084Z",
     "shell.execute_reply": "2023-10-22T13:17:46.290340Z"
    },
    "papermill": {
     "duration": 0.01769,
     "end_time": "2023-10-22T13:17:46.292854",
     "exception": false,
     "start_time": "2023-10-22T13:17:46.275164",
     "status": "completed"
    },
    "tags": []
   },
   "outputs": [],
   "source": [
    "N_EPOCHS = 400\n",
    "if DEBUG:\n",
    "    N_EPOCHS = 5\n",
    "N_WARMUP_EPOCHS = 0\n",
    "LR_MAX = 5e-4\n",
    "WD_RATIO = 0.05\n",
    "WARMUP_METHOD = \"exp\""
   ]
  },
  {
   "cell_type": "code",
   "execution_count": 16,
   "id": "259113ca",
   "metadata": {
    "execution": {
     "iopub.execute_input": "2023-10-22T13:17:46.314745Z",
     "iopub.status.busy": "2023-10-22T13:17:46.314505Z",
     "iopub.status.idle": "2023-10-22T13:17:48.486770Z",
     "shell.execute_reply": "2023-10-22T13:17:48.485817Z"
    },
    "papermill": {
     "duration": 2.187233,
     "end_time": "2023-10-22T13:17:48.490415",
     "exception": false,
     "start_time": "2023-10-22T13:17:46.303182",
     "status": "completed"
    },
    "tags": []
   },
   "outputs": [
    {
     "data": {
      "image/png": "[encoded data removed]",
      "text/plain": [
       "<Figure size 2000x1000 with 1 Axes>"
      ]
     },
     "metadata": {},
     "output_type": "display_data"
    }
   ],
   "source": [
    "def lrfn(current_step, num_warmup_steps, lr_max, num_cycles=0.50, num_training_steps=N_EPOCHS):\n",
    "    if current_step < num_warmup_steps:\n",
    "        if WARMUP_METHOD == 'log':\n",
    "            return lr_max * 0.10 ** (num_warmup_steps - current_step)\n",
    "        else:\n",
    "            return lr_max * 2 ** -(num_warmup_steps - current_step)\n",
    "    else:\n",
    "        progress = float(current_step - num_warmup_steps) / float(max(1, num_training_steps - num_warmup_steps))\n",
    "\n",
    "        return max(0.0, 0.5 * (1.0 + math.cos(math.pi * float(num_cycles) * 2.0 * progress))) * lr_max\n",
    "\n",
    "def plot_lr_schedule(lr_schedule, epochs):\n",
    "    fig = plt.figure(figsize=(20, 10))\n",
    "    plt.plot([None] + lr_schedule + [None])\n",
    "    # X Labels\n",
    "    x = np.arange(1, epochs + 1)\n",
    "    x_axis_labels = [i if epochs <= 40 or i % 5 == 0 or i == 1 else None for i in range(1, epochs + 1)]\n",
    "    plt.xlim([1, epochs])\n",
    "    plt.xticks(x, x_axis_labels) # set tick step to 1 and let x axis start at 1\n",
    "\n",
    "    # Increase y-limit for better readability\n",
    "    plt.ylim([0, max(lr_schedule) * 1.1])\n",
    "\n",
    "    # Title\n",
    "    schedule_info = f'start: {lr_schedule[0]:.1E}, max: {max(lr_schedule):.1E}, final: {lr_schedule[-1]:.1E}'\n",
    "    plt.title(f'Step Learning Rate Schedule, {schedule_info}', size=18, pad=12)\n",
    "\n",
    "    # Plot Learning Rates\n",
    "    for x, val in enumerate(lr_schedule):\n",
    "        if epochs <= 40 or x % 5 == 0 or x is epochs - 1:\n",
    "            if x < len(lr_schedule) - 1:\n",
    "                if lr_schedule[x - 1] < val:\n",
    "                    ha = 'right'\n",
    "                else:\n",
    "                    ha = 'left'\n",
    "            elif x == 0:\n",
    "                ha = 'right'\n",
    "            else:\n",
    "                ha = 'left'\n",
    "            plt.plot(x + 1, val, 'o', color='black');\n",
    "            offset_y = (max(lr_schedule) - min(lr_schedule)) * 0.02\n",
    "            plt.annotate(f'{val:.1E}', xy=(x + 1, val + offset_y), size=12, ha=ha)\n",
    "\n",
    "    plt.xlabel('Epoch', size=16, labelpad=5)\n",
    "    plt.ylabel('Learning Rate', size=16, labelpad=5)\n",
    "    plt.grid()\n",
    "    plt.show()\n",
    "\n",
    "# Learning rate for encoder\n",
    "LR_SCHEDULE = [lrfn(step, num_warmup_steps=N_WARMUP_EPOCHS, lr_max=LR_MAX, num_cycles=0.50) for step in range(N_EPOCHS)]\n",
    "# Plot Learning Rate Schedule\n",
    "plot_lr_schedule(LR_SCHEDULE, epochs=N_EPOCHS)\n",
    "# Learning Rate Callback\n",
    "lr_callback = tf.keras.callbacks.LearningRateScheduler(lambda step: LR_SCHEDULE[step], verbose=0)"
   ]
  },
  {
   "cell_type": "markdown",
   "id": "3e06534e",
   "metadata": {
    "papermill": {
     "duration": 0.01203,
     "end_time": "2023-10-22T13:17:48.514588",
     "exception": false,
     "start_time": "2023-10-22T13:17:48.502558",
     "status": "completed"
    },
    "tags": []
   },
   "source": [
    "## Saving callback"
   ]
  },
  {
   "cell_type": "code",
   "execution_count": 17,
   "id": "6d2cd6d4",
   "metadata": {
    "execution": {
     "iopub.execute_input": "2023-10-22T13:17:48.539155Z",
     "iopub.status.busy": "2023-10-22T13:17:48.538878Z",
     "iopub.status.idle": "2023-10-22T13:17:48.544615Z",
     "shell.execute_reply": "2023-10-22T13:17:48.543805Z"
    },
    "papermill": {
     "duration": 0.020107,
     "end_time": "2023-10-22T13:17:48.546258",
     "exception": false,
     "start_time": "2023-10-22T13:17:48.526151",
     "status": "completed"
    },
    "tags": []
   },
   "outputs": [],
   "source": [
    "save_folder = '/kaggle/working'\n",
    "try:\n",
    "    os.mkdir(f'{save_folder}/weights')\n",
    "except:\n",
    "    pass\n",
    "\n",
    "class save_model_callback(tf.keras.callbacks.Callback):\n",
    "    def __init__(self):\n",
    "        super().__init__()\n",
    "    def on_epoch_end(self, epoch: int, logs=None):\n",
    "        if epoch == 3 or (epoch+1)%25 == 0:\n",
    "            self.model.save_weights(f\"{save_folder}/weights/model_epoch_{epoch}.h5\")"
   ]
  },
  {
   "cell_type": "markdown",
   "id": "4ad71cb9",
   "metadata": {
    "papermill": {
     "duration": 0.011864,
     "end_time": "2023-10-22T13:17:48.569809",
     "exception": false,
     "start_time": "2023-10-22T13:17:48.557945",
     "status": "completed"
    },
    "tags": []
   },
   "source": [
    "## Training"
   ]
  },
  {
   "cell_type": "code",
   "execution_count": 18,
   "id": "b06b7094",
   "metadata": {
    "execution": {
     "iopub.execute_input": "2023-10-22T13:17:48.594853Z",
     "iopub.status.busy": "2023-10-22T13:17:48.594602Z",
     "iopub.status.idle": "2023-10-22T13:17:48.598927Z",
     "shell.execute_reply": "2023-10-22T13:17:48.598214Z"
    },
    "papermill": {
     "duration": 0.019231,
     "end_time": "2023-10-22T13:17:48.600711",
     "exception": false,
     "start_time": "2023-10-22T13:17:48.581480",
     "status": "completed"
    },
    "tags": []
   },
   "outputs": [
    {
     "name": "stdout",
     "output_type": "stream",
     "text": [
      "2392\n",
      "1\n"
     ]
    }
   ],
   "source": [
    "steps_per_epoch = num_train//batch_size\n",
    "val_steps_per_epoch = num_val//val_batch_size\n",
    "print(steps_per_epoch)\n",
    "print(val_steps_per_epoch)"
   ]
  },
  {
   "cell_type": "code",
   "execution_count": 19,
   "id": "3d93c75a",
   "metadata": {
    "execution": {
     "iopub.execute_input": "2023-10-22T13:17:48.625615Z",
     "iopub.status.busy": "2023-10-22T13:17:48.625388Z",
     "iopub.status.idle": "2023-10-22T18:00:22.793227Z",
     "shell.execute_reply": "2023-10-22T18:00:22.791843Z"
    },
    "papermill": {
     "duration": 16954.183018,
     "end_time": "2023-10-22T18:00:22.795569",
     "exception": false,
     "start_time": "2023-10-22T13:17:48.612551",
     "status": "completed"
    },
    "tags": []
   },
   "outputs": [
    {
     "name": "stdout",
     "output_type": "stream",
     "text": [
      "Epoch 1/400\n",
      "2392/2392 - 120s - loss: 0.2539 - val_loss: 0.2052 - lr: 5.0000e-04 - 120s/epoch - 50ms/step\n",
      "Epoch 2/400\n",
      "2392/2392 - 42s - loss: 0.2085 - val_loss: 0.1875 - lr: 4.9999e-04 - 42s/epoch - 18ms/step\n",
      "Epoch 3/400\n",
      "2392/2392 - 42s - loss: 0.1969 - val_loss: 0.1785 - lr: 4.9997e-04 - 42s/epoch - 18ms/step\n",
      "Epoch 4/400\n",
      "2392/2392 - 42s - loss: 0.1898 - val_loss: 0.1723 - lr: 4.9993e-04 - 42s/epoch - 18ms/step\n",
      "Epoch 5/400\n",
      "2392/2392 - 42s - loss: 0.1850 - val_loss: 0.1674 - lr: 4.9988e-04 - 42s/epoch - 18ms/step\n",
      "Epoch 6/400\n",
      "2392/2392 - 42s - loss: 0.1810 - val_loss: 0.1639 - lr: 4.9981e-04 - 42s/epoch - 18ms/step\n",
      "Epoch 7/400\n",
      "2392/2392 - 42s - loss: 0.1775 - val_loss: 0.1604 - lr: 4.9972e-04 - 42s/epoch - 18ms/step\n",
      "Epoch 8/400\n",
      "2392/2392 - 42s - loss: 0.1742 - val_loss: 0.1563 - lr: 4.9962e-04 - 42s/epoch - 18ms/step\n",
      "Epoch 9/400\n",
      "2392/2392 - 42s - loss: 0.1712 - val_loss: 0.1540 - lr: 4.9951e-04 - 42s/epoch - 18ms/step\n",
      "Epoch 10/400\n",
      "2392/2392 - 42s - loss: 0.1688 - val_loss: 0.1505 - lr: 4.9938e-04 - 42s/epoch - 18ms/step\n",
      "Epoch 11/400\n",
      "2392/2392 - 42s - loss: 0.1667 - val_loss: 0.1488 - lr: 4.9923e-04 - 42s/epoch - 18ms/step\n",
      "Epoch 12/400\n",
      "2392/2392 - 42s - loss: 0.1649 - val_loss: 0.1469 - lr: 4.9907e-04 - 42s/epoch - 18ms/step\n",
      "Epoch 13/400\n",
      "2392/2392 - 42s - loss: 0.1635 - val_loss: 0.1469 - lr: 4.9889e-04 - 42s/epoch - 18ms/step\n",
      "Epoch 14/400\n",
      "2392/2392 - 42s - loss: 0.1622 - val_loss: 0.1440 - lr: 4.9870e-04 - 42s/epoch - 18ms/step\n",
      "Epoch 15/400\n",
      "2392/2392 - 42s - loss: 0.1611 - val_loss: 0.1442 - lr: 4.9849e-04 - 42s/epoch - 18ms/step\n",
      "Epoch 16/400\n",
      "2392/2392 - 42s - loss: 0.1601 - val_loss: 0.1434 - lr: 4.9827e-04 - 42s/epoch - 18ms/step\n",
      "Epoch 17/400\n",
      "2392/2392 - 42s - loss: 0.1592 - val_loss: 0.1424 - lr: 4.9803e-04 - 42s/epoch - 18ms/step\n",
      "Epoch 18/400\n",
      "2392/2392 - 42s - loss: 0.1584 - val_loss: 0.1414 - lr: 4.9777e-04 - 42s/epoch - 18ms/step\n",
      "Epoch 19/400\n",
      "2392/2392 - 43s - loss: 0.1577 - val_loss: 0.1406 - lr: 4.9751e-04 - 43s/epoch - 18ms/step\n",
      "Epoch 20/400\n",
      "2392/2392 - 42s - loss: 0.1571 - val_loss: 0.1404 - lr: 4.9722e-04 - 42s/epoch - 18ms/step\n",
      "Epoch 21/400\n",
      "2392/2392 - 42s - loss: 0.1566 - val_loss: 0.1397 - lr: 4.9692e-04 - 42s/epoch - 18ms/step\n",
      "Epoch 22/400\n",
      "2392/2392 - 42s - loss: 0.1561 - val_loss: 0.1398 - lr: 4.9661e-04 - 42s/epoch - 18ms/step\n",
      "Epoch 23/400\n",
      "2392/2392 - 42s - loss: 0.1556 - val_loss: 0.1389 - lr: 4.9628e-04 - 42s/epoch - 18ms/step\n",
      "Epoch 24/400\n",
      "2392/2392 - 42s - loss: 0.1552 - val_loss: 0.1383 - lr: 4.9593e-04 - 42s/epoch - 18ms/step\n",
      "Epoch 25/400\n",
      "2392/2392 - 42s - loss: 0.1548 - val_loss: 0.1386 - lr: 4.9557e-04 - 42s/epoch - 18ms/step\n",
      "Epoch 26/400\n",
      "2392/2392 - 42s - loss: 0.1544 - val_loss: 0.1377 - lr: 4.9520e-04 - 42s/epoch - 18ms/step\n",
      "Epoch 27/400\n",
      "2392/2392 - 42s - loss: 0.1541 - val_loss: 0.1380 - lr: 4.9481e-04 - 42s/epoch - 18ms/step\n",
      "Epoch 28/400\n",
      "2392/2392 - 42s - loss: 0.1538 - val_loss: 0.1382 - lr: 4.9440e-04 - 42s/epoch - 18ms/step\n",
      "Epoch 29/400\n",
      "2392/2392 - 42s - loss: 0.1534 - val_loss: 0.1373 - lr: 4.9398e-04 - 42s/epoch - 18ms/step\n",
      "Epoch 30/400\n",
      "2392/2392 - 42s - loss: 0.1532 - val_loss: 0.1379 - lr: 4.9354e-04 - 42s/epoch - 18ms/step\n",
      "Epoch 31/400\n",
      "2392/2392 - 42s - loss: 0.1529 - val_loss: 0.1360 - lr: 4.9309e-04 - 42s/epoch - 18ms/step\n",
      "Epoch 32/400\n",
      "2392/2392 - 42s - loss: 0.1526 - val_loss: 0.1362 - lr: 4.9263e-04 - 42s/epoch - 18ms/step\n",
      "Epoch 33/400\n",
      "2392/2392 - 42s - loss: 0.1524 - val_loss: 0.1369 - lr: 4.9215e-04 - 42s/epoch - 18ms/step\n",
      "Epoch 34/400\n",
      "2392/2392 - 42s - loss: 0.1521 - val_loss: 0.1362 - lr: 4.9165e-04 - 42s/epoch - 18ms/step\n",
      "Epoch 35/400\n",
      "2392/2392 - 42s - loss: 0.1519 - val_loss: 0.1361 - lr: 4.9114e-04 - 42s/epoch - 18ms/step\n",
      "Epoch 36/400\n",
      "2392/2392 - 42s - loss: 0.1517 - val_loss: 0.1362 - lr: 4.9061e-04 - 42s/epoch - 18ms/step\n",
      "Epoch 37/400\n",
      "2392/2392 - 42s - loss: 0.1515 - val_loss: 0.1361 - lr: 4.9007e-04 - 42s/epoch - 18ms/step\n",
      "Epoch 38/400\n",
      "2392/2392 - 42s - loss: 0.1514 - val_loss: 0.1354 - lr: 4.8952e-04 - 42s/epoch - 18ms/step\n",
      "Epoch 39/400\n",
      "2392/2392 - 42s - loss: 0.1511 - val_loss: 0.1353 - lr: 4.8895e-04 - 42s/epoch - 18ms/step\n",
      "Epoch 40/400\n",
      "2392/2392 - 42s - loss: 0.1510 - val_loss: 0.1353 - lr: 4.8836e-04 - 42s/epoch - 18ms/step\n",
      "Epoch 41/400\n",
      "2392/2392 - 42s - loss: 0.1508 - val_loss: 0.1359 - lr: 4.8776e-04 - 42s/epoch - 18ms/step\n",
      "Epoch 42/400\n",
      "2392/2392 - 42s - loss: 0.1506 - val_loss: 0.1355 - lr: 4.8715e-04 - 42s/epoch - 18ms/step\n",
      "Epoch 43/400\n",
      "2392/2392 - 42s - loss: 0.1504 - val_loss: 0.1346 - lr: 4.8652e-04 - 42s/epoch - 18ms/step\n",
      "Epoch 44/400\n",
      "2392/2392 - 42s - loss: 0.1503 - val_loss: 0.1349 - lr: 4.8588e-04 - 42s/epoch - 18ms/step\n",
      "Epoch 45/400\n",
      "2392/2392 - 42s - loss: 0.1501 - val_loss: 0.1343 - lr: 4.8522e-04 - 42s/epoch - 18ms/step\n",
      "Epoch 46/400\n",
      "2392/2392 - 42s - loss: 0.1499 - val_loss: 0.1348 - lr: 4.8455e-04 - 42s/epoch - 18ms/step\n",
      "Epoch 47/400\n",
      "2392/2392 - 42s - loss: 0.1498 - val_loss: 0.1349 - lr: 4.8386e-04 - 42s/epoch - 18ms/step\n",
      "Epoch 48/400\n",
      "2392/2392 - 42s - loss: 0.1497 - val_loss: 0.1349 - lr: 4.8316e-04 - 42s/epoch - 18ms/step\n",
      "Epoch 49/400\n",
      "2392/2392 - 42s - loss: 0.1496 - val_loss: 0.1344 - lr: 4.8244e-04 - 42s/epoch - 18ms/step\n",
      "Epoch 50/400\n",
      "2392/2392 - 42s - loss: 0.1495 - val_loss: 0.1347 - lr: 4.8171e-04 - 42s/epoch - 18ms/step\n",
      "Epoch 51/400\n",
      "2392/2392 - 42s - loss: 0.1493 - val_loss: 0.1341 - lr: 4.8097e-04 - 42s/epoch - 18ms/step\n",
      "Epoch 52/400\n",
      "2392/2392 - 42s - loss: 0.1492 - val_loss: 0.1339 - lr: 4.8021e-04 - 42s/epoch - 18ms/step\n",
      "Epoch 53/400\n",
      "2392/2392 - 42s - loss: 0.1491 - val_loss: 0.1339 - lr: 4.7944e-04 - 42s/epoch - 18ms/step\n",
      "Epoch 54/400\n",
      "2392/2392 - 42s - loss: 0.1489 - val_loss: 0.1343 - lr: 4.7865e-04 - 42s/epoch - 18ms/step\n",
      "Epoch 55/400\n",
      "2392/2392 - 42s - loss: 0.1488 - val_loss: 0.1335 - lr: 4.7785e-04 - 42s/epoch - 18ms/step\n",
      "Epoch 56/400\n",
      "2392/2392 - 42s - loss: 0.1487 - val_loss: 0.1336 - lr: 4.7704e-04 - 42s/epoch - 18ms/step\n",
      "Epoch 57/400\n",
      "2392/2392 - 42s - loss: 0.1486 - val_loss: 0.1340 - lr: 4.7621e-04 - 42s/epoch - 18ms/step\n",
      "Epoch 58/400\n",
      "2392/2392 - 42s - loss: 0.1485 - val_loss: 0.1343 - lr: 4.7536e-04 - 42s/epoch - 18ms/step\n",
      "Epoch 59/400\n",
      "2392/2392 - 42s - loss: 0.1484 - val_loss: 0.1335 - lr: 4.7451e-04 - 42s/epoch - 18ms/step\n",
      "Epoch 60/400\n",
      "2392/2392 - 42s - loss: 0.1483 - val_loss: 0.1337 - lr: 4.7364e-04 - 42s/epoch - 18ms/step\n",
      "Epoch 61/400\n",
      "2392/2392 - 43s - loss: 0.1482 - val_loss: 0.1340 - lr: 4.7275e-04 - 43s/epoch - 18ms/step\n",
      "Epoch 62/400\n",
      "2392/2392 - 42s - loss: 0.1481 - val_loss: 0.1338 - lr: 4.7185e-04 - 42s/epoch - 18ms/step\n",
      "Epoch 63/400\n",
      "2392/2392 - 42s - loss: 0.1480 - val_loss: 0.1334 - lr: 4.7094e-04 - 42s/epoch - 18ms/step\n",
      "Epoch 64/400\n",
      "2392/2392 - 42s - loss: 0.1479 - val_loss: 0.1336 - lr: 4.7002e-04 - 42s/epoch - 18ms/step\n",
      "Epoch 65/400\n",
      "2392/2392 - 42s - loss: 0.1478 - val_loss: 0.1336 - lr: 4.6908e-04 - 42s/epoch - 18ms/step\n",
      "Epoch 66/400\n",
      "2392/2392 - 42s - loss: 0.1477 - val_loss: 0.1328 - lr: 4.6812e-04 - 42s/epoch - 18ms/step\n",
      "Epoch 67/400\n",
      "2392/2392 - 42s - loss: 0.1476 - val_loss: 0.1329 - lr: 4.6716e-04 - 42s/epoch - 18ms/step\n",
      "Epoch 68/400\n",
      "2392/2392 - 42s - loss: 0.1476 - val_loss: 0.1328 - lr: 4.6618e-04 - 42s/epoch - 18ms/step\n",
      "Epoch 69/400\n",
      "2392/2392 - 42s - loss: 0.1475 - val_loss: 0.1327 - lr: 4.6519e-04 - 42s/epoch - 18ms/step\n",
      "Epoch 70/400\n",
      "2392/2392 - 42s - loss: 0.1474 - val_loss: 0.1329 - lr: 4.6418e-04 - 42s/epoch - 18ms/step\n",
      "Epoch 71/400\n",
      "2392/2392 - 42s - loss: 0.1473 - val_loss: 0.1325 - lr: 4.6316e-04 - 42s/epoch - 18ms/step\n",
      "Epoch 72/400\n",
      "2392/2392 - 42s - loss: 0.1472 - val_loss: 0.1333 - lr: 4.6213e-04 - 42s/epoch - 18ms/step\n",
      "Epoch 73/400\n",
      "2392/2392 - 42s - loss: 0.1471 - val_loss: 0.1329 - lr: 4.6108e-04 - 42s/epoch - 18ms/step\n",
      "Epoch 74/400\n",
      "2392/2392 - 42s - loss: 0.1471 - val_loss: 0.1325 - lr: 4.6002e-04 - 42s/epoch - 18ms/step\n",
      "Epoch 75/400\n",
      "2392/2392 - 42s - loss: 0.1470 - val_loss: 0.1334 - lr: 4.5895e-04 - 42s/epoch - 18ms/step\n",
      "Epoch 76/400\n",
      "2392/2392 - 42s - loss: 0.1469 - val_loss: 0.1334 - lr: 4.5787e-04 - 42s/epoch - 18ms/step\n",
      "Epoch 77/400\n",
      "2392/2392 - 42s - loss: 0.1468 - val_loss: 0.1329 - lr: 4.5677e-04 - 42s/epoch - 18ms/step\n",
      "Epoch 78/400\n",
      "2392/2392 - 42s - loss: 0.1467 - val_loss: 0.1329 - lr: 4.5566e-04 - 42s/epoch - 18ms/step\n",
      "Epoch 79/400\n",
      "2392/2392 - 42s - loss: 0.1467 - val_loss: 0.1325 - lr: 4.5454e-04 - 42s/epoch - 18ms/step\n",
      "Epoch 80/400\n",
      "2392/2392 - 42s - loss: 0.1466 - val_loss: 0.1325 - lr: 4.5340e-04 - 42s/epoch - 18ms/step\n",
      "Epoch 81/400\n",
      "2392/2392 - 42s - loss: 0.1465 - val_loss: 0.1325 - lr: 4.5225e-04 - 42s/epoch - 18ms/step\n",
      "Epoch 82/400\n",
      "2392/2392 - 42s - loss: 0.1464 - val_loss: 0.1326 - lr: 4.5109e-04 - 42s/epoch - 18ms/step\n",
      "Epoch 83/400\n",
      "2392/2392 - 42s - loss: 0.1464 - val_loss: 0.1321 - lr: 4.4992e-04 - 42s/epoch - 18ms/step\n",
      "Epoch 84/400\n",
      "2392/2392 - 42s - loss: 0.1463 - val_loss: 0.1323 - lr: 4.4874e-04 - 42s/epoch - 18ms/step\n",
      "Epoch 85/400\n",
      "2392/2392 - 42s - loss: 0.1462 - val_loss: 0.1325 - lr: 4.4754e-04 - 42s/epoch - 18ms/step\n",
      "Epoch 86/400\n",
      "2392/2392 - 42s - loss: 0.1462 - val_loss: 0.1327 - lr: 4.4633e-04 - 42s/epoch - 18ms/step\n",
      "Epoch 87/400\n",
      "2392/2392 - 42s - loss: 0.1461 - val_loss: 0.1332 - lr: 4.4511e-04 - 42s/epoch - 18ms/step\n",
      "Epoch 88/400\n",
      "2392/2392 - 42s - loss: 0.1460 - val_loss: 0.1321 - lr: 4.4387e-04 - 42s/epoch - 18ms/step\n",
      "Epoch 89/400\n",
      "2392/2392 - 42s - loss: 0.1460 - val_loss: 0.1325 - lr: 4.4263e-04 - 42s/epoch - 18ms/step\n",
      "Epoch 90/400\n",
      "2392/2392 - 42s - loss: 0.1459 - val_loss: 0.1321 - lr: 4.4137e-04 - 42s/epoch - 18ms/step\n",
      "Epoch 91/400\n",
      "2392/2392 - 42s - loss: 0.1458 - val_loss: 0.1320 - lr: 4.4010e-04 - 42s/epoch - 18ms/step\n",
      "Epoch 92/400\n",
      "2392/2392 - 42s - loss: 0.1458 - val_loss: 0.1325 - lr: 4.3882e-04 - 42s/epoch - 18ms/step\n",
      "Epoch 93/400\n",
      "2392/2392 - 42s - loss: 0.1457 - val_loss: 0.1317 - lr: 4.3753e-04 - 42s/epoch - 18ms/step\n",
      "Epoch 94/400\n",
      "2392/2392 - 42s - loss: 0.1457 - val_loss: 0.1323 - lr: 4.3622e-04 - 42s/epoch - 18ms/step\n",
      "Epoch 95/400\n",
      "2392/2392 - 42s - loss: 0.1457 - val_loss: 0.1320 - lr: 4.3491e-04 - 42s/epoch - 18ms/step\n",
      "Epoch 96/400\n",
      "2392/2392 - 42s - loss: 0.1455 - val_loss: 0.1318 - lr: 4.3358e-04 - 42s/epoch - 18ms/step\n",
      "Epoch 97/400\n",
      "2392/2392 - 42s - loss: 0.1455 - val_loss: 0.1324 - lr: 4.3224e-04 - 42s/epoch - 18ms/step\n",
      "Epoch 98/400\n",
      "2392/2392 - 42s - loss: 0.1454 - val_loss: 0.1321 - lr: 4.3089e-04 - 42s/epoch - 18ms/step\n",
      "Epoch 99/400\n",
      "2392/2392 - 42s - loss: 0.1453 - val_loss: 0.1318 - lr: 4.2953e-04 - 42s/epoch - 18ms/step\n",
      "Epoch 100/400\n",
      "2392/2392 - 42s - loss: 0.1453 - val_loss: 0.1317 - lr: 4.2816e-04 - 42s/epoch - 18ms/step\n",
      "Epoch 101/400\n",
      "2392/2392 - 43s - loss: 0.1453 - val_loss: 0.1319 - lr: 4.2678e-04 - 43s/epoch - 18ms/step\n",
      "Epoch 102/400\n",
      "2392/2392 - 42s - loss: 0.1452 - val_loss: 0.1317 - lr: 4.2538e-04 - 42s/epoch - 18ms/step\n",
      "Epoch 103/400\n",
      "2392/2392 - 42s - loss: 0.1451 - val_loss: 0.1321 - lr: 4.2398e-04 - 42s/epoch - 18ms/step\n",
      "Epoch 104/400\n",
      "2392/2392 - 42s - loss: 0.1451 - val_loss: 0.1318 - lr: 4.2256e-04 - 42s/epoch - 18ms/step\n",
      "Epoch 105/400\n",
      "2392/2392 - 42s - loss: 0.1450 - val_loss: 0.1316 - lr: 4.2114e-04 - 42s/epoch - 18ms/step\n",
      "Epoch 106/400\n",
      "2392/2392 - 42s - loss: 0.1449 - val_loss: 0.1320 - lr: 4.1970e-04 - 42s/epoch - 18ms/step\n",
      "Epoch 107/400\n",
      "2392/2392 - 42s - loss: 0.1449 - val_loss: 0.1318 - lr: 4.1825e-04 - 42s/epoch - 18ms/step\n",
      "Epoch 108/400\n",
      "2392/2392 - 42s - loss: 0.1448 - val_loss: 0.1319 - lr: 4.1680e-04 - 42s/epoch - 18ms/step\n",
      "Epoch 109/400\n",
      "2392/2392 - 42s - loss: 0.1448 - val_loss: 0.1322 - lr: 4.1533e-04 - 42s/epoch - 18ms/step\n",
      "Epoch 110/400\n",
      "2392/2392 - 42s - loss: 0.1447 - val_loss: 0.1316 - lr: 4.1385e-04 - 42s/epoch - 18ms/step\n",
      "Epoch 111/400\n",
      "2392/2392 - 42s - loss: 0.1446 - val_loss: 0.1319 - lr: 4.1236e-04 - 42s/epoch - 18ms/step\n",
      "Epoch 112/400\n",
      "2392/2392 - 42s - loss: 0.1446 - val_loss: 0.1318 - lr: 4.1086e-04 - 42s/epoch - 18ms/step\n",
      "Epoch 113/400\n",
      "2392/2392 - 42s - loss: 0.1445 - val_loss: 0.1318 - lr: 4.0936e-04 - 42s/epoch - 18ms/step\n",
      "Epoch 114/400\n",
      "2392/2392 - 42s - loss: 0.1445 - val_loss: 0.1319 - lr: 4.0784e-04 - 42s/epoch - 18ms/step\n",
      "Epoch 115/400\n",
      "2392/2392 - 42s - loss: 0.1444 - val_loss: 0.1315 - lr: 4.0631e-04 - 42s/epoch - 18ms/step\n",
      "Epoch 116/400\n",
      "2392/2392 - 42s - loss: 0.1444 - val_loss: 0.1316 - lr: 4.0477e-04 - 42s/epoch - 18ms/step\n",
      "Epoch 117/400\n",
      "2392/2392 - 42s - loss: 0.1443 - val_loss: 0.1315 - lr: 4.0323e-04 - 42s/epoch - 18ms/step\n",
      "Epoch 118/400\n",
      "2392/2392 - 42s - loss: 0.1443 - val_loss: 0.1318 - lr: 4.0167e-04 - 42s/epoch - 18ms/step\n",
      "Epoch 119/400\n",
      "2392/2392 - 42s - loss: 0.1442 - val_loss: 0.1318 - lr: 4.0011e-04 - 42s/epoch - 18ms/step\n",
      "Epoch 120/400\n",
      "2392/2392 - 42s - loss: 0.1442 - val_loss: 0.1316 - lr: 3.9853e-04 - 42s/epoch - 18ms/step\n",
      "Epoch 121/400\n",
      "2392/2392 - 42s - loss: 0.1441 - val_loss: 0.1316 - lr: 3.9695e-04 - 42s/epoch - 18ms/step\n",
      "Epoch 122/400\n",
      "2392/2392 - 42s - loss: 0.1440 - val_loss: 0.1316 - lr: 3.9535e-04 - 42s/epoch - 18ms/step\n",
      "Epoch 123/400\n",
      "2392/2392 - 42s - loss: 0.1440 - val_loss: 0.1317 - lr: 3.9375e-04 - 42s/epoch - 18ms/step\n",
      "Epoch 124/400\n",
      "2392/2392 - 42s - loss: 0.1440 - val_loss: 0.1312 - lr: 3.9214e-04 - 42s/epoch - 18ms/step\n",
      "Epoch 125/400\n",
      "2392/2392 - 42s - loss: 0.1439 - val_loss: 0.1315 - lr: 3.9052e-04 - 42s/epoch - 18ms/step\n",
      "Epoch 126/400\n",
      "2392/2392 - 42s - loss: 0.1438 - val_loss: 0.1318 - lr: 3.8889e-04 - 42s/epoch - 18ms/step\n",
      "Epoch 127/400\n",
      "2392/2392 - 42s - loss: 0.1438 - val_loss: 0.1318 - lr: 3.8726e-04 - 42s/epoch - 18ms/step\n",
      "Epoch 128/400\n",
      "2392/2392 - 42s - loss: 0.1437 - val_loss: 0.1316 - lr: 3.8561e-04 - 42s/epoch - 18ms/step\n",
      "Epoch 129/400\n",
      "2392/2392 - 42s - loss: 0.1437 - val_loss: 0.1319 - lr: 3.8396e-04 - 42s/epoch - 18ms/step\n",
      "Epoch 130/400\n",
      "2392/2392 - 42s - loss: 0.1436 - val_loss: 0.1315 - lr: 3.8229e-04 - 42s/epoch - 18ms/step\n",
      "Epoch 131/400\n",
      "2392/2392 - 42s - loss: 0.1436 - val_loss: 0.1314 - lr: 3.8062e-04 - 42s/epoch - 18ms/step\n",
      "Epoch 132/400\n",
      "2392/2392 - 42s - loss: 0.1435 - val_loss: 0.1311 - lr: 3.7895e-04 - 42s/epoch - 18ms/step\n",
      "Epoch 133/400\n",
      "2392/2392 - 42s - loss: 0.1434 - val_loss: 0.1313 - lr: 3.7726e-04 - 42s/epoch - 18ms/step\n",
      "Epoch 134/400\n",
      "2392/2392 - 42s - loss: 0.1434 - val_loss: 0.1316 - lr: 3.7557e-04 - 42s/epoch - 18ms/step\n",
      "Epoch 135/400\n",
      "2392/2392 - 42s - loss: 0.1433 - val_loss: 0.1310 - lr: 3.7386e-04 - 42s/epoch - 18ms/step\n",
      "Epoch 136/400\n",
      "2392/2392 - 42s - loss: 0.1433 - val_loss: 0.1312 - lr: 3.7216e-04 - 42s/epoch - 18ms/step\n",
      "Epoch 137/400\n",
      "2392/2392 - 42s - loss: 0.1433 - val_loss: 0.1315 - lr: 3.7044e-04 - 42s/epoch - 18ms/step\n",
      "Epoch 138/400\n",
      "2392/2392 - 42s - loss: 0.1432 - val_loss: 0.1314 - lr: 3.6871e-04 - 42s/epoch - 18ms/step\n",
      "Epoch 139/400\n",
      "2392/2392 - 42s - loss: 0.1431 - val_loss: 0.1314 - lr: 3.6698e-04 - 42s/epoch - 18ms/step\n",
      "Epoch 140/400\n",
      "2392/2392 - 42s - loss: 0.1430 - val_loss: 0.1312 - lr: 3.6524e-04 - 42s/epoch - 18ms/step\n",
      "Epoch 141/400\n",
      "2392/2392 - 42s - loss: 0.1430 - val_loss: 0.1314 - lr: 3.6350e-04 - 42s/epoch - 18ms/step\n",
      "Epoch 142/400\n",
      "2392/2392 - 43s - loss: 0.1430 - val_loss: 0.1310 - lr: 3.6174e-04 - 43s/epoch - 18ms/step\n",
      "Epoch 143/400\n",
      "2392/2392 - 42s - loss: 0.1429 - val_loss: 0.1313 - lr: 3.5998e-04 - 42s/epoch - 18ms/step\n",
      "Epoch 144/400\n",
      "2392/2392 - 42s - loss: 0.1428 - val_loss: 0.1314 - lr: 3.5822e-04 - 42s/epoch - 18ms/step\n",
      "Epoch 145/400\n",
      "2392/2392 - 42s - loss: 0.1428 - val_loss: 0.1312 - lr: 3.5644e-04 - 42s/epoch - 18ms/step\n",
      "Epoch 146/400\n",
      "2392/2392 - 42s - loss: 0.1428 - val_loss: 0.1317 - lr: 3.5466e-04 - 42s/epoch - 18ms/step\n",
      "Epoch 147/400\n",
      "2392/2392 - 42s - loss: 0.1427 - val_loss: 0.1312 - lr: 3.5288e-04 - 42s/epoch - 18ms/step\n",
      "Epoch 148/400\n",
      "2392/2392 - 42s - loss: 0.1426 - val_loss: 0.1310 - lr: 3.5109e-04 - 42s/epoch - 18ms/step\n",
      "Epoch 149/400\n",
      "2392/2392 - 42s - loss: 0.1427 - val_loss: 0.1310 - lr: 3.4929e-04 - 42s/epoch - 18ms/step\n",
      "Epoch 150/400\n",
      "2392/2392 - 42s - loss: 0.1425 - val_loss: 0.1313 - lr: 3.4748e-04 - 42s/epoch - 18ms/step\n",
      "Epoch 151/400\n",
      "2392/2392 - 42s - loss: 0.1425 - val_loss: 0.1315 - lr: 3.4567e-04 - 42s/epoch - 18ms/step\n",
      "Epoch 152/400\n",
      "2392/2392 - 42s - loss: 0.1424 - val_loss: 0.1311 - lr: 3.4385e-04 - 42s/epoch - 18ms/step\n",
      "Epoch 153/400\n",
      "2392/2392 - 42s - loss: 0.1424 - val_loss: 0.1312 - lr: 3.4203e-04 - 42s/epoch - 18ms/step\n",
      "Epoch 154/400\n",
      "2392/2392 - 42s - loss: 0.1424 - val_loss: 0.1309 - lr: 3.4020e-04 - 42s/epoch - 18ms/step\n",
      "Epoch 155/400\n",
      "2392/2392 - 42s - loss: 0.1422 - val_loss: 0.1312 - lr: 3.3837e-04 - 42s/epoch - 18ms/step\n",
      "Epoch 156/400\n",
      "2392/2392 - 42s - loss: 0.1422 - val_loss: 0.1313 - lr: 3.3653e-04 - 42s/epoch - 18ms/step\n",
      "Epoch 157/400\n",
      "2392/2392 - 42s - loss: 0.1422 - val_loss: 0.1313 - lr: 3.3468e-04 - 42s/epoch - 18ms/step\n",
      "Epoch 158/400\n",
      "2392/2392 - 42s - loss: 0.1421 - val_loss: 0.1310 - lr: 3.3283e-04 - 42s/epoch - 18ms/step\n",
      "Epoch 159/400\n",
      "2392/2392 - 42s - loss: 0.1421 - val_loss: 0.1308 - lr: 3.3098e-04 - 42s/epoch - 18ms/step\n",
      "Epoch 160/400\n",
      "2392/2392 - 42s - loss: 0.1420 - val_loss: 0.1308 - lr: 3.2912e-04 - 42s/epoch - 18ms/step\n",
      "Epoch 161/400\n",
      "2392/2392 - 42s - loss: 0.1419 - val_loss: 0.1311 - lr: 3.2725e-04 - 42s/epoch - 18ms/step\n",
      "Epoch 162/400\n",
      "2392/2392 - 42s - loss: 0.1420 - val_loss: 0.1309 - lr: 3.2538e-04 - 42s/epoch - 18ms/step\n",
      "Epoch 163/400\n",
      "2392/2392 - 42s - loss: 0.1419 - val_loss: 0.1310 - lr: 3.2351e-04 - 42s/epoch - 18ms/step\n",
      "Epoch 164/400\n",
      "2392/2392 - 42s - loss: 0.1418 - val_loss: 0.1310 - lr: 3.2163e-04 - 42s/epoch - 18ms/step\n",
      "Epoch 165/400\n",
      "2392/2392 - 42s - loss: 0.1417 - val_loss: 0.1311 - lr: 3.1975e-04 - 42s/epoch - 18ms/step\n",
      "Epoch 166/400\n",
      "2392/2392 - 42s - loss: 0.1417 - val_loss: 0.1310 - lr: 3.1786e-04 - 42s/epoch - 18ms/step\n",
      "Epoch 167/400\n",
      "2392/2392 - 42s - loss: 0.1416 - val_loss: 0.1313 - lr: 3.1597e-04 - 42s/epoch - 18ms/step\n",
      "Epoch 168/400\n",
      "2392/2392 - 42s - loss: 0.1416 - val_loss: 0.1312 - lr: 3.1407e-04 - 42s/epoch - 18ms/step\n",
      "Epoch 169/400\n",
      "2392/2392 - 42s - loss: 0.1416 - val_loss: 0.1308 - lr: 3.1217e-04 - 42s/epoch - 18ms/step\n",
      "Epoch 170/400\n",
      "2392/2392 - 42s - loss: 0.1415 - val_loss: 0.1312 - lr: 3.1027e-04 - 42s/epoch - 18ms/step\n",
      "Epoch 171/400\n",
      "2392/2392 - 42s - loss: 0.1414 - val_loss: 0.1313 - lr: 3.0836e-04 - 42s/epoch - 18ms/step\n",
      "Epoch 172/400\n",
      "2392/2392 - 42s - loss: 0.1414 - val_loss: 0.1307 - lr: 3.0645e-04 - 42s/epoch - 18ms/step\n",
      "Epoch 173/400\n",
      "2392/2392 - 42s - loss: 0.1413 - val_loss: 0.1311 - lr: 3.0454e-04 - 42s/epoch - 18ms/step\n",
      "Epoch 174/400\n",
      "2392/2392 - 42s - loss: 0.1412 - val_loss: 0.1311 - lr: 3.0262e-04 - 42s/epoch - 18ms/step\n",
      "Epoch 175/400\n",
      "2392/2392 - 42s - loss: 0.1413 - val_loss: 0.1309 - lr: 3.0070e-04 - 42s/epoch - 18ms/step\n",
      "Epoch 176/400\n",
      "2392/2392 - 42s - loss: 0.1412 - val_loss: 0.1307 - lr: 2.9877e-04 - 42s/epoch - 18ms/step\n",
      "Epoch 177/400\n",
      "2392/2392 - 42s - loss: 0.1412 - val_loss: 0.1309 - lr: 2.9685e-04 - 42s/epoch - 18ms/step\n",
      "Epoch 178/400\n",
      "2392/2392 - 42s - loss: 0.1411 - val_loss: 0.1303 - lr: 2.9492e-04 - 42s/epoch - 18ms/step\n",
      "Epoch 179/400\n",
      "2392/2392 - 42s - loss: 0.1411 - val_loss: 0.1308 - lr: 2.9298e-04 - 42s/epoch - 18ms/step\n",
      "Epoch 180/400\n",
      "2392/2392 - 42s - loss: 0.1410 - val_loss: 0.1313 - lr: 2.9105e-04 - 42s/epoch - 18ms/step\n",
      "Epoch 181/400\n",
      "2392/2392 - 42s - loss: 0.1409 - val_loss: 0.1305 - lr: 2.8911e-04 - 42s/epoch - 18ms/step\n",
      "Epoch 182/400\n",
      "2392/2392 - 42s - loss: 0.1409 - val_loss: 0.1309 - lr: 2.8717e-04 - 42s/epoch - 18ms/step\n",
      "Epoch 183/400\n",
      "2392/2392 - 43s - loss: 0.1408 - val_loss: 0.1309 - lr: 2.8523e-04 - 43s/epoch - 18ms/step\n",
      "Epoch 184/400\n",
      "2392/2392 - 42s - loss: 0.1408 - val_loss: 0.1306 - lr: 2.8328e-04 - 42s/epoch - 18ms/step\n",
      "Epoch 185/400\n",
      "2392/2392 - 42s - loss: 0.1407 - val_loss: 0.1308 - lr: 2.8133e-04 - 42s/epoch - 18ms/step\n",
      "Epoch 186/400\n",
      "2392/2392 - 42s - loss: 0.1407 - val_loss: 0.1309 - lr: 2.7938e-04 - 42s/epoch - 18ms/step\n",
      "Epoch 187/400\n",
      "2392/2392 - 42s - loss: 0.1406 - val_loss: 0.1310 - lr: 2.7743e-04 - 42s/epoch - 18ms/step\n",
      "Epoch 188/400\n",
      "2392/2392 - 42s - loss: 0.1406 - val_loss: 0.1309 - lr: 2.7548e-04 - 42s/epoch - 18ms/step\n",
      "Epoch 189/400\n",
      "2392/2392 - 42s - loss: 0.1406 - val_loss: 0.1307 - lr: 2.7353e-04 - 42s/epoch - 18ms/step\n",
      "Epoch 190/400\n",
      "2392/2392 - 42s - loss: 0.1404 - val_loss: 0.1308 - lr: 2.7157e-04 - 42s/epoch - 18ms/step\n",
      "Epoch 191/400\n",
      "2392/2392 - 42s - loss: 0.1405 - val_loss: 0.1308 - lr: 2.6961e-04 - 42s/epoch - 18ms/step\n",
      "Epoch 192/400\n",
      "2392/2392 - 42s - loss: 0.1403 - val_loss: 0.1309 - lr: 2.6766e-04 - 42s/epoch - 18ms/step\n",
      "Epoch 193/400\n",
      "2392/2392 - 42s - loss: 0.1403 - val_loss: 0.1303 - lr: 2.6570e-04 - 42s/epoch - 18ms/step\n",
      "Epoch 194/400\n",
      "2392/2392 - 42s - loss: 0.1402 - val_loss: 0.1307 - lr: 2.6374e-04 - 42s/epoch - 18ms/step\n",
      "Epoch 195/400\n",
      "2392/2392 - 42s - loss: 0.1402 - val_loss: 0.1305 - lr: 2.6178e-04 - 42s/epoch - 18ms/step\n",
      "Epoch 196/400\n",
      "2392/2392 - 42s - loss: 0.1402 - val_loss: 0.1309 - lr: 2.5981e-04 - 42s/epoch - 18ms/step\n",
      "Epoch 197/400\n",
      "2392/2392 - 42s - loss: 0.1401 - val_loss: 0.1307 - lr: 2.5785e-04 - 42s/epoch - 18ms/step\n",
      "Epoch 198/400\n",
      "2392/2392 - 42s - loss: 0.1401 - val_loss: 0.1303 - lr: 2.5589e-04 - 42s/epoch - 18ms/step\n",
      "Epoch 199/400\n",
      "2392/2392 - 42s - loss: 0.1401 - val_loss: 0.1308 - lr: 2.5393e-04 - 42s/epoch - 18ms/step\n",
      "Epoch 200/400\n",
      "2392/2392 - 42s - loss: 0.1399 - val_loss: 0.1304 - lr: 2.5196e-04 - 42s/epoch - 18ms/step\n",
      "Epoch 201/400\n",
      "2392/2392 - 42s - loss: 0.1399 - val_loss: 0.1305 - lr: 2.5000e-04 - 42s/epoch - 18ms/step\n",
      "Epoch 202/400\n",
      "2392/2392 - 42s - loss: 0.1399 - val_loss: 0.1303 - lr: 2.4804e-04 - 42s/epoch - 18ms/step\n",
      "Epoch 203/400\n",
      "2392/2392 - 42s - loss: 0.1398 - val_loss: 0.1307 - lr: 2.4607e-04 - 42s/epoch - 18ms/step\n",
      "Epoch 204/400\n",
      "2392/2392 - 42s - loss: 0.1398 - val_loss: 0.1308 - lr: 2.4411e-04 - 42s/epoch - 18ms/step\n",
      "Epoch 205/400\n",
      "2392/2392 - 42s - loss: 0.1397 - val_loss: 0.1306 - lr: 2.4215e-04 - 42s/epoch - 18ms/step\n",
      "Epoch 206/400\n",
      "2392/2392 - 42s - loss: 0.1396 - val_loss: 0.1302 - lr: 2.4019e-04 - 42s/epoch - 18ms/step\n",
      "Epoch 207/400\n",
      "2392/2392 - 42s - loss: 0.1396 - val_loss: 0.1306 - lr: 2.3822e-04 - 42s/epoch - 18ms/step\n",
      "Epoch 208/400\n",
      "2392/2392 - 42s - loss: 0.1395 - val_loss: 0.1304 - lr: 2.3626e-04 - 42s/epoch - 18ms/step\n",
      "Epoch 209/400\n",
      "2392/2392 - 42s - loss: 0.1395 - val_loss: 0.1300 - lr: 2.3430e-04 - 42s/epoch - 18ms/step\n",
      "Epoch 210/400\n",
      "2392/2392 - 42s - loss: 0.1394 - val_loss: 0.1307 - lr: 2.3234e-04 - 42s/epoch - 18ms/step\n",
      "Epoch 211/400\n",
      "2392/2392 - 42s - loss: 0.1394 - val_loss: 0.1305 - lr: 2.3039e-04 - 42s/epoch - 18ms/step\n",
      "Epoch 212/400\n",
      "2392/2392 - 42s - loss: 0.1394 - val_loss: 0.1301 - lr: 2.2843e-04 - 42s/epoch - 18ms/step\n",
      "Epoch 213/400\n",
      "2392/2392 - 42s - loss: 0.1393 - val_loss: 0.1303 - lr: 2.2647e-04 - 42s/epoch - 18ms/step\n",
      "Epoch 214/400\n",
      "2392/2392 - 42s - loss: 0.1393 - val_loss: 0.1308 - lr: 2.2452e-04 - 42s/epoch - 18ms/step\n",
      "Epoch 215/400\n",
      "2392/2392 - 42s - loss: 0.1391 - val_loss: 0.1307 - lr: 2.2257e-04 - 42s/epoch - 18ms/step\n",
      "Epoch 216/400\n",
      "2392/2392 - 42s - loss: 0.1392 - val_loss: 0.1304 - lr: 2.2062e-04 - 42s/epoch - 18ms/step\n",
      "Epoch 217/400\n",
      "2392/2392 - 42s - loss: 0.1391 - val_loss: 0.1308 - lr: 2.1867e-04 - 42s/epoch - 18ms/step\n",
      "Epoch 218/400\n",
      "2392/2392 - 42s - loss: 0.1390 - val_loss: 0.1307 - lr: 2.1672e-04 - 42s/epoch - 18ms/step\n",
      "Epoch 219/400\n",
      "2392/2392 - 42s - loss: 0.1390 - val_loss: 0.1306 - lr: 2.1477e-04 - 42s/epoch - 18ms/step\n",
      "Epoch 220/400\n",
      "2392/2392 - 42s - loss: 0.1390 - val_loss: 0.1305 - lr: 2.1283e-04 - 42s/epoch - 18ms/step\n",
      "Epoch 221/400\n",
      "2392/2392 - 42s - loss: 0.1389 - val_loss: 0.1306 - lr: 2.1089e-04 - 42s/epoch - 18ms/step\n",
      "Epoch 222/400\n",
      "2392/2392 - 42s - loss: 0.1388 - val_loss: 0.1305 - lr: 2.0895e-04 - 42s/epoch - 18ms/step\n",
      "Epoch 223/400\n",
      "2392/2392 - 42s - loss: 0.1388 - val_loss: 0.1302 - lr: 2.0702e-04 - 42s/epoch - 18ms/step\n",
      "Epoch 224/400\n",
      "2392/2392 - 43s - loss: 0.1388 - val_loss: 0.1308 - lr: 2.0508e-04 - 43s/epoch - 18ms/step\n",
      "Epoch 225/400\n",
      "2392/2392 - 43s - loss: 0.1387 - val_loss: 0.1305 - lr: 2.0315e-04 - 43s/epoch - 18ms/step\n",
      "Epoch 226/400\n",
      "2392/2392 - 42s - loss: 0.1387 - val_loss: 0.1305 - lr: 2.0123e-04 - 42s/epoch - 18ms/step\n",
      "Epoch 227/400\n",
      "2392/2392 - 42s - loss: 0.1386 - val_loss: 0.1304 - lr: 1.9930e-04 - 42s/epoch - 18ms/step\n",
      "Epoch 228/400\n",
      "2392/2392 - 42s - loss: 0.1385 - val_loss: 0.1300 - lr: 1.9738e-04 - 42s/epoch - 18ms/step\n",
      "Epoch 229/400\n",
      "2392/2392 - 42s - loss: 0.1384 - val_loss: 0.1304 - lr: 1.9546e-04 - 42s/epoch - 18ms/step\n",
      "Epoch 230/400\n",
      "2392/2392 - 42s - loss: 0.1385 - val_loss: 0.1301 - lr: 1.9355e-04 - 42s/epoch - 18ms/step\n",
      "Epoch 231/400\n",
      "2392/2392 - 42s - loss: 0.1384 - val_loss: 0.1305 - lr: 1.9164e-04 - 42s/epoch - 18ms/step\n",
      "Epoch 232/400\n",
      "2392/2392 - 42s - loss: 0.1383 - val_loss: 0.1299 - lr: 1.8973e-04 - 42s/epoch - 18ms/step\n",
      "Epoch 233/400\n",
      "2392/2392 - 42s - loss: 0.1383 - val_loss: 0.1301 - lr: 1.8783e-04 - 42s/epoch - 18ms/step\n",
      "Epoch 234/400\n",
      "2392/2392 - 42s - loss: 0.1382 - val_loss: 0.1303 - lr: 1.8593e-04 - 42s/epoch - 18ms/step\n",
      "Epoch 235/400\n",
      "2392/2392 - 42s - loss: 0.1382 - val_loss: 0.1303 - lr: 1.8403e-04 - 42s/epoch - 18ms/step\n",
      "Epoch 236/400\n",
      "2392/2392 - 42s - loss: 0.1381 - val_loss: 0.1305 - lr: 1.8214e-04 - 42s/epoch - 18ms/step\n",
      "Epoch 237/400\n",
      "2392/2392 - 42s - loss: 0.1382 - val_loss: 0.1303 - lr: 1.8025e-04 - 42s/epoch - 18ms/step\n",
      "Epoch 238/400\n",
      "2392/2392 - 42s - loss: 0.1380 - val_loss: 0.1304 - lr: 1.7837e-04 - 42s/epoch - 18ms/step\n",
      "Epoch 239/400\n",
      "2392/2392 - 42s - loss: 0.1380 - val_loss: 0.1303 - lr: 1.7649e-04 - 42s/epoch - 18ms/step\n",
      "Epoch 240/400\n",
      "2392/2392 - 42s - loss: 0.1380 - val_loss: 0.1302 - lr: 1.7462e-04 - 42s/epoch - 18ms/step\n",
      "Epoch 241/400\n",
      "2392/2392 - 42s - loss: 0.1379 - val_loss: 0.1302 - lr: 1.7275e-04 - 42s/epoch - 18ms/step\n",
      "Epoch 242/400\n",
      "2392/2392 - 42s - loss: 0.1379 - val_loss: 0.1302 - lr: 1.7088e-04 - 42s/epoch - 18ms/step\n",
      "Epoch 243/400\n",
      "2392/2392 - 42s - loss: 0.1378 - val_loss: 0.1306 - lr: 1.6902e-04 - 42s/epoch - 18ms/step\n",
      "Epoch 244/400\n",
      "2392/2392 - 42s - loss: 0.1377 - val_loss: 0.1304 - lr: 1.6717e-04 - 42s/epoch - 18ms/step\n",
      "Epoch 245/400\n",
      "2392/2392 - 42s - loss: 0.1377 - val_loss: 0.1303 - lr: 1.6532e-04 - 42s/epoch - 18ms/step\n",
      "Epoch 246/400\n",
      "2392/2392 - 42s - loss: 0.1377 - val_loss: 0.1301 - lr: 1.6347e-04 - 42s/epoch - 18ms/step\n",
      "Epoch 247/400\n",
      "2392/2392 - 42s - loss: 0.1377 - val_loss: 0.1300 - lr: 1.6163e-04 - 42s/epoch - 18ms/step\n",
      "Epoch 248/400\n",
      "2392/2392 - 42s - loss: 0.1375 - val_loss: 0.1307 - lr: 1.5980e-04 - 42s/epoch - 18ms/step\n",
      "Epoch 249/400\n",
      "2392/2392 - 42s - loss: 0.1375 - val_loss: 0.1304 - lr: 1.5797e-04 - 42s/epoch - 18ms/step\n",
      "Epoch 250/400\n",
      "2392/2392 - 42s - loss: 0.1375 - val_loss: 0.1300 - lr: 1.5615e-04 - 42s/epoch - 18ms/step\n",
      "Epoch 251/400\n",
      "2392/2392 - 42s - loss: 0.1375 - val_loss: 0.1304 - lr: 1.5433e-04 - 42s/epoch - 18ms/step\n",
      "Epoch 252/400\n",
      "2392/2392 - 42s - loss: 0.1374 - val_loss: 0.1302 - lr: 1.5252e-04 - 42s/epoch - 18ms/step\n",
      "Epoch 253/400\n",
      "2392/2392 - 42s - loss: 0.1373 - val_loss: 0.1304 - lr: 1.5071e-04 - 42s/epoch - 18ms/step\n",
      "Epoch 254/400\n",
      "2392/2392 - 42s - loss: 0.1373 - val_loss: 0.1302 - lr: 1.4891e-04 - 42s/epoch - 18ms/step\n",
      "Epoch 255/400\n",
      "2392/2392 - 42s - loss: 0.1372 - val_loss: 0.1302 - lr: 1.4712e-04 - 42s/epoch - 18ms/step\n",
      "Epoch 256/400\n",
      "2392/2392 - 42s - loss: 0.1372 - val_loss: 0.1303 - lr: 1.4534e-04 - 42s/epoch - 18ms/step\n",
      "Epoch 257/400\n",
      "2392/2392 - 42s - loss: 0.1372 - val_loss: 0.1302 - lr: 1.4356e-04 - 42s/epoch - 18ms/step\n",
      "Epoch 258/400\n",
      "2392/2392 - 42s - loss: 0.1370 - val_loss: 0.1304 - lr: 1.4178e-04 - 42s/epoch - 18ms/step\n",
      "Epoch 259/400\n",
      "2392/2392 - 42s - loss: 0.1370 - val_loss: 0.1300 - lr: 1.4002e-04 - 42s/epoch - 18ms/step\n",
      "Epoch 260/400\n",
      "2392/2392 - 42s - loss: 0.1370 - val_loss: 0.1305 - lr: 1.3826e-04 - 42s/epoch - 18ms/step\n",
      "Epoch 261/400\n",
      "2392/2392 - 42s - loss: 0.1370 - val_loss: 0.1305 - lr: 1.3650e-04 - 42s/epoch - 18ms/step\n",
      "Epoch 262/400\n",
      "2392/2392 - 42s - loss: 0.1369 - val_loss: 0.1303 - lr: 1.3476e-04 - 42s/epoch - 18ms/step\n",
      "Epoch 263/400\n",
      "2392/2392 - 42s - loss: 0.1368 - val_loss: 0.1303 - lr: 1.3302e-04 - 42s/epoch - 18ms/step\n",
      "Epoch 264/400\n",
      "2392/2392 - 42s - loss: 0.1368 - val_loss: 0.1302 - lr: 1.3129e-04 - 42s/epoch - 18ms/step\n",
      "Epoch 265/400\n",
      "2392/2392 - 42s - loss: 0.1368 - val_loss: 0.1305 - lr: 1.2956e-04 - 42s/epoch - 18ms/step\n",
      "Epoch 266/400\n",
      "2392/2392 - 43s - loss: 0.1367 - val_loss: 0.1299 - lr: 1.2784e-04 - 43s/epoch - 18ms/step\n",
      "Epoch 267/400\n",
      "2392/2392 - 42s - loss: 0.1367 - val_loss: 0.1306 - lr: 1.2614e-04 - 42s/epoch - 18ms/step\n",
      "Epoch 268/400\n",
      "2392/2392 - 42s - loss: 0.1366 - val_loss: 0.1304 - lr: 1.2443e-04 - 42s/epoch - 18ms/step\n",
      "Epoch 269/400\n",
      "2392/2392 - 42s - loss: 0.1366 - val_loss: 0.1299 - lr: 1.2274e-04 - 42s/epoch - 18ms/step\n",
      "Epoch 270/400\n",
      "2392/2392 - 42s - loss: 0.1365 - val_loss: 0.1302 - lr: 1.2105e-04 - 42s/epoch - 18ms/step\n",
      "Epoch 271/400\n",
      "2392/2392 - 42s - loss: 0.1365 - val_loss: 0.1303 - lr: 1.1938e-04 - 42s/epoch - 18ms/step\n",
      "Epoch 272/400\n",
      "2392/2392 - 42s - loss: 0.1364 - val_loss: 0.1303 - lr: 1.1771e-04 - 42s/epoch - 18ms/step\n",
      "Epoch 273/400\n",
      "2392/2392 - 42s - loss: 0.1365 - val_loss: 0.1302 - lr: 1.1604e-04 - 42s/epoch - 18ms/step\n",
      "Epoch 274/400\n",
      "2392/2392 - 42s - loss: 0.1363 - val_loss: 0.1304 - lr: 1.1439e-04 - 42s/epoch - 18ms/step\n",
      "Epoch 275/400\n",
      "2392/2392 - 42s - loss: 0.1363 - val_loss: 0.1304 - lr: 1.1274e-04 - 42s/epoch - 18ms/step\n",
      "Epoch 276/400\n",
      "2392/2392 - 42s - loss: 0.1363 - val_loss: 0.1302 - lr: 1.1111e-04 - 42s/epoch - 18ms/step\n",
      "Epoch 277/400\n",
      "2392/2392 - 42s - loss: 0.1363 - val_loss: 0.1305 - lr: 1.0948e-04 - 42s/epoch - 18ms/step\n",
      "Epoch 278/400\n",
      "2392/2392 - 42s - loss: 0.1361 - val_loss: 0.1301 - lr: 1.0786e-04 - 42s/epoch - 18ms/step\n",
      "Epoch 279/400\n",
      "2392/2392 - 42s - loss: 0.1361 - val_loss: 0.1303 - lr: 1.0625e-04 - 42s/epoch - 18ms/step\n",
      "Epoch 280/400\n",
      "2392/2392 - 42s - loss: 0.1361 - val_loss: 0.1301 - lr: 1.0465e-04 - 42s/epoch - 18ms/step\n",
      "Epoch 281/400\n",
      "2392/2392 - 42s - loss: 0.1361 - val_loss: 0.1302 - lr: 1.0305e-04 - 42s/epoch - 18ms/step\n",
      "Epoch 282/400\n",
      "2392/2392 - 42s - loss: 0.1360 - val_loss: 0.1301 - lr: 1.0147e-04 - 42s/epoch - 18ms/step\n",
      "Epoch 283/400\n",
      "2392/2392 - 42s - loss: 0.1361 - val_loss: 0.1301 - lr: 9.9895e-05 - 42s/epoch - 18ms/step\n",
      "Epoch 284/400\n",
      "2392/2392 - 42s - loss: 0.1358 - val_loss: 0.1301 - lr: 9.8329e-05 - 42s/epoch - 18ms/step\n",
      "Epoch 285/400\n",
      "2392/2392 - 42s - loss: 0.1359 - val_loss: 0.1304 - lr: 9.6773e-05 - 42s/epoch - 18ms/step\n",
      "Epoch 286/400\n",
      "2392/2392 - 42s - loss: 0.1359 - val_loss: 0.1302 - lr: 9.5227e-05 - 42s/epoch - 18ms/step\n",
      "Epoch 287/400\n",
      "2392/2392 - 42s - loss: 0.1358 - val_loss: 0.1302 - lr: 9.3689e-05 - 42s/epoch - 18ms/step\n",
      "Epoch 288/400\n",
      "2392/2392 - 42s - loss: 0.1358 - val_loss: 0.1304 - lr: 9.2162e-05 - 42s/epoch - 18ms/step\n",
      "Epoch 289/400\n",
      "2392/2392 - 42s - loss: 0.1358 - val_loss: 0.1299 - lr: 9.0644e-05 - 42s/epoch - 18ms/step\n",
      "Epoch 290/400\n",
      "2392/2392 - 42s - loss: 0.1357 - val_loss: 0.1300 - lr: 8.9136e-05 - 42s/epoch - 18ms/step\n",
      "Epoch 291/400\n",
      "2392/2392 - 42s - loss: 0.1356 - val_loss: 0.1300 - lr: 8.7638e-05 - 42s/epoch - 18ms/step\n",
      "Epoch 292/400\n",
      "2392/2392 - 42s - loss: 0.1357 - val_loss: 0.1300 - lr: 8.6150e-05 - 42s/epoch - 18ms/step\n",
      "Epoch 293/400\n",
      "2392/2392 - 42s - loss: 0.1356 - val_loss: 0.1302 - lr: 8.4672e-05 - 42s/epoch - 18ms/step\n",
      "Epoch 294/400\n",
      "2392/2392 - 42s - loss: 0.1355 - val_loss: 0.1302 - lr: 8.3204e-05 - 42s/epoch - 18ms/step\n",
      "Epoch 295/400\n",
      "2392/2392 - 42s - loss: 0.1355 - val_loss: 0.1304 - lr: 8.1747e-05 - 42s/epoch - 18ms/step\n",
      "Epoch 296/400\n",
      "2392/2392 - 42s - loss: 0.1354 - val_loss: 0.1301 - lr: 8.0300e-05 - 42s/epoch - 18ms/step\n",
      "Epoch 297/400\n",
      "2392/2392 - 42s - loss: 0.1355 - val_loss: 0.1303 - lr: 7.8863e-05 - 42s/epoch - 18ms/step\n",
      "Epoch 298/400\n",
      "2392/2392 - 42s - loss: 0.1354 - val_loss: 0.1302 - lr: 7.7437e-05 - 42s/epoch - 18ms/step\n",
      "Epoch 299/400\n",
      "2392/2392 - 42s - loss: 0.1354 - val_loss: 0.1300 - lr: 7.6022e-05 - 42s/epoch - 18ms/step\n",
      "Epoch 300/400\n",
      "2392/2392 - 42s - loss: 0.1353 - val_loss: 0.1301 - lr: 7.4617e-05 - 42s/epoch - 18ms/step\n",
      "Epoch 301/400\n",
      "2392/2392 - 42s - loss: 0.1353 - val_loss: 0.1301 - lr: 7.3223e-05 - 42s/epoch - 18ms/step\n",
      "Epoch 302/400\n",
      "2392/2392 - 42s - loss: 0.1353 - val_loss: 0.1301 - lr: 7.1840e-05 - 42s/epoch - 18ms/step\n",
      "Epoch 303/400\n",
      "2392/2392 - 42s - loss: 0.1352 - val_loss: 0.1304 - lr: 7.0468e-05 - 42s/epoch - 18ms/step\n",
      "Epoch 304/400\n",
      "2392/2392 - 42s - loss: 0.1352 - val_loss: 0.1302 - lr: 6.9108e-05 - 42s/epoch - 18ms/step\n",
      "Epoch 305/400\n",
      "2392/2392 - 42s - loss: 0.1352 - val_loss: 0.1301 - lr: 6.7758e-05 - 42s/epoch - 18ms/step\n",
      "Epoch 306/400\n",
      "2392/2392 - 42s - loss: 0.1351 - val_loss: 0.1300 - lr: 6.6419e-05 - 42s/epoch - 18ms/step\n",
      "Epoch 307/400\n",
      "2392/2392 - 43s - loss: 0.1351 - val_loss: 0.1302 - lr: 6.5092e-05 - 43s/epoch - 18ms/step\n",
      "Epoch 308/400\n",
      "2392/2392 - 42s - loss: 0.1350 - val_loss: 0.1301 - lr: 6.3776e-05 - 42s/epoch - 18ms/step\n",
      "Epoch 309/400\n",
      "2392/2392 - 42s - loss: 0.1350 - val_loss: 0.1300 - lr: 6.2472e-05 - 42s/epoch - 18ms/step\n",
      "Epoch 310/400\n",
      "2392/2392 - 42s - loss: 0.1350 - val_loss: 0.1301 - lr: 6.1180e-05 - 42s/epoch - 18ms/step\n",
      "Epoch 311/400\n",
      "2392/2392 - 42s - loss: 0.1349 - val_loss: 0.1302 - lr: 5.9899e-05 - 42s/epoch - 18ms/step\n",
      "Epoch 312/400\n",
      "2392/2392 - 42s - loss: 0.1349 - val_loss: 0.1300 - lr: 5.8629e-05 - 42s/epoch - 18ms/step\n",
      "Epoch 313/400\n",
      "2392/2392 - 42s - loss: 0.1349 - val_loss: 0.1302 - lr: 5.7372e-05 - 42s/epoch - 18ms/step\n",
      "Epoch 314/400\n",
      "2392/2392 - 42s - loss: 0.1349 - val_loss: 0.1302 - lr: 5.6126e-05 - 42s/epoch - 18ms/step\n",
      "Epoch 315/400\n",
      "2392/2392 - 42s - loss: 0.1348 - val_loss: 0.1302 - lr: 5.4892e-05 - 42s/epoch - 18ms/step\n",
      "Epoch 316/400\n",
      "2392/2392 - 42s - loss: 0.1348 - val_loss: 0.1302 - lr: 5.3671e-05 - 42s/epoch - 18ms/step\n",
      "Epoch 317/400\n",
      "2392/2392 - 42s - loss: 0.1348 - val_loss: 0.1301 - lr: 5.2461e-05 - 42s/epoch - 18ms/step\n",
      "Epoch 318/400\n",
      "2392/2392 - 42s - loss: 0.1347 - val_loss: 0.1300 - lr: 5.1264e-05 - 42s/epoch - 18ms/step\n",
      "Epoch 319/400\n",
      "2392/2392 - 42s - loss: 0.1347 - val_loss: 0.1300 - lr: 5.0079e-05 - 42s/epoch - 18ms/step\n",
      "Epoch 320/400\n",
      "2392/2392 - 42s - loss: 0.1346 - val_loss: 0.1301 - lr: 4.8906e-05 - 42s/epoch - 18ms/step\n",
      "Epoch 321/400\n",
      "2392/2392 - 42s - loss: 0.1346 - val_loss: 0.1301 - lr: 4.7746e-05 - 42s/epoch - 18ms/step\n",
      "Epoch 322/400\n",
      "2392/2392 - 42s - loss: 0.1346 - val_loss: 0.1299 - lr: 4.6598e-05 - 42s/epoch - 18ms/step\n",
      "Epoch 323/400\n",
      "2392/2392 - 42s - loss: 0.1346 - val_loss: 0.1301 - lr: 4.5463e-05 - 42s/epoch - 18ms/step\n",
      "Epoch 324/400\n",
      "2392/2392 - 42s - loss: 0.1345 - val_loss: 0.1301 - lr: 4.4340e-05 - 42s/epoch - 18ms/step\n",
      "Epoch 325/400\n",
      "2392/2392 - 42s - loss: 0.1345 - val_loss: 0.1301 - lr: 4.3230e-05 - 42s/epoch - 18ms/step\n",
      "Epoch 326/400\n",
      "2392/2392 - 42s - loss: 0.1345 - val_loss: 0.1301 - lr: 4.2133e-05 - 42s/epoch - 18ms/step\n",
      "Epoch 327/400\n",
      "2392/2392 - 42s - loss: 0.1344 - val_loss: 0.1302 - lr: 4.1048e-05 - 42s/epoch - 18ms/step\n",
      "Epoch 328/400\n",
      "2392/2392 - 42s - loss: 0.1344 - val_loss: 0.1302 - lr: 3.9977e-05 - 42s/epoch - 18ms/step\n",
      "Epoch 329/400\n",
      "2392/2392 - 42s - loss: 0.1344 - val_loss: 0.1301 - lr: 3.8918e-05 - 42s/epoch - 18ms/step\n",
      "Epoch 330/400\n",
      "2392/2392 - 42s - loss: 0.1344 - val_loss: 0.1301 - lr: 3.7872e-05 - 42s/epoch - 18ms/step\n",
      "Epoch 331/400\n",
      "2392/2392 - 42s - loss: 0.1343 - val_loss: 0.1300 - lr: 3.6840e-05 - 42s/epoch - 18ms/step\n",
      "Epoch 332/400\n",
      "2392/2392 - 42s - loss: 0.1343 - val_loss: 0.1301 - lr: 3.5821e-05 - 42s/epoch - 18ms/step\n",
      "Epoch 333/400\n",
      "2392/2392 - 42s - loss: 0.1343 - val_loss: 0.1302 - lr: 3.4814e-05 - 42s/epoch - 18ms/step\n",
      "Epoch 334/400\n",
      "2392/2392 - 42s - loss: 0.1342 - val_loss: 0.1302 - lr: 3.3822e-05 - 42s/epoch - 18ms/step\n",
      "Epoch 335/400\n",
      "2392/2392 - 42s - loss: 0.1343 - val_loss: 0.1302 - lr: 3.2842e-05 - 42s/epoch - 18ms/step\n",
      "Epoch 336/400\n",
      "2392/2392 - 42s - loss: 0.1341 - val_loss: 0.1302 - lr: 3.1876e-05 - 42s/epoch - 18ms/step\n",
      "Epoch 337/400\n",
      "2392/2392 - 42s - loss: 0.1342 - val_loss: 0.1301 - lr: 3.0923e-05 - 42s/epoch - 18ms/step\n",
      "Epoch 338/400\n",
      "2392/2392 - 42s - loss: 0.1342 - val_loss: 0.1301 - lr: 2.9984e-05 - 42s/epoch - 18ms/step\n",
      "Epoch 339/400\n",
      "2392/2392 - 42s - loss: 0.1341 - val_loss: 0.1301 - lr: 2.9059e-05 - 42s/epoch - 18ms/step\n",
      "Epoch 340/400\n",
      "2392/2392 - 42s - loss: 0.1341 - val_loss: 0.1302 - lr: 2.8147e-05 - 42s/epoch - 18ms/step\n",
      "Epoch 341/400\n",
      "2392/2392 - 42s - loss: 0.1341 - val_loss: 0.1302 - lr: 2.7248e-05 - 42s/epoch - 18ms/step\n",
      "Epoch 342/400\n",
      "2392/2392 - 42s - loss: 0.1340 - val_loss: 0.1300 - lr: 2.6364e-05 - 42s/epoch - 18ms/step\n",
      "Epoch 343/400\n",
      "2392/2392 - 42s - loss: 0.1341 - val_loss: 0.1300 - lr: 2.5493e-05 - 42s/epoch - 18ms/step\n",
      "Epoch 344/400\n",
      "2392/2392 - 42s - loss: 0.1340 - val_loss: 0.1301 - lr: 2.4636e-05 - 42s/epoch - 18ms/step\n",
      "Epoch 345/400\n",
      "2392/2392 - 42s - loss: 0.1340 - val_loss: 0.1301 - lr: 2.3793e-05 - 42s/epoch - 18ms/step\n",
      "Epoch 346/400\n",
      "2392/2392 - 42s - loss: 0.1339 - val_loss: 0.1302 - lr: 2.2964e-05 - 42s/epoch - 18ms/step\n",
      "Epoch 347/400\n",
      "2392/2392 - 42s - loss: 0.1341 - val_loss: 0.1302 - lr: 2.2149e-05 - 42s/epoch - 18ms/step\n",
      "Epoch 348/400\n",
      "2392/2392 - 43s - loss: 0.1339 - val_loss: 0.1302 - lr: 2.1348e-05 - 43s/epoch - 18ms/step\n",
      "Epoch 349/400\n",
      "2392/2392 - 42s - loss: 0.1339 - val_loss: 0.1300 - lr: 2.0561e-05 - 42s/epoch - 18ms/step\n",
      "Epoch 350/400\n",
      "2392/2392 - 42s - loss: 0.1339 - val_loss: 0.1302 - lr: 1.9789e-05 - 42s/epoch - 18ms/step\n",
      "Epoch 351/400\n",
      "2392/2392 - 42s - loss: 0.1339 - val_loss: 0.1301 - lr: 1.9030e-05 - 42s/epoch - 18ms/step\n",
      "Epoch 352/400\n",
      "2392/2392 - 42s - loss: 0.1339 - val_loss: 0.1300 - lr: 1.8286e-05 - 42s/epoch - 18ms/step\n",
      "Epoch 353/400\n",
      "2392/2392 - 42s - loss: 0.1339 - val_loss: 0.1301 - lr: 1.7556e-05 - 42s/epoch - 18ms/step\n",
      "Epoch 354/400\n",
      "2392/2392 - 42s - loss: 0.1338 - val_loss: 0.1302 - lr: 1.6840e-05 - 42s/epoch - 18ms/step\n",
      "Epoch 355/400\n",
      "2392/2392 - 42s - loss: 0.1338 - val_loss: 0.1301 - lr: 1.6139e-05 - 42s/epoch - 18ms/step\n",
      "Epoch 356/400\n",
      "2392/2392 - 42s - loss: 0.1339 - val_loss: 0.1301 - lr: 1.5452e-05 - 42s/epoch - 18ms/step\n",
      "Epoch 357/400\n",
      "2392/2392 - 42s - loss: 0.1337 - val_loss: 0.1301 - lr: 1.4780e-05 - 42s/epoch - 18ms/step\n",
      "Epoch 358/400\n",
      "2392/2392 - 42s - loss: 0.1338 - val_loss: 0.1301 - lr: 1.4122e-05 - 42s/epoch - 18ms/step\n",
      "Epoch 359/400\n",
      "2392/2392 - 42s - loss: 0.1337 - val_loss: 0.1301 - lr: 1.3479e-05 - 42s/epoch - 18ms/step\n",
      "Epoch 360/400\n",
      "2392/2392 - 42s - loss: 0.1337 - val_loss: 0.1301 - lr: 1.2850e-05 - 42s/epoch - 18ms/step\n",
      "Epoch 361/400\n",
      "2392/2392 - 42s - loss: 0.1337 - val_loss: 0.1302 - lr: 1.2236e-05 - 42s/epoch - 18ms/step\n",
      "Epoch 362/400\n",
      "2392/2392 - 42s - loss: 0.1337 - val_loss: 0.1302 - lr: 1.1636e-05 - 42s/epoch - 18ms/step\n",
      "Epoch 363/400\n",
      "2392/2392 - 42s - loss: 0.1337 - val_loss: 0.1301 - lr: 1.1052e-05 - 42s/epoch - 18ms/step\n",
      "Epoch 364/400\n",
      "2392/2392 - 42s - loss: 0.1336 - val_loss: 0.1300 - lr: 1.0482e-05 - 42s/epoch - 18ms/step\n",
      "Epoch 365/400\n",
      "2392/2392 - 42s - loss: 0.1337 - val_loss: 0.1301 - lr: 9.9266e-06 - 42s/epoch - 18ms/step\n",
      "Epoch 366/400\n",
      "2392/2392 - 42s - loss: 0.1337 - val_loss: 0.1302 - lr: 9.3862e-06 - 42s/epoch - 18ms/step\n",
      "Epoch 367/400\n",
      "2392/2392 - 42s - loss: 0.1336 - val_loss: 0.1302 - lr: 8.8606e-06 - 42s/epoch - 18ms/step\n",
      "Epoch 368/400\n",
      "2392/2392 - 42s - loss: 0.1336 - val_loss: 0.1302 - lr: 8.3500e-06 - 42s/epoch - 18ms/step\n",
      "Epoch 369/400\n",
      "2392/2392 - 42s - loss: 0.1336 - val_loss: 0.1302 - lr: 7.8542e-06 - 42s/epoch - 18ms/step\n",
      "Epoch 370/400\n",
      "2392/2392 - 42s - loss: 0.1337 - val_loss: 0.1301 - lr: 7.3734e-06 - 42s/epoch - 18ms/step\n",
      "Epoch 371/400\n",
      "2392/2392 - 42s - loss: 0.1336 - val_loss: 0.1302 - lr: 6.9075e-06 - 42s/epoch - 18ms/step\n",
      "Epoch 372/400\n",
      "2392/2392 - 42s - loss: 0.1336 - val_loss: 0.1301 - lr: 6.4567e-06 - 42s/epoch - 18ms/step\n",
      "Epoch 373/400\n",
      "2392/2392 - 42s - loss: 0.1336 - val_loss: 0.1302 - lr: 6.0208e-06 - 42s/epoch - 18ms/step\n",
      "Epoch 374/400\n",
      "2392/2392 - 42s - loss: 0.1336 - val_loss: 0.1301 - lr: 5.6000e-06 - 42s/epoch - 18ms/step\n",
      "Epoch 375/400\n",
      "2392/2392 - 42s - loss: 0.1336 - val_loss: 0.1302 - lr: 5.1943e-06 - 42s/epoch - 18ms/step\n",
      "Epoch 376/400\n",
      "2392/2392 - 42s - loss: 0.1335 - val_loss: 0.1301 - lr: 4.8037e-06 - 42s/epoch - 18ms/step\n",
      "Epoch 377/400\n",
      "2392/2392 - 42s - loss: 0.1335 - val_loss: 0.1302 - lr: 4.4282e-06 - 42s/epoch - 18ms/step\n",
      "Epoch 378/400\n",
      "2392/2392 - 42s - loss: 0.1336 - val_loss: 0.1302 - lr: 4.0678e-06 - 42s/epoch - 18ms/step\n",
      "Epoch 379/400\n",
      "2392/2392 - 42s - loss: 0.1335 - val_loss: 0.1301 - lr: 3.7227e-06 - 42s/epoch - 18ms/step\n",
      "Epoch 380/400\n",
      "2392/2392 - 42s - loss: 0.1335 - val_loss: 0.1301 - lr: 3.3927e-06 - 42s/epoch - 18ms/step\n",
      "Epoch 381/400\n",
      "2392/2392 - 42s - loss: 0.1336 - val_loss: 0.1301 - lr: 3.0779e-06 - 42s/epoch - 18ms/step\n",
      "Epoch 382/400\n",
      "2392/2392 - 42s - loss: 0.1335 - val_loss: 0.1302 - lr: 2.7784e-06 - 42s/epoch - 18ms/step\n",
      "Epoch 383/400\n",
      "2392/2392 - 42s - loss: 0.1335 - val_loss: 0.1302 - lr: 2.4941e-06 - 42s/epoch - 18ms/step\n",
      "Epoch 384/400\n",
      "2392/2392 - 42s - loss: 0.1335 - val_loss: 0.1302 - lr: 2.2251e-06 - 42s/epoch - 18ms/step\n",
      "Epoch 385/400\n",
      "2392/2392 - 42s - loss: 0.1335 - val_loss: 0.1301 - lr: 1.9713e-06 - 42s/epoch - 18ms/step\n",
      "Epoch 386/400\n",
      "2392/2392 - 42s - loss: 0.1335 - val_loss: 0.1302 - lr: 1.7329e-06 - 42s/epoch - 18ms/step\n",
      "Epoch 387/400\n",
      "2392/2392 - 42s - loss: 0.1335 - val_loss: 0.1302 - lr: 1.5098e-06 - 42s/epoch - 18ms/step\n",
      "Epoch 388/400\n",
      "2392/2392 - 43s - loss: 0.1336 - val_loss: 0.1301 - lr: 1.3020e-06 - 43s/epoch - 18ms/step\n",
      "Epoch 389/400\n",
      "2392/2392 - 42s - loss: 0.1335 - val_loss: 0.1302 - lr: 1.1095e-06 - 42s/epoch - 18ms/step\n",
      "Epoch 390/400\n",
      "2392/2392 - 42s - loss: 0.1334 - val_loss: 0.1301 - lr: 9.3241e-07 - 42s/epoch - 18ms/step\n",
      "Epoch 391/400\n",
      "2392/2392 - 42s - loss: 0.1335 - val_loss: 0.1301 - lr: 7.7067e-07 - 42s/epoch - 18ms/step\n",
      "Epoch 392/400\n",
      "2392/2392 - 42s - loss: 0.1335 - val_loss: 0.1302 - lr: 6.2430e-07 - 42s/epoch - 18ms/step\n",
      "Epoch 393/400\n",
      "2392/2392 - 42s - loss: 0.1335 - val_loss: 0.1301 - lr: 4.9332e-07 - 42s/epoch - 18ms/step\n",
      "Epoch 394/400\n",
      "2392/2392 - 42s - loss: 0.1335 - val_loss: 0.1301 - lr: 3.7773e-07 - 42s/epoch - 18ms/step\n",
      "Epoch 395/400\n",
      "2392/2392 - 42s - loss: 0.1335 - val_loss: 0.1302 - lr: 2.7753e-07 - 42s/epoch - 18ms/step\n",
      "Epoch 396/400\n",
      "2392/2392 - 42s - loss: 0.1335 - val_loss: 0.1301 - lr: 1.9274e-07 - 42s/epoch - 18ms/step\n",
      "Epoch 397/400\n",
      "2392/2392 - 42s - loss: 0.1335 - val_loss: 0.1301 - lr: 1.2336e-07 - 42s/epoch - 18ms/step\n",
      "Epoch 398/400\n",
      "2392/2392 - 42s - loss: 0.1334 - val_loss: 0.1301 - lr: 6.9392e-08 - 42s/epoch - 18ms/step\n",
      "Epoch 399/400\n",
      "2392/2392 - 42s - loss: 0.1335 - val_loss: 0.1301 - lr: 3.0842e-08 - 42s/epoch - 18ms/step\n",
      "Epoch 400/400\n",
      "2392/2392 - 42s - loss: 0.1335 - val_loss: 0.1301 - lr: 7.7106e-09 - 42s/epoch - 18ms/step\n"
     ]
    }
   ],
   "source": [
    "history = model.fit(\n",
    "    train_dataset,\n",
    "    validation_data=val_dataset,\n",
    "    epochs=N_EPOCHS,\n",
    "    steps_per_epoch = steps_per_epoch,\n",
    "    validation_steps=val_steps_per_epoch,\n",
    "    verbose = 2,\n",
    "    callbacks=[\n",
    "        save_model_callback(),\n",
    "        lr_callback,\n",
    "    ]\n",
    ")"
   ]
  },
  {
   "cell_type": "markdown",
   "id": "dca50991",
   "metadata": {
    "papermill": {
     "duration": 0.051181,
     "end_time": "2023-10-22T18:00:22.898755",
     "exception": false,
     "start_time": "2023-10-22T18:00:22.847574",
     "status": "completed"
    },
    "tags": []
   },
   "source": [
    "## Plotting loss"
   ]
  },
  {
   "cell_type": "code",
   "execution_count": 20,
   "id": "60c62e09",
   "metadata": {
    "execution": {
     "iopub.execute_input": "2023-10-22T18:00:23.002730Z",
     "iopub.status.busy": "2023-10-22T18:00:23.002399Z",
     "iopub.status.idle": "2023-10-22T18:00:23.185867Z",
     "shell.execute_reply": "2023-10-22T18:00:23.184940Z"
    },
    "papermill": {
     "duration": 0.237913,
     "end_time": "2023-10-22T18:00:23.187823",
     "exception": false,
     "start_time": "2023-10-22T18:00:22.949910",
     "status": "completed"
    },
    "tags": []
   },
   "outputs": [
    {
     "data": {
      "text/plain": [
       "[<matplotlib.lines.Line2D at 0x7ead0c680be0>]"
      ]
     },
     "execution_count": 20,
     "metadata": {},
     "output_type": "execute_result"
    },
    {
     "data": {
      "image/png": "[encoded data removed]",
      "text/plain": [
       "<Figure size 640x480 with 1 Axes>"
      ]
     },
     "metadata": {},
     "output_type": "display_data"
    }
   ],
   "source": [
    "plt.plot(history.history['loss'])\n",
    "plt.plot(history.history['val_loss'])"
   ]
  },
  {
   "cell_type": "markdown",
   "id": "03b80c04",
   "metadata": {
    "papermill": {
     "duration": 0.05204,
     "end_time": "2023-10-22T18:00:23.292074",
     "exception": false,
     "start_time": "2023-10-22T18:00:23.240034",
     "status": "completed"
    },
    "tags": []
   },
   "source": [
    "# Inference\n",
    "Doing the inference in a separate notebook was easier, so I split it. Sorry about that. Find the inference notebook [HERE](https://www.kaggle.com/code/shlomoron/srrf-transformer-tpu-inference)."
   ]
  }
 ],
 "metadata": {
  "kernelspec": {
   "display_name": "Python 3",
   "language": "python",
   "name": "python3"
  },
  "language_info": {
   "codemirror_mode": {
    "name": "ipython",
    "version": 3
   },
   "file_extension": ".py",
   "mimetype": "text/x-python",
   "name": "python",
   "nbconvert_exporter": "python",
   "pygments_lexer": "ipython3",
   "version": "3.11.0"
  },
  "papermill": {
   "default_parameters": {},
   "duration": 17302.661146,
   "end_time": "2023-10-22T18:00:30.089618",
   "environment_variables": {},
   "exception": null,
   "input_path": "__notebook__.ipynb",
   "output_path": "__notebook__.ipynb",
   "parameters": {},
   "start_time": "2023-10-22T13:12:07.428472",
   "version": "2.4.0"
  }
 },
 "nbformat": 4,
 "nbformat_minor": 5
}
